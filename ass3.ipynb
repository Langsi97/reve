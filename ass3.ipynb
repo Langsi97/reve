{
 "cells": [
  {
   "cell_type": "code",
   "execution_count": 43,
   "metadata": {},
   "outputs": [],
   "source": [
    "def generate_sequence(n):\n",
    "    # Taking care of the infinite recursion in case n == 0.\n",
    "    if n == 0:\n",
    "        raise RecursionError('maximum recursion depth exceeded')\n",
    "    # Base case: if n is already 1, return a list with just 1.\n",
    "    elif n == 1:\n",
    "        return [1]\n",
    "    # If n is even, add it to the list and recursively call the function with n/2.\n",
    "    elif n % 2 == 0:\n",
    "        return [n] + generate_sequence(n // 2)\n",
    "    # If n is odd, add it to the list and recursively call the function with 3n+1.\n",
    "    else:\n",
    "        return [n] + generate_sequence(3 * n + 1)\n",
    "\n",
    "\n"
   ]
  },
  {
   "cell_type": "code",
   "execution_count": 44,
   "metadata": {},
   "outputs": [
    {
     "ename": "RecursionError",
     "evalue": "maximum recursion depth exceeded",
     "output_type": "error",
     "traceback": [
      "\u001b[1;31m---------------------------------------------------------------------------\u001b[0m",
      "\u001b[1;31mRecursionError\u001b[0m                            Traceback (most recent call last)",
      "Cell \u001b[1;32mIn[44], line 1\u001b[0m\n\u001b[1;32m----> 1\u001b[0m generate_sequence(\u001b[39m0\u001b[39;49m)\n",
      "Cell \u001b[1;32mIn[43], line 4\u001b[0m, in \u001b[0;36mgenerate_sequence\u001b[1;34m(n)\u001b[0m\n\u001b[0;32m      1\u001b[0m \u001b[39mdef\u001b[39;00m \u001b[39mgenerate_sequence\u001b[39m(n):\n\u001b[0;32m      2\u001b[0m     \u001b[39m# Taking care of the infinite recursion in case n == 0.\u001b[39;00m\n\u001b[0;32m      3\u001b[0m     \u001b[39mif\u001b[39;00m n \u001b[39m==\u001b[39m \u001b[39m0\u001b[39m:\n\u001b[1;32m----> 4\u001b[0m         \u001b[39mraise\u001b[39;00m \u001b[39mRecursionError\u001b[39;00m(\u001b[39m'\u001b[39m\u001b[39mmaximum recursion depth exceeded\u001b[39m\u001b[39m'\u001b[39m)\n\u001b[0;32m      5\u001b[0m     \u001b[39m# Base case: if n is already 1, return a list with just 1.\u001b[39;00m\n\u001b[0;32m      6\u001b[0m     \u001b[39melif\u001b[39;00m n \u001b[39m==\u001b[39m \u001b[39m1\u001b[39m:\n",
      "\u001b[1;31mRecursionError\u001b[0m: maximum recursion depth exceeded"
     ]
    }
   ],
   "source": [
    "generate_sequence(0)"
   ]
  },
  {
   "cell_type": "code",
   "execution_count": 33,
   "metadata": {},
   "outputs": [],
   "source": [
    "def compute_power(n: int, m: int) -> int:\n",
    "    \"\"\"\n",
    "    Computes the result of raising n to the power of m (i.e. n^m)\n",
    "    in an efficient way using recursion.\n",
    "\n",
    "    \"\"\"\n",
    "    if m == 0:\n",
    "        # If exponent is 0, base case: any number raised to 0 is 1\n",
    "        return 1\n",
    "    elif m == 1:\n",
    "        # If exponent is 1, base case: any number raised to 1 is itself\n",
    "        return n\n",
    "    elif m % 2 == 0:\n",
    "        # If exponent is even, use the property n^(m/2) * n^(m/2) = n^m\n",
    "        # Recursively compute n^(m/2) and multiply the result with itself\n",
    "        return compute_power(n, m//2) * compute_power(n, m//2)\n",
    "    else:\n",
    "        # If exponent is odd, use the property n^m = n * n^(m-1)\n",
    "        # Recursively compute n^(m-1) and multiply the result with n\n",
    "        return n * compute_power(n, m-1)\n"
   ]
  },
  {
   "cell_type": "code",
   "execution_count": 35,
   "metadata": {},
   "outputs": [
    {
     "data": {
      "text/plain": [
       "16"
      ]
     },
     "execution_count": 35,
     "metadata": {},
     "output_type": "execute_result"
    }
   ],
   "source": [
    "\n",
    "compute_power(-4, 2)\n"
   ]
  }
 ],
 "metadata": {
  "kernelspec": {
   "display_name": "APIP2",
   "language": "python",
   "name": "python3"
  },
  "language_info": {
   "codemirror_mode": {
    "name": "ipython",
    "version": 3
   },
   "file_extension": ".py",
   "mimetype": "text/x-python",
   "name": "python",
   "nbconvert_exporter": "python",
   "pygments_lexer": "ipython3",
   "version": "3.11.0"
  },
  "orig_nbformat": 4
 },
 "nbformat": 4,
 "nbformat_minor": 2
}
