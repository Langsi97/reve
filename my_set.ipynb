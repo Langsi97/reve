{
 "cells": [
  {
   "cell_type": "markdown",
   "id": "8150b05d-8288-4d06-b1ed-92eb580a2546",
   "metadata": {},
   "source": [
    "# Common Python Gotcha"
   ]
  },
  {
   "cell_type": "code",
   "execution_count": null,
   "id": "a3ed11c9-770a-4733-a650-6c342be53aa1",
   "metadata": {},
   "outputs": [],
   "source": [
    "def f(l = []):\n",
    "    l.append(\"0\")\n",
    "    print(l)"
   ]
  },
  {
   "cell_type": "code",
   "execution_count": null,
   "id": "24fa32d8-b7e1-4baf-a96f-f4d460f76730",
   "metadata": {},
   "outputs": [],
   "source": [
    "f()"
   ]
  },
  {
   "cell_type": "code",
   "execution_count": null,
   "id": "e1151399-a6fd-4e56-88d4-54ee096b2b2e",
   "metadata": {},
   "outputs": [],
   "source": [
    "f()"
   ]
  },
  {
   "cell_type": "markdown",
   "id": "e65841b0-383f-4e45-bd22-801f9dc5b94f",
   "metadata": {},
   "source": [
    "[Python Tutor](https://pythontutor.com/visualize.html#code=def%20f%28l%20%3D%20%5B%5D%29%3A%0A%20%20%20%20l.append%28%220%22%29%0A%20%20%20%20print%28l%29%0A%20%20%20%20%0Af%28%29%0Af%28%29&cumulative=false&curInstr=0&heapPrimitives=nevernest&mode=display&origin=opt-frontend.js&py=3&rawInputLstJSON=%5B%5D&textReferences=false)"
   ]
  },
  {
   "cell_type": "markdown",
   "id": "5b6bd991-7409-48c5-8457-8521f54df4d0",
   "metadata": {},
   "source": [
    "Python's default arguments are evaluated once when the function is defined, not each\n",
    "time the function is called (like it is in say, Ruby). This means that if you use a mutable\n",
    "default argument and mutate it, you will and have mutated that object for all future\n",
    "calls to the function as well."
   ]
  },
  {
   "cell_type": "markdown",
   "id": "77bf5dd6-bb79-4ce8-9de4-e6bb24cc33dd",
   "metadata": {},
   "source": [
    "## Solution"
   ]
  },
  {
   "cell_type": "code",
   "execution_count": 1,
   "id": "70b22373-c489-4371-95df-e97ca2dd3f7f",
   "metadata": {},
   "outputs": [],
   "source": [
    "def f(l = None):\n",
    "    if l is None:\n",
    "        l = []  \n",
    "    l.append(\"0\")\n",
    "    print(l)"
   ]
  },
  {
   "cell_type": "code",
   "execution_count": 2,
   "id": "cca06220-0d53-4922-a62f-a35e1d1e14d4",
   "metadata": {
    "tags": []
   },
   "outputs": [
    {
     "name": "stdout",
     "output_type": "stream",
     "text": [
      "['0']\n"
     ]
    }
   ],
   "source": [
    "f()"
   ]
  },
  {
   "cell_type": "code",
   "execution_count": 3,
   "id": "691ea146-5d84-424f-a904-1107f4c44aaa",
   "metadata": {},
   "outputs": [
    {
     "name": "stdout",
     "output_type": "stream",
     "text": [
      "['0']\n"
     ]
    }
   ],
   "source": [
    "f()"
   ]
  },
  {
   "cell_type": "markdown",
   "id": "e73daff8-1e86-4675-bdd7-aeb2d64879e5",
   "metadata": {},
   "source": [
    "# MySet\n",
    "\n",
    "Set implementation"
   ]
  },
  {
   "cell_type": "code",
   "execution_count": null,
   "id": "165b0ecc-9b39-4fe6-8c27-b2a91dbc90ba",
   "metadata": {},
   "outputs": [],
   "source": [
    "from dataclasses import dataclass, field\n",
    "\n",
    "@dataclass\n",
    "class MySet:\n",
    "    contents: list[int] = field(default_factory=list) \n",
    "    #contents: list[int] = []\n",
    "    \n",
    "    def clear(self):\n",
    "        self.contents = []\n",
    "    \n",
    "    def contains(self,a):\n",
    "        return a in self.contents\n",
    "    \n",
    "    def add(self,a):\n",
    "        if not self.contains(a):\n",
    "            self.contents.append(a)\n",
    "            \n",
    "    def rm(self,a):\n",
    "        if not self.contains(a):\n",
    "            raise ValueError\n",
    "        else:\n",
    "            self.contents.remove(a)"
   ]
  },
  {
   "cell_type": "code",
   "execution_count": null,
   "id": "e93d938e-ea06-4a35-b2f0-c345111aca19",
   "metadata": {},
   "outputs": [],
   "source": [
    "S = MySet()"
   ]
  },
  {
   "cell_type": "code",
   "execution_count": null,
   "id": "2a571f07-c5aa-4187-9000-f61347bb57e5",
   "metadata": {},
   "outputs": [],
   "source": [
    "S"
   ]
  },
  {
   "cell_type": "code",
   "execution_count": null,
   "id": "2e13211c-657a-4d43-846c-267fd624669f",
   "metadata": {},
   "outputs": [],
   "source": [
    "for i in range(10):\n",
    "    S.add(i)"
   ]
  },
  {
   "cell_type": "code",
   "execution_count": null,
   "id": "1e8cce8a-928c-41b0-a0bc-57e30350dafe",
   "metadata": {},
   "outputs": [],
   "source": [
    "S"
   ]
  },
  {
   "cell_type": "code",
   "execution_count": null,
   "id": "9d5e0fb0-40e8-4563-8aab-47f70c47dfde",
   "metadata": {},
   "outputs": [],
   "source": [
    "S.rm(1)"
   ]
  },
  {
   "cell_type": "code",
   "execution_count": null,
   "id": "52b8b307-042a-4a00-bfdc-de09a4192a2f",
   "metadata": {},
   "outputs": [],
   "source": [
    "S"
   ]
  },
  {
   "cell_type": "code",
   "execution_count": null,
   "id": "6e2a22c1-990b-46d4-94bb-c5f7370fdc01",
   "metadata": {},
   "outputs": [],
   "source": [
    "S.rm(1)"
   ]
  },
  {
   "cell_type": "code",
   "execution_count": null,
   "id": "bbb2c829-649b-4eb7-b2a1-93a4888de7e2",
   "metadata": {},
   "outputs": [],
   "source": [
    "S.clear()"
   ]
  },
  {
   "cell_type": "code",
   "execution_count": null,
   "id": "0c2a38f7-f14e-46c3-80b9-8d2ff28282ad",
   "metadata": {},
   "outputs": [],
   "source": [
    "S"
   ]
  },
  {
   "cell_type": "markdown",
   "id": "0896b25c-7bad-4bfa-aa15-18b06706d6f4",
   "metadata": {},
   "source": [
    "[Python Tutor](https://pythontutor.com/visualize.html#code=class%20MySet%3A%0A%20%20%20%20def%20__init__%28self%29%3A%0A%20%20%20%20%20%20%20%20self.contents%20%3D%20%5B%5D%0A%20%20%20%20def%20clear%28self%29%3A%0A%20%20%20%20%20%20%20%20self.contents%20%3D%20%5B%5D%0A%20%20%20%20def%20contains%28self,a%29%3A%0A%20%20%20%20%20%20%20%20return%20a%20in%20self.contents%0A%20%20%20%20def%20add%28self,a%29%3A%0A%20%20%20%20%20%20%20%20if%20not%20self.contains%28a%29%3A%0A%20%20%20%20%20%20%20%20%20%20%20%20self.contents.append%28a%29%0A%20%20%20%20def%20rm%28self,a%29%3A%0A%20%20%20%20%20%20%20%20if%20not%20self.contains%28a%29%3A%0A%20%20%20%20%20%20%20%20%20%20%20%20raise%20ValueError%0A%20%20%20%20%20%20%20%20else%3A%0A%20%20%20%20%20%20%20%20%20%20%20%20self.contents.remove%28a%29%0A%20%20%20%20%20%20%20%20%20%20%20%20%0AS%20%3D%20MySet%28%29%0AS.add%280%29%0AS.add%281%29%0AM%20%3D%20MySet%28%29%0AM.add%283%29%0A&cumulative=false&curInstr=0&heapPrimitives=nevernest&mode=display&origin=opt-frontend.js&py=3&rawInputLstJSON=%5B%5D&textReferences=false)"
   ]
  },
  {
   "cell_type": "code",
   "execution_count": null,
   "id": "159b25e0-9fce-4aeb-8c9a-04246aaf2b58",
   "metadata": {},
   "outputs": [],
   "source": []
  }
 ],
 "metadata": {
  "kernelspec": {
   "display_name": "Python 3 (ipykernel)",
   "language": "python",
   "name": "python3"
  },
  "language_info": {
   "codemirror_mode": {
    "name": "ipython",
    "version": 3
   },
   "file_extension": ".py",
   "mimetype": "text/x-python",
   "name": "python",
   "nbconvert_exporter": "python",
   "pygments_lexer": "ipython3",
   "version": "3.11.0"
  }
 },
 "nbformat": 4,
 "nbformat_minor": 5
}
