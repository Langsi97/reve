{
 "cells": [
  {
   "cell_type": "code",
   "execution_count": 1,
   "metadata": {},
   "outputs": [],
   "source": [
    "class InfixExpression:\n",
    "    def __init__(self, expression):\n",
    "        self.__expression = expression\n",
    "        \n",
    "    @property\n",
    "    def expression(self):\n",
    "        return self.__expression\n",
    "    \n",
    "    @expression.setter\n",
    "    def expression(self, new_expression):\n",
    "        self.__expression = new_expression\n",
    "        \n",
    "    def update_expression(self, operator, expression):\n",
    "        self.__expression = f\"({self.__expression}){operator}({expression})\"\n",
    "        \n",
    "    def convert_to_postfix(self):\n",
    "        stack = []\n",
    "        postfix = []\n",
    "        precedence = {\"+\": 1, \"-\": 1, \"*\": 2, \"/\": 2, \"^\": 3}\n",
    "        for token in self.__expression:\n",
    "            if token.isalnum():\n",
    "                postfix.append(token)\n",
    "            elif token in precedence:\n",
    "                while stack and stack[-1] != \"(\" and precedence[token] <= precedence.get(stack[-1], 0):\n",
    "                    postfix.append(stack.pop())\n",
    "                stack.append(token)\n",
    "            elif token == \"(\":\n",
    "                stack.append(token)\n",
    "            elif token == \")\":\n",
    "                while stack and stack[-1] != \"(\":\n",
    "                    postfix.append(stack.pop())\n",
    "                stack.pop()\n",
    "        while stack:\n",
    "            postfix.append(stack.pop())\n",
    "        return \"\".join(postfix)\n"
   ]
  },
  {
   "cell_type": "code",
   "execution_count": 2,
   "metadata": {},
   "outputs": [
    {
     "name": "stdout",
     "output_type": "stream",
     "text": [
      "ABC*+\n",
      "AB*C+\n",
      "ABC+*\n",
      "abcd^e-fgh*+^*+i-\n",
      "ABC*DEF^/G*-H*+\n"
     ]
    }
   ],
   "source": [
    "e1 = InfixExpression(\"A+B*C\")\n",
    "e2 = InfixExpression(\"A*B+C\")\n",
    "e3 = InfixExpression(\"A*(B+C)\")\n",
    "e4 = InfixExpression(\"a+b*(c^d-e)^(f+g*h)-i\")\n",
    "e5 = InfixExpression(\"A+(B*C-(D/E^F)*G)*H\")\n",
    "\n",
    "print(e1.convert_to_postfix()) # output: ABC*+\n",
    "print(e2.convert_to_postfix()) # output: AB*C+\n",
    "print(e3.convert_to_postfix()) # output: ABC+*\n",
    "print(e4.convert_to_postfix())\n",
    "print(e5.convert_to_postfix())"
   ]
  }
 ],
 "metadata": {
  "kernelspec": {
   "display_name": "APIP2",
   "language": "python",
   "name": "python3"
  },
  "language_info": {
   "codemirror_mode": {
    "name": "ipython",
    "version": 3
   },
   "file_extension": ".py",
   "mimetype": "text/x-python",
   "name": "python",
   "nbconvert_exporter": "python",
   "pygments_lexer": "ipython3",
   "version": "3.11.0"
  },
  "orig_nbformat": 4
 },
 "nbformat": 4,
 "nbformat_minor": 2
}
