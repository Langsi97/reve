{
 "cells": [
  {
   "cell_type": "markdown",
   "id": "c7bb31d1-a494-4461-8d1a-001a6766fc80",
   "metadata": {},
   "source": [
    "# Exponential number of recursive calls"
   ]
  },
  {
   "cell_type": "code",
   "execution_count": null,
   "id": "4e163a70-997f-407c-9435-1a5cc3569d5f",
   "metadata": {},
   "outputs": [],
   "source": [
    "number_of_calls = 0\n",
    "\n",
    "def fib(n):\n",
    "    global number_of_calls\n",
    "    number_of_calls += 1\n",
    "    if n <= 1 :\n",
    "        return n\n",
    "    t = fib(n-1) + fib(n-2)\n",
    "    return t\n",
    "\n",
    "print(fib(35)) \n",
    "print (number_of_calls) "
   ]
  },
  {
   "cell_type": "markdown",
   "id": "a427b210-61bc-4cb6-b0b5-15bbffb9cf37",
   "metadata": {},
   "source": [
    "# Storing already computed values in a dictionary: memoization"
   ]
  },
  {
   "cell_type": "code",
   "execution_count": null,
   "id": "668c7bf7-209a-426b-be53-61bedc76c3ce",
   "metadata": {},
   "outputs": [],
   "source": [
    "alreadyknown = {0: 0, 1: 1}\n",
    "\n",
    "def fib (n):\n",
    "    if n not in alreadyknown:\n",
    "        new_value = fib(n-1) + fib (n-2)\n",
    "        alreadyknown[n] = new_value\n",
    "    return alreadyknown[n]\n",
    "\n",
    "print(fib(35))"
   ]
  },
  {
   "cell_type": "code",
   "execution_count": null,
   "id": "a205efca-52d2-4563-875c-b68a86aac4df",
   "metadata": {},
   "outputs": [],
   "source": [
    "print(fib(100))"
   ]
  },
  {
   "cell_type": "markdown",
   "id": "869adb2f-2e36-42ad-b47e-2a31c965e4d1",
   "metadata": {},
   "source": [
    "# Memoization through a built-in decorator"
   ]
  },
  {
   "cell_type": "markdown",
   "id": "23aef77f-035b-428b-b525-f5f7aa955a50",
   "metadata": {},
   "source": [
    "[https://docs.python.org/3/library/functools.html](https://docs.python.org/3/library/functools.html)"
   ]
  },
  {
   "cell_type": "code",
   "execution_count": null,
   "id": "c6ff10d0-e90c-43b6-a150-b98526281369",
   "metadata": {},
   "outputs": [],
   "source": [
    "from functools import cache\n",
    "\n",
    "@cache\n",
    "def fib(n):\n",
    "    if n <= 1 :\n",
    "        return n\n",
    "    t = fib(n-1) + fib(n-2)\n",
    "    return t\n",
    "\n",
    "fib(100)"
   ]
  },
  {
   "cell_type": "code",
   "execution_count": null,
   "id": "0c7e0f9c-1c05-4029-bd37-69972cd949dd",
   "metadata": {},
   "outputs": [],
   "source": []
  }
 ],
 "metadata": {
  "kernelspec": {
   "display_name": "Python 3 (ipykernel)",
   "language": "python",
   "name": "python3"
  },
  "language_info": {
   "codemirror_mode": {
    "name": "ipython",
    "version": 3
   },
   "file_extension": ".py",
   "mimetype": "text/x-python",
   "name": "python",
   "nbconvert_exporter": "python",
   "pygments_lexer": "ipython3",
   "version": "3.9.9"
  }
 },
 "nbformat": 4,
 "nbformat_minor": 5
}
