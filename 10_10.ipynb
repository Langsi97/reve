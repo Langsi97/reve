{
 "cells": [
  {
   "cell_type": "code",
   "execution_count": null,
   "metadata": {},
   "outputs": [],
   "source": [
    "%load_ext autoreload\n",
    "%autoreload 2"
   ]
  },
  {
   "cell_type": "markdown",
   "metadata": {},
   "source": [
    "# 10.10 Operator Overloading \n",
    "* Can use **operator overloading** to define how Python’s operators should handle objects of your own types\n",
    "* Can overload most operators\n",
    "* For every overloadable operator, class `object` defines a special method\n",
    "    * e.g., `__add__` for addition (`+`) or `__mul__` for multiplication (`*`)\n",
    "* Overriding these methods enables you to define how a given operator works for objects of your custom class\n",
    "* Complete list of special methods \n",
    ">https://docs.python.org/3/reference/datamodel.html#special-method-names"
   ]
  },
  {
   "cell_type": "markdown",
   "metadata": {},
   "source": [
    "### Operator Overloading Restrictions\n",
    "* Precedence cannot be changed by overloading\n",
    "* Left-to-right or right-to-left grouping of an operator cannot be changed \n",
    "* “Arity” of an operator—whether it’s unary or binary—cannot be changed\n",
    "* Cannot create new operators\n",
    "* How an operator works on objects of built-in types cannot be changed \n",
    "* Works only with objects of custom classes or with a mixture of an object of a custom class and an object of a built-in type "
   ]
  },
  {
   "cell_type": "markdown",
   "metadata": {},
   "source": [
    "### Complex Numbers \n",
    "* We’ll define a class named `Complex` that represents complex numbers\n",
    "* Complex numbers, like –3 + 4i and 6.2 – 11.73i, have the form \n",
    "```python\n",
    "realPart `+` imaginaryPart `* i`\n",
    "``` \n",
    "* `i` is the square root of -1\n",
    "* We'll overload `+` and `+=` "
   ]
  },
  {
   "cell_type": "markdown",
   "metadata": {},
   "source": [
    "## 10.10.1 Test-Driving Class `Complex` "
   ]
  },
  {
   "cell_type": "code",
   "execution_count": null,
   "metadata": {},
   "outputs": [],
   "source": [
    "from complexnumber import Complex"
   ]
  },
  {
   "cell_type": "markdown",
   "metadata": {},
   "source": [
    "* Create and display a couple of `Complex` objects"
   ]
  },
  {
   "cell_type": "code",
   "execution_count": null,
   "metadata": {},
   "outputs": [],
   "source": [
    "x = Complex(real=2, imaginary=4)"
   ]
  },
  {
   "cell_type": "code",
   "execution_count": null,
   "metadata": {},
   "outputs": [],
   "source": [
    "x"
   ]
  },
  {
   "cell_type": "code",
   "execution_count": null,
   "metadata": {},
   "outputs": [],
   "source": [
    "y = Complex(real=5, imaginary=-1)"
   ]
  },
  {
   "cell_type": "code",
   "execution_count": null,
   "metadata": {},
   "outputs": [],
   "source": [
    "y"
   ]
  },
  {
   "cell_type": "markdown",
   "metadata": {},
   "source": [
    "* Use the `+` operator to add the `Complex` objects `x` and `y`\n",
    "* Adds the real parts of the two operands and the imaginary parts of the two operands, then returns a new `Complex` object"
   ]
  },
  {
   "cell_type": "code",
   "execution_count": null,
   "metadata": {},
   "outputs": [],
   "source": [
    "x + y"
   ]
  },
  {
   "cell_type": "markdown",
   "metadata": {},
   "source": [
    "* `+` does not modify either of its operands"
   ]
  },
  {
   "cell_type": "code",
   "execution_count": null,
   "metadata": {},
   "outputs": [],
   "source": [
    "x"
   ]
  },
  {
   "cell_type": "code",
   "execution_count": null,
   "metadata": {},
   "outputs": [],
   "source": [
    "y"
   ]
  },
  {
   "cell_type": "markdown",
   "metadata": {},
   "source": [
    "* Use `+=` to add `y` to `x` and store the result in `x`\n",
    "* `+=` operator _modifies_ its left operand"
   ]
  },
  {
   "cell_type": "code",
   "execution_count": null,
   "metadata": {},
   "outputs": [],
   "source": [
    "x += y"
   ]
  },
  {
   "cell_type": "code",
   "execution_count": null,
   "metadata": {},
   "outputs": [],
   "source": [
    "x"
   ]
  },
  {
   "cell_type": "code",
   "execution_count": null,
   "metadata": {},
   "outputs": [],
   "source": [
    "y"
   ]
  }
 ],
 "metadata": {
  "kernelspec": {
   "display_name": "Python 3 (ipykernel)",
   "language": "python",
   "name": "python3"
  },
  "language_info": {
   "codemirror_mode": {
    "name": "ipython",
    "version": 3
   },
   "file_extension": ".py",
   "mimetype": "text/x-python",
   "name": "python",
   "nbconvert_exporter": "python",
   "pygments_lexer": "ipython3",
   "version": "3.9.13"
  }
 },
 "nbformat": 4,
 "nbformat_minor": 4
}
