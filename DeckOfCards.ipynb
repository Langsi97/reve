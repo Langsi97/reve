{
 "cells": [
  {
   "cell_type": "code",
   "execution_count": null,
   "metadata": {},
   "outputs": [],
   "source": [
    "%load_ext autoreload\n",
    "%autoreload 2"
   ]
  },
  {
   "cell_type": "markdown",
   "metadata": {},
   "source": [
    "# 10.6 Case Study: Card Shuffling and Dealing Simulation\n",
    "* Class `Card` represents a playing card that has a face (`'Ace'`, `'2'`, `'3'`, …, `'Jack'`, `'Queen'`, `'King'`) and a suit (`'Hearts'`, `'Diamonds'`, `'Clubs'`, `'Spades'`)\n",
    "* Class `DeckOfCards` represents a deck of 52 playing cards as a list of `Card` objects"
   ]
  },
  {
   "cell_type": "markdown",
   "metadata": {},
   "source": [
    "## Card class"
   ]
  },
  {
   "cell_type": "code",
   "execution_count": 2,
   "metadata": {},
   "outputs": [],
   "source": [
    "# card.py\n",
    "\"\"\"Card class that represents a playing card and its image file name.\"\"\"\n",
    "\n",
    "class Card:\n",
    "    # class attributes\n",
    "    FACES = ['Ace', '2', '3', '4', '5', '6',\n",
    "             '7', '8', '9', '10', 'Jack', 'Queen', 'King']\n",
    "    SUITS = ['Hearts', 'Diamonds', 'Clubs', 'Spades']\n",
    "\n",
    "    def __init__(self, face, suit):\n",
    "        \"\"\"Initialize a Card with a face and suit.\"\"\"\n",
    "        self._face = face\n",
    "        self._suit = suit\n",
    "\n",
    "    @property\n",
    "    def face(self):\n",
    "        \"\"\"Return the Card's self._face value.\"\"\"\n",
    "        return self._face\n",
    "\n",
    "    @property\n",
    "    def suit(self):\n",
    "        \"\"\"Return the Card's self._suit value.\"\"\"\n",
    "        return self._suit\n",
    "\n",
    "    @property\n",
    "    def image_name(self):\n",
    "        \"\"\"Return the Card's image file name.\"\"\"\n",
    "        return str(self).replace(' ', '_') + '.png'\n",
    "\n",
    "    def __repr__(self):\n",
    "        \"\"\"Return string representation for repr().\"\"\"\n",
    "        return f\"Card(face='{self.face}', suit='{self.suit}')\"     \n",
    "\n",
    "    def __str__(self):\n",
    "        \"\"\"Return string representation for str().\"\"\"\n",
    "        return f'{self.face} of {self.suit}'\n",
    "\n",
    "    def __format__(self, format):\n",
    "        \"\"\"Return formatted string representation.\"\"\"\n",
    "        return f'{str(self):{format}}'\n"
   ]
  },
  {
   "cell_type": "code",
   "execution_count": 3,
   "metadata": {},
   "outputs": [],
   "source": [
    "c = Card(\"Ace\",\"Hearts\")"
   ]
  },
  {
   "cell_type": "code",
   "execution_count": 4,
   "metadata": {},
   "outputs": [
    {
     "data": {
      "text/plain": [
       "'Hearts'"
      ]
     },
     "execution_count": 4,
     "metadata": {},
     "output_type": "execute_result"
    }
   ],
   "source": [
    "c.suit"
   ]
  },
  {
   "cell_type": "code",
   "execution_count": 5,
   "metadata": {},
   "outputs": [
    {
     "data": {
      "text/plain": [
       "'Ace'"
      ]
     },
     "execution_count": 5,
     "metadata": {},
     "output_type": "execute_result"
    }
   ],
   "source": [
    "c.face"
   ]
  },
  {
   "cell_type": "code",
   "execution_count": 6,
   "metadata": {},
   "outputs": [
    {
     "name": "stdout",
     "output_type": "stream",
     "text": [
      "Ace of Hearts\n"
     ]
    }
   ],
   "source": [
    "print(c)"
   ]
  },
  {
   "cell_type": "code",
   "execution_count": 7,
   "metadata": {},
   "outputs": [
    {
     "data": {
      "text/plain": [
       "Card(face='Ace', suit='Hearts')"
      ]
     },
     "execution_count": 7,
     "metadata": {},
     "output_type": "execute_result"
    }
   ],
   "source": [
    "c"
   ]
  },
  {
   "cell_type": "code",
   "execution_count": 8,
   "metadata": {},
   "outputs": [
    {
     "data": {
      "text/plain": [
       "['Ace', '2', '3', '4', '5', '6', '7', '8', '9', '10', 'Jack', 'Queen', 'King']"
      ]
     },
     "execution_count": 8,
     "metadata": {},
     "output_type": "execute_result"
    }
   ],
   "source": [
    "Card.FACES"
   ]
  },
  {
   "cell_type": "code",
   "execution_count": null,
   "metadata": {},
   "outputs": [],
   "source": [
    "Card.SUITS"
   ]
  },
  {
   "cell_type": "markdown",
   "metadata": {},
   "source": [
    "## Deck class"
   ]
  },
  {
   "cell_type": "code",
   "execution_count": null,
   "metadata": {},
   "outputs": [],
   "source": [
    "# deck.py\n",
    "\"\"\"Deck class represents a deck of Cards.\"\"\"\n",
    "import random \n",
    "\n",
    "class DeckOfCards:\n",
    "    NUMBER_OF_CARDS = 52  # constant number of Cards\n",
    "\n",
    "    def __init__(self):\n",
    "        \"\"\"Initialize the deck.\"\"\"\n",
    "        self._current_card = 0\n",
    "        self._deck = []\n",
    "\n",
    "        for count in range(DeckOfCards.NUMBER_OF_CARDS):  \n",
    "            self._deck.append(Card(Card.FACES[count % 13], \n",
    "                Card.SUITS[count // 13]))\n",
    "\n",
    "    def shuffle(self):\n",
    "        \"\"\"Shuffle deck.\"\"\"\n",
    "        self._current_card = 0\n",
    "        random.shuffle(self._deck)    \n",
    "\n",
    "    def deal_card(self):\n",
    "        \"\"\"Return one Card.\"\"\"\n",
    "        try:\n",
    "            card = self._deck[self._current_card]\n",
    "            self._current_card += 1\n",
    "            return card\n",
    "        except:\n",
    "            return None  \n",
    "\n",
    "    def __str__(self):\n",
    "        \"\"\"Return a string representation of the current _deck.\"\"\"\n",
    "        s = ''\n",
    "\n",
    "        for index, card in enumerate(self._deck):\n",
    "            s += f'{self._deck[index]:<19}'\n",
    "            if (index + 1) % 4 == 0:\n",
    "                s += '\\n'\n",
    "        \n",
    "        return s\n",
    "    \n"
   ]
  },
  {
   "cell_type": "markdown",
   "metadata": {},
   "source": [
    "### Creating, Shuffling and Dealing the Cards "
   ]
  },
  {
   "cell_type": "code",
   "execution_count": null,
   "metadata": {},
   "outputs": [],
   "source": [
    "deck_of_cards = DeckOfCards()"
   ]
  },
  {
   "cell_type": "code",
   "execution_count": null,
   "metadata": {},
   "outputs": [],
   "source": [
    "print(deck_of_cards)"
   ]
  },
  {
   "cell_type": "code",
   "execution_count": null,
   "metadata": {},
   "outputs": [],
   "source": [
    "deck_of_cards.shuffle()"
   ]
  },
  {
   "cell_type": "code",
   "execution_count": null,
   "metadata": {},
   "outputs": [],
   "source": [
    "print(deck_of_cards)"
   ]
  },
  {
   "cell_type": "markdown",
   "metadata": {},
   "source": [
    "### Dealing Cards\n",
    "* Can deal one `Card` at a time by calling method `deal_card`\n",
    "* IPython calls the returned `Card` object’s `__repr__` method to produce the string output "
   ]
  },
  {
   "cell_type": "code",
   "execution_count": null,
   "metadata": {},
   "outputs": [],
   "source": [
    "deck_of_cards.deal_card()"
   ]
  },
  {
   "cell_type": "code",
   "execution_count": null,
   "metadata": {},
   "outputs": [],
   "source": [
    "for i in range(3):\n",
    "    print(deck_of_cards.deal_card())"
   ]
  }
 ],
 "metadata": {
  "kernelspec": {
   "display_name": "Python 3 (ipykernel)",
   "language": "python",
   "name": "python3"
  },
  "language_info": {
   "codemirror_mode": {
    "name": "ipython",
    "version": 3
   },
   "file_extension": ".py",
   "mimetype": "text/x-python",
   "name": "python",
   "nbconvert_exporter": "python",
   "pygments_lexer": "ipython3",
   "version": "3.11.0"
  }
 },
 "nbformat": 4,
 "nbformat_minor": 4
}
