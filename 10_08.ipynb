{
 "cells": [
  {
   "cell_type": "code",
   "execution_count": null,
   "metadata": {},
   "outputs": [],
   "source": [
    "%load_ext autoreload\n",
    "%autoreload 2"
   ]
  },
  {
   "cell_type": "markdown",
   "metadata": {},
   "source": [
    "## 10.8.1 class `CommissionEmployee` "
   ]
  },
  {
   "cell_type": "markdown",
   "metadata": {},
   "source": [
    "### All Classes Inherit Directly or Indirectly from Class `object`\n",
    "* _Every_ Python class inherits from an existing class\n",
    "* When you do not explicitly specify the base class for a new class, Python assumes that the class inherits directly from class `object`\n",
    "* Class `CommissionEmployee`’s header could have been written as\n",
    ">```python\n",
    "class CommissionEmployee(object):\n",
    "```\n",
    "* The parentheses after `CommissionEmployee` indicate inheritance and may contain \n",
    "    * a single class for single inheritance \n",
    "    * a comma-separated list of base classes for multiple inheritance"
   ]
  },
  {
   "cell_type": "markdown",
   "metadata": {},
   "source": [
    "### All Classes Inherit Directly or Indirectly from Class `object` (cont.)\n",
    "* `CommissionEmployee` inherits all the methods of class `object`\n",
    "* Two of the many methods inherited from `object` are `__repr__` and `__str__`\n",
    "    * So _every_ class has these methods that return string representations of the objects on which they’re called\n",
    "* When a base-class method implementation is inappropriate for a derived class, that method can be **overridden** (i.e., redefined) in the derived class with an appropriate implementation\n",
    "    * Method `__repr__` overrides the default implementation from class `object`"
   ]
  },
  {
   "cell_type": "markdown",
   "metadata": {},
   "source": [
    "### Testing Class `CommissionEmployee`  \n",
    "* test some of `CommissionEmployee`’s features"
   ]
  },
  {
   "cell_type": "code",
   "execution_count": null,
   "metadata": {},
   "outputs": [],
   "source": [
    "from commissionemployee import CommissionEmployee"
   ]
  },
  {
   "cell_type": "code",
   "execution_count": null,
   "metadata": {},
   "outputs": [],
   "source": [
    "from decimal import Decimal"
   ]
  },
  {
   "cell_type": "code",
   "execution_count": null,
   "metadata": {},
   "outputs": [],
   "source": [
    "c = CommissionEmployee('Sue', 'Jones', '333-33-3333', \n",
    "    Decimal('10000.00'), Decimal('0.06'))"
   ]
  },
  {
   "cell_type": "code",
   "execution_count": null,
   "metadata": {},
   "outputs": [],
   "source": [
    "c"
   ]
  },
  {
   "cell_type": "markdown",
   "metadata": {},
   "source": [
    "* calculate and display the `CommissionEmployee`’s earnings"
   ]
  },
  {
   "cell_type": "code",
   "execution_count": null,
   "metadata": {},
   "outputs": [],
   "source": [
    "print(f'{c.earnings():,.2f}')"
   ]
  },
  {
   "cell_type": "markdown",
   "metadata": {},
   "source": [
    "* change the `CommissionEmployee`’s gross sales and commission rate, then recalculate the earnings"
   ]
  },
  {
   "cell_type": "code",
   "execution_count": null,
   "metadata": {},
   "outputs": [],
   "source": [
    "c.gross_sales = Decimal('20000.00')"
   ]
  },
  {
   "cell_type": "code",
   "execution_count": null,
   "metadata": {},
   "outputs": [],
   "source": [
    "c.commission_rate = Decimal('0.1')"
   ]
  },
  {
   "cell_type": "code",
   "execution_count": null,
   "metadata": {},
   "outputs": [],
   "source": [
    "print(f'{c.earnings():,.2f}')"
   ]
  },
  {
   "cell_type": "markdown",
   "metadata": {
    "tags": []
   },
   "source": [
    "## 10.8.2 Subclass `SalariedCommissionEmployee` \n",
    "* With single inheritance, the subclass starts essentially the same as the base class\n",
    "* The real strength of inheritance comes from the ability to define in the subclass additions, replacements or refinements for the features inherited from the base class. \n",
    "* Many of a `SalariedCommissionEmployee`’s capabilities are similar, if not identical, to those of class `CommissionEmployee`\n",
    "    * Both types of employees have first name, last name, Social Security number, gross sales and commission rate data attributes, and properties and methods to manipulate that data\n",
    "* Inheritance enables us to “absorb” the features of a class _without_ duplicating code"
   ]
  },
  {
   "cell_type": "markdown",
   "metadata": {},
   "source": [
    "### Inheriting from Class `CommissionEmployee`\n",
    "\n",
    "```python\n",
    "class SalariedCommissionEmployee(CommissionEmployee):\n",
    "```\n",
    "* specifies that class `SalariedCommissionEmployee` _inherits_ from `CommissionEmployee`\n",
    "* Don't see class `CommissionEmployee`’s data attributes, properties and methods in class `SalariedCommissionEmployee`, but they are there"
   ]
  },
  {
   "cell_type": "markdown",
   "metadata": {},
   "source": [
    "### Method `__init__` and Built-In Function `super` \n",
    "* _Each subclass `__init__` must explicitly call its base class’s `__init__` to initialize the data attributes inherited from the base class_\n",
    "    * This call should be the first statement in the subclass’s `__init__` method\n",
    "* The notation `super().__init__` uses the built-in function **`super`** to locate and call the base class’s `__init__` method"
   ]
  },
  {
   "cell_type": "markdown",
   "metadata": {},
   "source": [
    "### Overriding Method `earnings`\n",
    "* Class `SalariedCommissionEmployee`’s `earnings` method overrides class `CommissionEmployee`’s `earnings` method to calculate the earnings of a `SalariedCommissionEmployee`\n",
    "    * Obtains the portion of the earnings based on _commission alone_ by calling `CommissionEmployee`’s `earnings` method with the expression `super().earnings()`\n",
    "   "
   ]
  },
  {
   "cell_type": "markdown",
   "metadata": {},
   "source": [
    "### Overriding Method `__repr__`\n",
    "* `SalariedCommissionEmployee`’s `__repr__` method overrides class `CommissionEmployee`’s `__repr__` method to return a `String` representation that’s appropriate for a `SalariedCommissionEmployee`\n",
    "* `super().__repr__()` calls `CommissionEmployee`'s `__repr__` method"
   ]
  },
  {
   "cell_type": "markdown",
   "metadata": {},
   "source": [
    "### Testing Class `SalariedCommissionEmployee` "
   ]
  },
  {
   "cell_type": "code",
   "execution_count": null,
   "metadata": {},
   "outputs": [],
   "source": [
    "from salariedcommissionemployee import SalariedCommissionEmployee"
   ]
  },
  {
   "cell_type": "code",
   "execution_count": null,
   "metadata": {},
   "outputs": [],
   "source": [
    "s = SalariedCommissionEmployee('Bob', 'Lewis', '444-44-4444',\n",
    "        Decimal('5000.00'), Decimal('0.04'), Decimal('300.00'))"
   ]
  },
  {
   "cell_type": "code",
   "execution_count": null,
   "metadata": {},
   "outputs": [],
   "source": [
    "print(s.first_name, s.last_name, s.ssn, s.gross_sales, \n",
    "      s.commission_rate, s.base_salary)"
   ]
  },
  {
   "cell_type": "code",
   "execution_count": null,
   "metadata": {},
   "outputs": [],
   "source": [
    "print(f'{s.earnings():,.2f}')"
   ]
  },
  {
   "cell_type": "code",
   "execution_count": null,
   "metadata": {},
   "outputs": [],
   "source": [
    "s.gross_sales = Decimal('10000.00')"
   ]
  },
  {
   "cell_type": "code",
   "execution_count": null,
   "metadata": {},
   "outputs": [],
   "source": [
    "s.commission_rate = Decimal('0.05')"
   ]
  },
  {
   "cell_type": "code",
   "execution_count": null,
   "metadata": {},
   "outputs": [],
   "source": [
    "s.base_salary = Decimal('1000.00')"
   ]
  },
  {
   "cell_type": "code",
   "execution_count": null,
   "metadata": {},
   "outputs": [],
   "source": [
    "print(s)"
   ]
  },
  {
   "cell_type": "markdown",
   "metadata": {},
   "source": [
    "* Calculate and display the `SalariedCommissionEmployee`’s updated earnings"
   ]
  },
  {
   "cell_type": "code",
   "execution_count": null,
   "metadata": {},
   "outputs": [],
   "source": [
    "print(f'{s.earnings():,.2f}')"
   ]
  },
  {
   "cell_type": "markdown",
   "metadata": {},
   "source": [
    "### Testing the “is a” Relationship \n",
    "Functions **`issubclass`** and **`isinstance`** are used to test “is a” relationships\n",
    "* `issubclass` determines whether one class is derived from another"
   ]
  },
  {
   "cell_type": "code",
   "execution_count": null,
   "metadata": {},
   "outputs": [],
   "source": [
    "issubclass(SalariedCommissionEmployee, CommissionEmployee)"
   ]
  },
  {
   "cell_type": "markdown",
   "metadata": {},
   "source": [
    "* `isinstance` determines whether an object has an “is a” relationship with a specific type"
   ]
  },
  {
   "cell_type": "code",
   "execution_count": null,
   "metadata": {},
   "outputs": [],
   "source": [
    "isinstance(s, CommissionEmployee)"
   ]
  },
  {
   "cell_type": "code",
   "execution_count": null,
   "metadata": {},
   "outputs": [],
   "source": [
    "isinstance(s, SalariedCommissionEmployee)"
   ]
  },
  {
   "cell_type": "markdown",
   "metadata": {},
   "source": [
    "## 10.8.3 Processing `CommissionEmployee`s and `SalariedCommissionEmployee`s Polymorphically\n",
    "* With inheritance, every object of a subclass also may be treated as an object of that subclass’s base class\n",
    "* Can take advantage of this relationship to place objects related through inheritance into a list, then iterate through the list and treat each element as a base-class object\n",
    "    * Allows a variety of objects to be processed in a _general_ way"
   ]
  },
  {
   "cell_type": "code",
   "execution_count": null,
   "metadata": {},
   "outputs": [],
   "source": [
    "employees = [c, s]"
   ]
  },
  {
   "cell_type": "code",
   "execution_count": null,
   "metadata": {},
   "outputs": [],
   "source": [
    "for employee in employees:\n",
    "    print(employee)\n",
    "    print(f'{employee.earnings():,.2f}\\n')"
   ]
  },
  {
   "cell_type": "markdown",
   "metadata": {},
   "source": [
    "* Correct string representation and earnings are displayed for each employee\n",
    "* This is called _polymorphism_—a key capability of object-oriented programming (OOP)"
   ]
  }
 ],
 "metadata": {
  "kernelspec": {
   "display_name": "Python 3 (ipykernel)",
   "language": "python",
   "name": "python3"
  },
  "language_info": {
   "codemirror_mode": {
    "name": "ipython",
    "version": 3
   },
   "file_extension": ".py",
   "mimetype": "text/x-python",
   "name": "python",
   "nbconvert_exporter": "python",
   "pygments_lexer": "ipython3",
   "version": "3.9.13"
  }
 },
 "nbformat": 4,
 "nbformat_minor": 4
}
