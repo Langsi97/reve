{
 "cells": [
  {
   "cell_type": "markdown",
   "id": "40a9d0d3-4e97-4db0-8488-aadae7f86f2d",
   "metadata": {},
   "source": [
    "# Pandas\n",
    "[https://pandas.pydata.org](https://pandas.pydata.org)\n",
    "\n",
    "pandas is a fast, powerful, flexible and easy to use open source data analysis and manipulation tool,\n",
    "built on top of the Python programming language.\n"
   ]
  },
  {
   "cell_type": "code",
   "execution_count": null,
   "id": "3e584aff-4647-45bb-a265-de1f3fffad25",
   "metadata": {},
   "outputs": [],
   "source": [
    "import pandas as pd"
   ]
  },
  {
   "cell_type": "markdown",
   "id": "7d78949e-42f0-443d-b14a-13436a553a70",
   "metadata": {},
   "source": [
    "https://www.kaggle.com/datasets/mylesoneill/game-of-thrones?select=character-deaths.csv"
   ]
  },
  {
   "cell_type": "code",
   "execution_count": null,
   "id": "33d8147d-e344-4ee7-b5db-7e41777f2494",
   "metadata": {},
   "outputs": [],
   "source": [
    "df = pd.read_csv(\"data/character-deaths.csv\")\n",
    "# https://pandas.pydata.org/docs/reference/api/pandas.read_csv.html"
   ]
  },
  {
   "cell_type": "code",
   "execution_count": null,
   "id": "3b9b1d17-25a1-4692-83a9-7a8d8caecd0e",
   "metadata": {
    "tags": []
   },
   "outputs": [],
   "source": [
    "df"
   ]
  },
  {
   "cell_type": "code",
   "execution_count": null,
   "id": "03bd13c9-7abb-4f07-9c88-86b222b22e66",
   "metadata": {},
   "outputs": [],
   "source": [
    "df.dtypes"
   ]
  },
  {
   "cell_type": "code",
   "execution_count": null,
   "id": "be8c287f-046e-49e4-8757-a8b54c229f43",
   "metadata": {},
   "outputs": [],
   "source": [
    "df.describe()"
   ]
  },
  {
   "cell_type": "code",
   "execution_count": null,
   "id": "a20b0a20-2881-4e41-a8e7-2d26b9055865",
   "metadata": {},
   "outputs": [],
   "source": [
    "# selecting a column\n",
    "df['Name']"
   ]
  },
  {
   "cell_type": "code",
   "execution_count": null,
   "id": "bb830ee3-d96e-4afd-9fc6-3bf7f47e8107",
   "metadata": {},
   "outputs": [],
   "source": [
    "df.index"
   ]
  },
  {
   "cell_type": "code",
   "execution_count": null,
   "id": "1f08c420-f274-4189-aed6-6cbbb9dbf975",
   "metadata": {},
   "outputs": [],
   "source": [
    "df.set_index('Name', inplace=True)"
   ]
  },
  {
   "cell_type": "code",
   "execution_count": null,
   "id": "a2fbf83c-f593-4a22-8e50-94880a215eb3",
   "metadata": {},
   "outputs": [],
   "source": [
    "df.index"
   ]
  },
  {
   "cell_type": "code",
   "execution_count": null,
   "id": "436d78eb-6003-4099-803f-1c587e760d75",
   "metadata": {},
   "outputs": [],
   "source": [
    "df"
   ]
  },
  {
   "cell_type": "code",
   "execution_count": null,
   "id": "5c288886-4977-45a0-8972-7e5fc7a14504",
   "metadata": {},
   "outputs": [],
   "source": [
    "# retrieve row with index = value\n",
    "df.loc['Aegon Targaryen']"
   ]
  },
  {
   "cell_type": "code",
   "execution_count": null,
   "id": "5bc3b0e4-fd4a-4b25-8086-8a2dd878b7f8",
   "metadata": {},
   "outputs": [],
   "source": [
    "df.loc['Addam Marbrand':'Aegon Targaryen']"
   ]
  },
  {
   "cell_type": "code",
   "execution_count": null,
   "id": "b10ccc7c-5408-4a9d-8b2f-78afb8b5dcb5",
   "metadata": {
    "tags": []
   },
   "outputs": [],
   "source": [
    "df.iloc[2]"
   ]
  },
  {
   "cell_type": "code",
   "execution_count": null,
   "id": "b53ab772-00e4-4faf-99f8-d4296c0661ff",
   "metadata": {},
   "outputs": [],
   "source": [
    "df.iloc[:3]"
   ]
  },
  {
   "cell_type": "code",
   "execution_count": null,
   "id": "b97e4bc2-dc90-4953-8a59-fc5cf6251028",
   "metadata": {},
   "outputs": [],
   "source": [
    "df.loc['Addam Marbrand':'Aegon Targaryen', ['Allegiances','Gender']]"
   ]
  },
  {
   "cell_type": "code",
   "execution_count": null,
   "id": "4a497568-8741-4965-ba6e-6089e5c54c26",
   "metadata": {},
   "outputs": [],
   "source": [
    "filter = (df['Death Year'] > 299)\n",
    "df[filter]"
   ]
  },
  {
   "cell_type": "code",
   "execution_count": null,
   "id": "b30be9d0-670b-449f-879b-f9b6ebed2c2c",
   "metadata": {},
   "outputs": [],
   "source": [
    "filter"
   ]
  },
  {
   "cell_type": "code",
   "execution_count": null,
   "id": "35530960-fd21-4c61-94ea-53d3cf5e649c",
   "metadata": {},
   "outputs": [],
   "source": [
    "filter = (df['Death Year'] > 299) & (df['Book of Death'] == 5) &  (df['Gender'] == 0)\n",
    "df[filter]"
   ]
  },
  {
   "cell_type": "code",
   "execution_count": null,
   "id": "0ced2ea2-8453-4890-9ee1-80e13e997e15",
   "metadata": {},
   "outputs": [],
   "source": [
    "df['Death Chapter'].unique()"
   ]
  },
  {
   "cell_type": "code",
   "execution_count": null,
   "id": "40dcccd5-80ca-4472-8bcb-d78b8f7063ce",
   "metadata": {},
   "outputs": [],
   "source": [
    "df.sort_values(by=['Death Chapter']).head()"
   ]
  },
  {
   "cell_type": "code",
   "execution_count": null,
   "id": "145f2d98-fd6c-4b3a-a0cf-6d09c5e6bfc8",
   "metadata": {},
   "outputs": [],
   "source": [
    "# drop a row when any value is na\n",
    "df.dropna(axis='index', how='any')"
   ]
  },
  {
   "cell_type": "code",
   "execution_count": null,
   "id": "8277da87-7deb-4deb-a35b-e284f5081c49",
   "metadata": {},
   "outputs": [],
   "source": [
    "df.shape"
   ]
  },
  {
   "cell_type": "code",
   "execution_count": null,
   "id": "355d8401-ff71-4848-83ad-1db3a6aceacb",
   "metadata": {},
   "outputs": [],
   "source": [
    "from pandasql import sqldf\n",
    "pysqldf = lambda q: sqldf(q, globals())"
   ]
  },
  {
   "cell_type": "code",
   "execution_count": null,
   "id": "ffd33ed7-4613-4cd7-bdb4-3c826d010cca",
   "metadata": {},
   "outputs": [],
   "source": [
    "globals()['df']"
   ]
  },
  {
   "cell_type": "code",
   "execution_count": null,
   "id": "86e3e2ff-b669-487c-9bf3-d935870767b4",
   "metadata": {},
   "outputs": [],
   "source": [
    "query = \"\"\"\n",
    "SELECT *\n",
    "FROM df\n",
    "WHERE Gender = 0 AND Name LIKE \"A%\"\n",
    "\"\"\""
   ]
  },
  {
   "cell_type": "code",
   "execution_count": null,
   "id": "026d13dd-26aa-43e7-867e-e3da789c652c",
   "metadata": {},
   "outputs": [],
   "source": [
    "pysqldf(query)"
   ]
  },
  {
   "cell_type": "code",
   "execution_count": null,
   "id": "625f119d-2a6d-4557-af3d-526ddc8f0c0c",
   "metadata": {},
   "outputs": [],
   "source": [
    "query = \"\"\"\n",
    "SELECT *\n",
    "FROM df\n",
    "WHERE \"Death Year\" <> 300\n",
    "\"\"\"\n",
    "pysqldf(query)"
   ]
  },
  {
   "cell_type": "code",
   "execution_count": null,
   "id": "363ec298-83da-4a09-89a1-f8fdd292f705",
   "metadata": {},
   "outputs": [],
   "source": [
    "df2 = pysqldf(query)"
   ]
  },
  {
   "cell_type": "code",
   "execution_count": null,
   "id": "b22a72aa-7003-4c83-a34e-3e486046bddf",
   "metadata": {},
   "outputs": [],
   "source": [
    "df2"
   ]
  },
  {
   "cell_type": "code",
   "execution_count": null,
   "id": "dc99917f-4688-47a5-93fd-603cea44fd9b",
   "metadata": {},
   "outputs": [],
   "source": [
    "df_stark = df[df['Allegiances']==\"House Stark\"]"
   ]
  },
  {
   "cell_type": "code",
   "execution_count": null,
   "id": "955a50c9-4692-4152-994c-9b512e95b879",
   "metadata": {},
   "outputs": [],
   "source": [
    "df_stark_nona = df_stark.dropna()\n",
    "df_stark_nona"
   ]
  },
  {
   "cell_type": "code",
   "execution_count": null,
   "id": "6802c62a-5753-4aac-8942-9d4e1c76b516",
   "metadata": {},
   "outputs": [],
   "source": [
    "%matplotlib inline"
   ]
  },
  {
   "cell_type": "code",
   "execution_count": null,
   "id": "1ccc75ff-b540-4c6f-957b-c06d2318fe09",
   "metadata": {},
   "outputs": [],
   "source": [
    "df_stark_nona.hist(\"Death Year\")"
   ]
  },
  {
   "cell_type": "markdown",
   "id": "0e5c8540-8344-4104-a03c-7e3a079347e1",
   "metadata": {},
   "source": [
    "https://pandas.pydata.org/Pandas_Cheat_Sheet.pdf"
   ]
  },
  {
   "cell_type": "code",
   "execution_count": null,
   "id": "c955d42e-3be8-43f0-b731-7526d646809d",
   "metadata": {},
   "outputs": [],
   "source": [
    "Many online resources available"
   ]
  }
 ],
 "metadata": {
  "kernelspec": {
   "display_name": "Python 3 (ipykernel)",
   "language": "python",
   "name": "python3"
  },
  "language_info": {
   "codemirror_mode": {
    "name": "ipython",
    "version": 3
   },
   "file_extension": ".py",
   "mimetype": "text/x-python",
   "name": "python",
   "nbconvert_exporter": "python",
   "pygments_lexer": "ipython3",
   "version": "3.9.15"
  }
 },
 "nbformat": 4,
 "nbformat_minor": 5
}
