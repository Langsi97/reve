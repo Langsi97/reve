{
 "cells": [
  {
   "cell_type": "markdown",
   "metadata": {},
   "source": [
    "# 10. Object-Oriented Programming\n",
    "\n",
    "# Objectives\n",
    "* Create custom classes and objects of those classes.\n",
    "* Understand the benefits of crafting valuable classes.\n",
    "* Control access to attributes.\n",
    "* Appreciate the value of object orientation.\n",
    "* Use Python special methods `__repr__`, `__str__` and `__format__` to get an object’s string representations."
   ]
  },
  {
   "cell_type": "markdown",
   "metadata": {},
   "source": [
    "# Objectives (cont.)\n",
    "* Use Python special methods to overload (redefine) operators to use them with objects of new classes.\n",
    "* Inherit methods, properties and attributes from existing classes into new classes, then customize those classes.\n",
    "* Understand the inheritance notions of base classes (superclasses) and derived classes (subclasses)."
   ]
  },
  {
   "cell_type": "markdown",
   "metadata": {},
   "source": [
    "# Objectives (cont.)\n",
    "* Understand duck typing and polymorphism that enable “programming in the general.”\n",
    "* Understand class `object` from which all classes inherit fundamental capabilities.\n",
    "* Compare composition and inheritance.\n",
    "* Build test cases into docstrings and run these tests with `doctest`,\n",
    "* Understand namespaces and how they affect scope.  "
   ]
  },
  {
   "cell_type": "markdown",
   "metadata": {},
   "source": [
    "### Outline\n",
    "* [10.1   Introduction](10_01.ipynb)\n",
    "* 10.2   Custom Class `Account`\n",
    "    * [10.2.1 Test-Driving Class `Account`](10_02.01.ipynb)\n",
    "    * [10.2.2 `Account` Class Definition](10_02.02.ipynb)\n",
    "    * [10.2.3 Composition: Object References as Members of Classes](10_02.03.ipynb)\n",
    "* [10.3 Controlling Access to Attributes](10_03.ipynb)\n",
    "* 10.4 Properties for Data Access\n",
    "    * [10.4.1 Test-Driving Class `Time`](10_04.01.ipynb)\n",
    "    * [10.4.2 Class `Time` Definition](10_04.02.ipynb)\n",
    "    * [10.4.3 Class `Time` Definition Design Notes](10_04.033.ipynb)\n",
    "* [10.5 Simulating “Private” Attributes](10_05.ipynb)\n",
    "* 10.6 Case Study: Card Shuffling and Dealing Simulation\n",
    "    * [10.6.1 Test-Driving Classes `Card` and `DeckOfCards`](10_06.01.ipynb)\n",
    "    * [10.6.2 Class `Card`—Introducing Class Attributes](10_06.02.ipynb)\n",
    "    * [10.6.3 Class `DeckOfCards`](10_06.03.ipynb)\n",
    "    * [10.6.4 Displaying Card Images with Matplotlib](10_06.04.ipynb)\n",
    "* [10.7 Inheritance: Base Classes and Subclasses](10_07.ipynb)\n",
    "* [10.8 Building an Inheritance Hierarchy; Introducing Polymorphism](10_08.ipynb)\n",
    "    * 10.8.1 Base Class `CommissionEmployee`\n",
    "    * 10.8.2 Subclass `SalariedCommissionEmployee`\n",
    "    * 10.8.3 Processing `Commission-Employees` and `Salaried-CommissionEmployees` Polymorphically\n",
    "    * 10.8.4 A Note About Object-Based and Object-Oriented Programming\n",
    "* [10.9 Duck Typing and Polymorphism](10_09.ipynb)\n",
    "* [10.10 Operator Overloading](10_10.ipynb)\n",
    "    * [10.10.1 Test-Driving Class `Complex`](10_10.01.ipynb)\n",
    "    * [10.10.2 Class `Complex` Definition](10_10.02.ipynb)\n",
    "* [10.11 Exception Class Hierarchy and Custom Exceptions](10_11.ipynb)\n",
    "* [10.12 Named Tuples](10_12.ipynb)\n",
    "* [10.13 A Brief Intro to Python 3.7’s New Data Classes](10_13.ipynb)\n",
    "    * [10.13.1 Creating a `Card` Data Class](10_13.01.ipynb)\n",
    "    * [10.13.2 Using  the `Card` Data Class](10_13.02.ipynb)\n",
    "    * 10.13.3  Data Class Advantages over Named Tuples\n",
    "    * 10.13.4  Data Class Advantages over Traditional Classes\n",
    "* [10.14 Unit Testing with Docstrings and `doctest`](10_14.ipynb)\n",
    "* [10.15 Namespaces and Scopes](10_15.ipynb)\n",
    "* [10.16 Intro to Data Science: Time Series and Simple Linear Regression](10_16.ipynb)\n",
    "* 10.17  Wrap-Up"
   ]
  },
  {
   "cell_type": "markdown",
   "metadata": {},
   "source": [
    "------\n",
    "&copy;1992&ndash;2020 by Pearson Education, Inc. All Rights Reserved. This content is based on Chapter 5 of the book [**Intro to Python for Computer Science and Data Science: Learning to Program with AI, Big Data and the Cloud**](https://amzn.to/2VvdnxE).\n",
    "\n",
    "DISCLAIMER: The authors and publisher of this book have used their \n",
    "best efforts in preparing the book. These efforts include the \n",
    "development, research, and testing of the theories and programs \n",
    "to determine their effectiveness. The authors and publisher make \n",
    "no warranty of any kind, expressed or implied, with regard to these \n",
    "programs or to the documentation contained in these books. The authors \n",
    "and publisher shall not be liable in any event for incidental or \n",
    "consequential damages in connection with, or arising out of, the \n",
    "furnishing, performance, or use of these programs.                  "
   ]
  },
  {
   "cell_type": "markdown",
   "metadata": {},
   "source": [
    "# 10.1 Introduction\n",
    "* Section 1.2 introduced the basic terminology and concepts of object-oriented programming\n",
    "* Everything in Python is an object"
   ]
  },
  {
   "cell_type": "markdown",
   "metadata": {},
   "source": [
    "### Crafting Valuable Classes\n",
    "* Create your own _custom_ classes\n",
    "* Focus on “crafting valuable classes” that help you meet application requirements\n",
    "* Use object-oriented programming \n",
    "    * classes, objects, inheritance and polymorphism\n",
    "* Object-oriented programming makes it easier to design, implement, test, debug and update applications"
   ]
  },
  {
   "cell_type": "markdown",
   "metadata": {},
   "source": [
    "### Class Libraries and Object-Based Programming\n",
    "* Vast majority of object-oriented programming in Python is **object-based programming** \n",
    "    * Create and use objects of _existing_ classes\n",
    "* To take maximum advantage of Python you must familiarize yourself with lots of preexisting classes\n",
    "* Easy for you to reuse existing classes rather than “reinventing the wheel” \n",
    "* Widely used open-source library classes are more likely to be thoroughly tested, performance tuned and portable across a wide range of devices, operating systems and Python versions\n",
    "* Find abundant Python libraries on sites like GitHub, BitBucket, SourceForge and more\n",
    "    * most easily installed with `conda` or `pip`\n",
    "* Vast majority of the classes you’ll need are likely to be freely available in open-source libraries. "
   ]
  },
  {
   "cell_type": "markdown",
   "metadata": {},
   "source": [
    "### Creating Your Own Custom Classes\n",
    "* Classes are new data types\n",
    "* Most applications you’ll build will commonly use either no custom classes or just a few\n",
    "* If you become part of a development team in industry, you may work on applications that contain hundreds, or even thousands, of classes"
   ]
  },
  {
   "cell_type": "markdown",
   "metadata": {},
   "source": [
    "### Inheritance\n",
    "* When creating a new class, you can **inherit** the attributes (variables) and methods (the class version of functions) of a previously defined **base class** (also called a **superclass**)\n",
    "* New class is called a **derived class** (or **subclass**)\n",
    "* You then customize the derived class to meet the specific needs of your application"
   ]
  },
  {
   "cell_type": "markdown",
   "metadata": {},
   "source": [
    "### Polymorphism\n",
    "* Enables you to conveniently program “in the general” rather than “in the specific” \n",
    "* You send the _same_ method call to objects possibly of many _different_ types\n",
    "* Each object responds by “doing the right thing” \n",
    "* So the same method call takes on “many forms,” hence the term “poly-morphism” "
   ]
  },
  {
   "cell_type": "markdown",
   "metadata": {},
   "source": [
    "### An Entertaining Case Study: Card-Shuffling-and-Dealing Simulation\n",
    "* You’ll use Matplotlib with attractive public-domain card images to display the full deck of cards both before and after the deck is shuffled "
   ]
  },
  {
   "cell_type": "markdown",
   "metadata": {},
   "source": [
    "### Data Classes\n",
    "* Python 3.7’s new _data classes_ help you build classes faster by using a more concise notation and by autogenerating portions of the classes"
   ]
  },
  {
   "cell_type": "markdown",
   "metadata": {},
   "source": [
    "### Other Concepts Introduced in This Chapter\n",
    "* How to specify that certain identifiers should be used only inside a class and not be accessible to clients of the class\n",
    "* Special methods for creating string representations of your classes’ objects and specifying how objects of your classes work with Python’s built-in operators (a process called _operator overloading_)\n",
    "* An introduction to the Python exception class hierarchy and creating custom exception classes\n",
    "* Testing code with the Python Standard Library’s `doctest` module\n",
    "* How Python uses namespaces to determine the scopes of identifiers"
   ]
  },
  {
   "cell_type": "markdown",
   "metadata": {},
   "source": [
    "------\n",
    "&copy;1992&ndash;2020 by Pearson Education, Inc. All Rights Reserved. This content is based on Chapter 5 of the book [**Intro to Python for Computer Science and Data Science: Learning to Program with AI, Big Data and the Cloud**](https://amzn.to/2VvdnxE).\n",
    "\n",
    "DISCLAIMER: The authors and publisher of this book have used their \n",
    "best efforts in preparing the book. These efforts include the \n",
    "development, research, and testing of the theories and programs \n",
    "to determine their effectiveness. The authors and publisher make \n",
    "no warranty of any kind, expressed or implied, with regard to these \n",
    "programs or to the documentation contained in these books. The authors \n",
    "and publisher shall not be liable in any event for incidental or \n",
    "consequential damages in connection with, or arising out of, the \n",
    "furnishing, performance, or use of these programs.                  "
   ]
  },
  {
   "cell_type": "markdown",
   "metadata": {},
   "source": [
    "# 10.2 Custom Class Account \n",
    "* Bank `Account` class that holds an account holder’s name and balance\n",
    "    * An actual bank account class would likely include lots of other information"
   ]
  },
  {
   "cell_type": "markdown",
   "metadata": {},
   "source": [
    "## 10.2.1 Test-Driving Class Account \n",
    "* Each new class you create becomes a new _data type_ \n",
    "* Python is an **extensible language**\n",
    "* Before we look at class `Account`’s definition, let’s demonstrate its capabilities "
   ]
  },
  {
   "cell_type": "markdown",
   "metadata": {},
   "source": [
    "### Importing Classes `Account` and `Decimal`\n",
    "* Launch IPython from the `ch10` examples folder, then import class `Account`"
   ]
  },
  {
   "cell_type": "code",
   "execution_count": null,
   "metadata": {},
   "outputs": [],
   "source": [
    "from account import Account"
   ]
  },
  {
   "cell_type": "markdown",
   "metadata": {},
   "source": [
    "* `Account` maintains and manipulates the account balance as a `Decimal`"
   ]
  },
  {
   "cell_type": "code",
   "execution_count": null,
   "metadata": {},
   "outputs": [],
   "source": [
    "from decimal import Decimal"
   ]
  },
  {
   "cell_type": "markdown",
   "metadata": {},
   "source": [
    "### Create an `Account` Object with a Constructor Expression\n",
    "* Create an object with a **constructor expression** that builds and initializes an object\n",
    "* Constructor expressions create new objects and initialize their data using argument(s) specified in parentheses\n",
    "* Parentheses following the class name are required, even if there are no arguments"
   ]
  },
  {
   "cell_type": "code",
   "execution_count": null,
   "metadata": {},
   "outputs": [],
   "source": [
    "account1 = Account('John Green', Decimal('50.00'))"
   ]
  },
  {
   "cell_type": "markdown",
   "metadata": {},
   "source": [
    "### Getting an `Account`’s Name and Balance\n",
    "* Access the `Account` object’s `name` and `balance` attributes"
   ]
  },
  {
   "cell_type": "code",
   "execution_count": null,
   "metadata": {},
   "outputs": [],
   "source": [
    "account1.name"
   ]
  },
  {
   "cell_type": "code",
   "execution_count": null,
   "metadata": {},
   "outputs": [],
   "source": [
    "account1.balance"
   ]
  },
  {
   "cell_type": "markdown",
   "metadata": {},
   "source": [
    "### Depositing Money into an `Account` \n",
    "* `deposit` method receives a positive dollar amount and adds it to the balance"
   ]
  },
  {
   "cell_type": "code",
   "execution_count": null,
   "metadata": {},
   "outputs": [],
   "source": [
    "account1.deposit(Decimal('25.53'))"
   ]
  },
  {
   "cell_type": "code",
   "execution_count": null,
   "metadata": {},
   "outputs": [],
   "source": [
    "account1.balance"
   ]
  },
  {
   "cell_type": "markdown",
   "metadata": {},
   "source": [
    "### `Account` Methods Perform Validation\n",
    "* `Account`’s methods validate their arguments"
   ]
  },
  {
   "cell_type": "code",
   "execution_count": null,
   "metadata": {},
   "outputs": [],
   "source": [
    "account1.deposit(Decimal('-123.45'))"
   ]
  },
  {
   "cell_type": "markdown",
   "metadata": {},
   "source": [
    "------\n",
    "&copy;1992&ndash;2020 by Pearson Education, Inc. All Rights Reserved. This content is based on Chapter 5 of the book [**Intro to Python for Computer Science and Data Science: Learning to Program with AI, Big Data and the Cloud**](https://amzn.to/2VvdnxE).\n",
    "\n",
    "DISCLAIMER: The authors and publisher of this book have used their \n",
    "best efforts in preparing the book. These efforts include the \n",
    "development, research, and testing of the theories and programs \n",
    "to determine their effectiveness. The authors and publisher make \n",
    "no warranty of any kind, expressed or implied, with regard to these \n",
    "programs or to the documentation contained in these books. The authors \n",
    "and publisher shall not be liable in any event for incidental or \n",
    "consequential damages in connection with, or arising out of, the \n",
    "furnishing, performance, or use of these programs.                  "
   ]
  },
  {
   "cell_type": "markdown",
   "metadata": {},
   "source": [
    "## 10.2.2 Account Class Definition \n",
    "### Defining a Class \n",
    "* Class definition begins with the keyword **`class`** followed by the class’s name and a colon (`:`)\n",
    "* Called the **class header**\n",
    "* _Style Guide for Python Code_ recommends that you begin each word in a multi-word class name with an uppercase letter\n",
    "* Every statement in a class’s suite is indented\n",
    "\n",
    "```python\n",
    "# account.py\n",
    "\"\"\"Account class definition.\"\"\"\n",
    "from decimal import Decimal\n",
    "\n",
    "class Account:\n",
    "    \"\"\"Account class for maintaining a bank account balance.\"\"\"\n",
    "    \n",
    "\n",
    "```"
   ]
  },
  {
   "cell_type": "markdown",
   "metadata": {},
   "source": [
    "### Defining a Class (cont.) \n",
    "* Each class typically provides a descriptive docstring \n",
    "* Must appear in the line or lines immediately following the class header\n",
    "* View any class’s docstring in IPython, type the class name and a question mark, then press _Enter_"
   ]
  },
  {
   "cell_type": "code",
   "execution_count": 9,
   "metadata": {},
   "outputs": [
    {
     "data": {
      "text/plain": [
       "\u001b[0;31mInit signature:\u001b[0m \u001b[0mAccount\u001b[0m\u001b[0;34m(\u001b[0m\u001b[0mname\u001b[0m\u001b[0;34m,\u001b[0m \u001b[0mbalance\u001b[0m\u001b[0;34m)\u001b[0m\u001b[0;34m\u001b[0m\u001b[0;34m\u001b[0m\u001b[0m\n",
       "\u001b[0;31mDocstring:\u001b[0m      Account class for maintaining a bank account balance.\n",
       "\u001b[0;31mInit docstring:\u001b[0m Initialize an Account object.\n",
       "\u001b[0;31mFile:\u001b[0m           ~/Dropbox/books/2019/PythonFullThrottle/account.py\n",
       "\u001b[0;31mType:\u001b[0m           type\n",
       "\u001b[0;31mSubclasses:\u001b[0m     \n"
      ]
     },
     "metadata": {},
     "output_type": "display_data"
    }
   ],
   "source": [
    "Account?"
   ]
  },
  {
   "cell_type": "markdown",
   "metadata": {},
   "source": [
    "### Defining a Class (cont.) \n",
    "* `Account` is both the class name and the name used in a constructor expression to create an `Account` object and invoke the class’s `__init__` method\n",
    "* IPython’s help mechanism shows both the class’s docstring (`\"Docstring:\"`) and the `__init__` method’s docstring (`\"Init docstring:\"`)"
   ]
  },
  {
   "cell_type": "markdown",
   "metadata": {},
   "source": [
    "### Initializing Account Objects: Method `__init__` \n",
    "* Constructor expression creates a new object, then initializes its data by calling the class’s **`__init__`** method\n",
    "* Each new class can provide an `__init__` method that specifies how to initialize an object’s data attributes\n",
    "* Returning a value other than `None` from `__init__` results in a `TypeError`\n",
    "* Class `Account`’s `__init__` method initializes an `Account` object’s `name` and `balance` attributes if the `balance` is valid"
   ]
  },
  {
   "cell_type": "markdown",
   "metadata": {},
   "source": [
    "### Initializing Account Objects: Method `__init__` (cont.)\n",
    "```python\n",
    "    def __init__(self, name, balance):\n",
    "        \"\"\"Initialize an Account object.\"\"\"\n",
    "\n",
    "        # if balance is less than 0.00, raise an exception\n",
    "        if balance < Decimal('0.00'):\n",
    "            raise ValueError('Initial balance must be >= to 0.00.')\n",
    "\n",
    "        self.name = name\n",
    "        self.balance = balance\n",
    "\n",
    "\n",
    "```"
   ]
  },
  {
   "cell_type": "markdown",
   "metadata": {},
   "source": [
    "### Initializing Account Objects: Method `__init__` (cont.)\n",
    "* When you call a method for a specific object, Python implicitly passes a reference to that object as the method’s first argument\n",
    "* So all methods of a class must specify at least one parameter\n",
    "* By convention a method’s first parameter is named `self`\n",
    "* Methods must use that reference (`self`) to access the object’s attributes and other methods"
   ]
  },
  {
   "cell_type": "markdown",
   "metadata": {},
   "source": [
    "### Initializing Account Objects: Method `__init__` (cont.)\n",
    "* When an object is created, it does not yet have any attributes\n",
    "* They’re added _dynamically_ via assignments of the form:\n",
    "```python\n",
    "self.attribute_name `=` value\n",
    "``` "
   ]
  },
  {
   "cell_type": "markdown",
   "metadata": {},
   "source": [
    "### Initializing Account Objects: Method `__init__` (cont.)\n",
    "* Python classes may define many [special methods](https://docs.python.org/3/reference/datamodel.html#special-method-names), like `__init__`\n",
    "* Each identified by leading and trailing double-underscores (`__`) in the method name\n",
    "* Class **`object`** defines the special methods that are available for _all_ Python objects "
   ]
  },
  {
   "cell_type": "markdown",
   "metadata": {},
   "source": [
    "### Method `deposit` \n",
    "* Adds a positive `amount` to the account’s `balance` attribute\n",
    "* Raises a `ValueError` if `amount` is less than `0.00`\n",
    "\n",
    "```python\n",
    "    def deposit(self, amount):\n",
    "        \"\"\"Deposit money to the account.\"\"\"\n",
    "\n",
    "        # if amount is less than 0.00, raise an exception\n",
    "        if amount < Decimal('0.00'):\n",
    "            raise ValueError('amount must be positive.')\n",
    "\n",
    "        self.balance += amount\n",
    "\n",
    "```"
   ]
  },
  {
   "cell_type": "markdown",
   "metadata": {},
   "source": [
    "------\n",
    "&copy;1992&ndash;2020 by Pearson Education, Inc. All Rights Reserved. This content is based on Chapter 5 of the book [**Intro to Python for Computer Science and Data Science: Learning to Program with AI, Big Data and the Cloud**](https://amzn.to/2VvdnxE).\n",
    "\n",
    "DISCLAIMER: The authors and publisher of this book have used their \n",
    "best efforts in preparing the book. These efforts include the \n",
    "development, research, and testing of the theories and programs \n",
    "to determine their effectiveness. The authors and publisher make \n",
    "no warranty of any kind, expressed or implied, with regard to these \n",
    "programs or to the documentation contained in these books. The authors \n",
    "and publisher shall not be liable in any event for incidental or \n",
    "consequential damages in connection with, or arising out of, the \n",
    "furnishing, performance, or use of these programs.                  "
   ]
  },
  {
   "cell_type": "markdown",
   "metadata": {},
   "source": [
    "## 10.2.3 Composition: Object References as Members of Classes\n",
    "* An Account _has a_ `name`, and an `Account` _has a_ `balance`\n",
    "* An object’s attributes are references to objects of other classes\n",
    "* Embedding references to objects of other types is a form of software reusability known as **composition** and is sometimes referred to as the **“has a” relationship**"
   ]
  },
  {
   "cell_type": "markdown",
   "metadata": {},
   "source": [
    "------\n",
    "&copy;1992&ndash;2020 by Pearson Education, Inc. All Rights Reserved. This content is based on Chapter 5 of the book [**Intro to Python for Computer Science and Data Science: Learning to Program with AI, Big Data and the Cloud**](https://amzn.to/2VvdnxE).\n",
    "\n",
    "DISCLAIMER: The authors and publisher of this book have used their \n",
    "best efforts in preparing the book. These efforts include the \n",
    "development, research, and testing of the theories and programs \n",
    "to determine their effectiveness. The authors and publisher make \n",
    "no warranty of any kind, expressed or implied, with regard to these \n",
    "programs or to the documentation contained in these books. The authors \n",
    "and publisher shall not be liable in any event for incidental or \n",
    "consequential damages in connection with, or arising out of, the \n",
    "furnishing, performance, or use of these programs.                  "
   ]
  },
  {
   "cell_type": "markdown",
   "metadata": {},
   "source": [
    "# 10.3 Controlling Access to Attributes \n",
    "* Pprevious example used attributes `name` and `balance` only to _get_ the values of those attributes\n",
    "* Also can use those attributes to _modify_ their values"
   ]
  },
  {
   "cell_type": "code",
   "execution_count": null,
   "metadata": {},
   "outputs": [],
   "source": [
    "from account import Account"
   ]
  },
  {
   "cell_type": "code",
   "execution_count": null,
   "metadata": {},
   "outputs": [],
   "source": [
    "from decimal import Decimal"
   ]
  },
  {
   "cell_type": "code",
   "execution_count": null,
   "metadata": {},
   "outputs": [],
   "source": [
    "account1 = Account('John Green', Decimal('50.00'))"
   ]
  },
  {
   "cell_type": "code",
   "execution_count": null,
   "metadata": {},
   "outputs": [],
   "source": [
    "account1.balance"
   ]
  },
  {
   "cell_type": "markdown",
   "metadata": {},
   "source": [
    "* Set the `balance` attribute to an _invalid_ negative value, then display the `balance`"
   ]
  },
  {
   "cell_type": "code",
   "execution_count": null,
   "metadata": {},
   "outputs": [],
   "source": [
    "account1.balance = Decimal('-1000.00')"
   ]
  },
  {
   "cell_type": "code",
   "execution_count": null,
   "metadata": {},
   "outputs": [],
   "source": [
    "account1.balance"
   ]
  },
  {
   "cell_type": "markdown",
   "metadata": {},
   "source": [
    "### Encapsulation \n",
    "* A class’s **client code** is any code that uses objects of the class\n",
    "* Most object-oriented programming languages enable you to **encapsulate** (or _hide_) an object’s data from the client code\n",
    "    * _private data_"
   ]
  },
  {
   "cell_type": "markdown",
   "metadata": {},
   "source": [
    "### Leading Underscore (`_`) Naming Convention\n",
    "* Python does _not_ have private data\n",
    "* Use _naming conventions_ to design classes that encourage correct use\n",
    "* By convention, Python programmers know that any attribute name beginning with an underscore (`_`) is for a class’s _internal use only_\n",
    "* Attributes whose identifiers do _not_ begin with an underscore (`_`) are considered _publicly accessible_ for use in client code"
   ]
  },
  {
   "cell_type": "markdown",
   "metadata": {},
   "source": [
    "------\n",
    "&copy;1992&ndash;2020 by Pearson Education, Inc. All Rights Reserved. This content is based on Chapter 5 of the book [**Intro to Python for Computer Science and Data Science: Learning to Program with AI, Big Data and the Cloud**](https://amzn.to/2VvdnxE).\n",
    "\n",
    "DISCLAIMER: The authors and publisher of this book have used their \n",
    "best efforts in preparing the book. These efforts include the \n",
    "development, research, and testing of the theories and programs \n",
    "to determine their effectiveness. The authors and publisher make \n",
    "no warranty of any kind, expressed or implied, with regard to these \n",
    "programs or to the documentation contained in these books. The authors \n",
    "and publisher shall not be liable in any event for incidental or \n",
    "consequential damages in connection with, or arising out of, the \n",
    "furnishing, performance, or use of these programs.                  "
   ]
  },
  {
   "cell_type": "markdown",
   "metadata": {},
   "source": [
    "# 10.4 `Time` Class with Properties for Data Access\n",
    "* **Properties** can control the manner in which they get and modify an object’s data&mdash;**assuming programmers follow conventions**\n",
    "* For robust date and time manipulation capabilities, see Python's [**datetime** module]( https://docs.python.org/3/library/datetime.html)"
   ]
  },
  {
   "cell_type": "markdown",
   "metadata": {},
   "source": [
    "## 10.4.1 Test-Driving Class `Time` \n",
    "Before we look at class `Time`’s definition, let’s demonstrate its capabilities"
   ]
  },
  {
   "cell_type": "code",
   "execution_count": null,
   "metadata": {},
   "outputs": [],
   "source": [
    "from timewithproperties import Time"
   ]
  },
  {
   "cell_type": "markdown",
   "metadata": {},
   "source": [
    "### Creating a `Time` Object\n",
    "* Create a `Time` object\n",
    "* Class `Time`’s `__init__` method has `hour`, `minute` and `second` parameters, each with a default argument value of 0"
   ]
  },
  {
   "cell_type": "code",
   "execution_count": null,
   "metadata": {},
   "outputs": [],
   "source": [
    "wake_up = Time(hour=6, minute=30)"
   ]
  },
  {
   "cell_type": "markdown",
   "metadata": {},
   "source": [
    "### Displaying a `Time` Object\n",
    "* Class `Time` defines two methods that produce string representations of `Time` object\n",
    "* When you evaluate a variable in IPython, it calls the object’s `__repr__` special method to produce a string representation of the object"
   ]
  },
  {
   "cell_type": "code",
   "execution_count": null,
   "metadata": {},
   "outputs": [],
   "source": [
    "wake_up"
   ]
  },
  {
   "cell_type": "markdown",
   "metadata": {},
   "source": [
    "* The `__str__` special method is called when an object is converted to a string, such as when you output the object with `print`"
   ]
  },
  {
   "cell_type": "code",
   "execution_count": null,
   "metadata": {},
   "outputs": [],
   "source": [
    "print(wake_up)"
   ]
  },
  {
   "cell_type": "markdown",
   "metadata": {},
   "source": [
    "### Getting an Attribute Via a Property \n",
    "* Class `Time` provides `hour`, `minute` and `second` **properties**\n",
    "    * Provide the convenience of data attributes for getting and modifying an object’s data\n",
    "    * Implemented as methods, so they may contain additional logic"
   ]
  },
  {
   "cell_type": "code",
   "execution_count": null,
   "metadata": {},
   "outputs": [],
   "source": [
    "wake_up.hour"
   ]
  },
  {
   "cell_type": "markdown",
   "metadata": {},
   "source": [
    "* Appears to simply get an `hour` data attribute’s value\n",
    "* A ctually a call to an `hour` _method_ that returns the value of an `_hour` data attribute"
   ]
  },
  {
   "cell_type": "markdown",
   "metadata": {},
   "source": [
    "### Setting the `Time` \n",
    "* `Time` method `set_time` method provides `hour`, `minute` and `second` parameters, each with a default of `0`"
   ]
  },
  {
   "cell_type": "code",
   "execution_count": null,
   "metadata": {},
   "outputs": [],
   "source": [
    "wake_up.set_time(hour=7, minute=45)"
   ]
  },
  {
   "cell_type": "code",
   "execution_count": null,
   "metadata": {},
   "outputs": [],
   "source": [
    "wake_up"
   ]
  },
  {
   "cell_type": "markdown",
   "metadata": {},
   "source": [
    "### Setting an Attribute via a Property \n",
    "* Class `Time` also supports setting the `hour`, `minute` and `second` values individually via its properties"
   ]
  },
  {
   "cell_type": "code",
   "execution_count": null,
   "metadata": {},
   "outputs": [],
   "source": [
    "wake_up.hour = 6"
   ]
  },
  {
   "cell_type": "code",
   "execution_count": null,
   "metadata": {},
   "outputs": [],
   "source": [
    "wake_up"
   ]
  },
  {
   "cell_type": "markdown",
   "metadata": {},
   "source": [
    "* Appears to simply assign a value to a data attribute\n",
    "* Actually a call to an `hour` method that takes `6` as an argument, validates the value, then assigns it to a corresponding data attribute named `_hour`"
   ]
  },
  {
   "cell_type": "markdown",
   "metadata": {},
   "source": [
    "### Attempting to Set an Invalid Value \n",
    "To prove that class `Time`’s properties _validate_ the values you assign to them, let’s try to assign an invalid value to the `hour` property, which results in a `ValueError`:"
   ]
  },
  {
   "cell_type": "code",
   "execution_count": null,
   "metadata": {},
   "outputs": [],
   "source": [
    "wake_up.hour = 100"
   ]
  },
  {
   "cell_type": "markdown",
   "metadata": {},
   "source": [
    "------\n",
    "&copy;1992&ndash;2020 by Pearson Education, Inc. All Rights Reserved. This content is based on Chapter 5 of the book [**Intro to Python for Computer Science and Data Science: Learning to Program with AI, Big Data and the Cloud**](https://amzn.to/2VvdnxE).\n",
    "\n",
    "DISCLAIMER: The authors and publisher of this book have used their \n",
    "best efforts in preparing the book. These efforts include the \n",
    "development, research, and testing of the theories and programs \n",
    "to determine their effectiveness. The authors and publisher make \n",
    "no warranty of any kind, expressed or implied, with regard to these \n",
    "programs or to the documentation contained in these books. The authors \n",
    "and publisher shall not be liable in any event for incidental or \n",
    "consequential damages in connection with, or arising out of, the \n",
    "furnishing, performance, or use of these programs.                  "
   ]
  },
  {
   "cell_type": "markdown",
   "metadata": {},
   "source": [
    "## 10.4.2 Class `Time` Definition\n",
    "\n",
    "### Class Time: `__init__` Method with Default Parameter Values\n",
    "* Specifies `hour`, `minute` and `second` parameters, each with a default argument of `0`\n",
    "* The statements containing `self.hour`, `self.minute` and `self.second` _appear_ to create `hour`, `minute` and `second` attributes for the new `Time` object (`self`)\n",
    "* These statements actually call methods that implement the class’s `hour`, `minute` and `second` _properties_ \n",
    "* Those methods create attributes named `_hour`, `_minute` and `_second` "
   ]
  },
  {
   "cell_type": "markdown",
   "metadata": {},
   "source": [
    "```python\n",
    "# timewithproperties.py\n",
    "\"\"\"Class Time with read-write properties.\"\"\"\n",
    "\n",
    "class Time:\n",
    "    \"\"\"Class Time with read-write properties.\"\"\"\n",
    "\n",
    "    def __init__(self, hour=0, minute=0, second=0):\n",
    "        \"\"\"Initialize each attribute.\"\"\"\n",
    "        self.hour = hour  # 0-23\n",
    "        self.minute = minute  # 0-59\n",
    "        self.second = second  # 0-59\n",
    "\n",
    "\n",
    "```"
   ]
  },
  {
   "cell_type": "markdown",
   "metadata": {},
   "source": [
    "### Class Time: `hour` Read-Write Property\n",
    "* Methods named `hour` define a _publicly accessible_ **read-write property** named `hour` that manipulates a data attribute named `_hour`\n",
    "* The single-leading-underscore (`_`) naming convention indicates that client code should not access `_hour` directly\n",
    "* Properties look like data attributes to programmers working with `Time` objects, but are implemented as _methods_\n",
    "* Each property defines a _getter_ method which _gets_ (returns) a data attribute’s value \n",
    "* Each property can _optionally_ define a _setter_ method which _sets_ a data attribute’s value"
   ]
  },
  {
   "cell_type": "markdown",
   "metadata": {},
   "source": [
    "```python \n",
    "    @property\n",
    "    def hour(self):\n",
    "        \"\"\"Return the hour.\"\"\"\n",
    "        return self._hour\n",
    "\n",
    "    @hour.setter\n",
    "    def hour(self, hour):\n",
    "        \"\"\"Set the hour.\"\"\"\n",
    "        if not (0 <= hour < 24):\n",
    "            raise ValueError(f'Hour ({hour}) must be 0-23')\n",
    "\n",
    "        self._hour = hour\n",
    "\n",
    "\n",
    "```"
   ]
  },
  {
   "cell_type": "markdown",
   "metadata": {},
   "source": [
    "### Class Time: `hour` Read-Write Property (cont.)\n",
    "* The **`@property` decorator** precedes the property’s _getter_ method, which receives only a `self` parameter\n",
    "* A decorator adds code to the decorated function\n",
    "    * Makes the `hour` function work with attribute syntax\n",
    "* _getter_ method’s name is the property name"
   ]
  },
  {
   "cell_type": "markdown",
   "metadata": {},
   "source": [
    "### Class Time: `hour` Read-Write Property (cont.)\n",
    "* A decorator of the form **`@property_name.setter`** (`@hour.setter`) precedes the property’s _setter_ method\n",
    "* Method receives two parameters—`self` and a parameter (`hour`) representing the value being assigned to the property\n",
    "* `__init__` invoked this `setter` to _validate_ `__init__`’s hour argument _before_ creating and initializing the object’s `_hour` attribute\n",
    "* A **read-write property** has both a _getter_ and a _setter_\n",
    "* A **read-only property** has only a _getter_"
   ]
  },
  {
   "cell_type": "markdown",
   "metadata": {},
   "source": [
    "### Class Time: `minute` and `second` Read-Write Properties\n",
    "* The following methods named `minute` and `second` define read-write `minute` and `second` properties\n",
    "* Each property’s `setter` ensures that its second argument is in the range 0–59 (the valid range of values for minutes and seconds)\n",
    "\n",
    "```python\n",
    "    @property\n",
    "    def minute(self):\n",
    "        \"\"\"Return the minute.\"\"\"\n",
    "        return self._minute\n",
    "\n",
    "    @minute.setter\n",
    "    def minute(self, minute):\n",
    "        \"\"\"Set the minute.\"\"\"\n",
    "        if not (0 <= minute < 60):\n",
    "            raise ValueError(f'Minute ({minute}) must be 0-59')\n",
    "\n",
    "        self._minute = minute\n",
    "\n",
    "    @property\n",
    "    def second(self):\n",
    "        \"\"\"Return the second.\"\"\"\n",
    "        return self._second\n",
    "\n",
    "    @second.setter\n",
    "    def second(self, second):\n",
    "        \"\"\"Set the second.\"\"\"\n",
    "        if not (0 <= second < 60):\n",
    "            raise ValueError(f'Second ({second}) must be 0-59')\n",
    "\n",
    "        self._second = second\n",
    "\n",
    "\n",
    "```"
   ]
  },
  {
   "cell_type": "markdown",
   "metadata": {},
   "source": [
    "### Class Time: Method `set_time` \n",
    "* Method `set_time` changes _all three_ attributes with a _single_ method call\n",
    "* The method uses the class's properties defined above\n",
    "\n",
    "```python\n",
    "    def set_time(self, hour=0, minute=0, second=0):\n",
    "        \"\"\"Set values of hour, minute, and second.\"\"\"\n",
    "        self.hour = hour\n",
    "        self.minute = minute\n",
    "        self.second = second\n",
    "\n",
    "\n",
    "```"
   ]
  },
  {
   "cell_type": "markdown",
   "metadata": {},
   "source": [
    "### Class Time: Special Method `__repr__`\n",
    "* When you pass an object to built-in function `repr`—which happens implicitly when you evaluate a variable in an IPython session—the corresponding class’s **`__repr__` special method** is called to get a string representation of the object\n",
    "\n",
    "```python\n",
    "    def __repr__(self):\n",
    "        \"\"\"Return Time string for repr().\"\"\"\n",
    "        return (f'Time(hour={self.hour}, minute={self.minute}, ' + \n",
    "                f'second={self.second})')\n",
    "\n",
    "\n",
    "```"
   ]
  },
  {
   "cell_type": "markdown",
   "metadata": {},
   "source": [
    "### Class Time: Special Method `__repr__` (cont.)\n",
    "* The Python documentation indicates that `__repr__` returns the “official” string representation of the object\n",
    "* Should look like a constructor expression that creates and initializes the object"
   ]
  },
  {
   "cell_type": "markdown",
   "metadata": {},
   "source": [
    "### Class Time: Special Method `__str__` \n",
    "* **`__str__`** special method is called implicitly when you \n",
    "    * convert an object to a string with the built-in function `str`\n",
    "    * `print` an object "
   ]
  },
  {
   "cell_type": "markdown",
   "metadata": {},
   "source": [
    "```python\n",
    "    def __str__(self):\n",
    "        \"\"\"Print Time in 12-hour clock format.\"\"\"\n",
    "        return (('12' if self.hour in (0, 12) else str(self.hour % 12)) + \n",
    "                f':{self.minute:0>2}:{self.second:0>2}' + \n",
    "                (' AM' if self.hour < 12 else ' PM'))\n",
    "\n",
    "```"
   ]
  },
  {
   "cell_type": "markdown",
   "metadata": {},
   "source": [
    "------\n",
    "&copy;1992&ndash;2020 by Pearson Education, Inc. All Rights Reserved. This content is based on Chapter 5 of the book [**Intro to Python for Computer Science and Data Science: Learning to Program with AI, Big Data and the Cloud**](https://amzn.to/2VvdnxE).\n",
    "\n",
    "DISCLAIMER: The authors and publisher of this book have used their \n",
    "best efforts in preparing the book. These efforts include the \n",
    "development, research, and testing of the theories and programs \n",
    "to determine their effectiveness. The authors and publisher make \n",
    "no warranty of any kind, expressed or implied, with regard to these \n",
    "programs or to the documentation contained in these books. The authors \n",
    "and publisher shall not be liable in any event for incidental or \n",
    "consequential damages in connection with, or arising out of, the \n",
    "furnishing, performance, or use of these programs.                  "
   ]
  },
  {
   "cell_type": "markdown",
   "metadata": {},
   "source": [
    "## 10.4.3 Class `Time` Definition Design Notes "
   ]
  },
  {
   "cell_type": "markdown",
   "metadata": {},
   "source": [
    "### Interface of a Class\n",
    "* Class `Time`’s properties and methods define the class’s **public interface**—\n",
    "    * Properties and methods programmers should use to interact with objects of the class "
   ]
  },
  {
   "cell_type": "markdown",
   "metadata": {},
   "source": [
    "### Attributes Are Always Accessible\n",
    "* Python does _not_ prevent you from directly manipulating the data attributes `_hour`, `_minute` and `_second`"
   ]
  },
  {
   "cell_type": "code",
   "execution_count": null,
   "metadata": {},
   "outputs": [],
   "source": [
    "from timewithproperties import Time"
   ]
  },
  {
   "cell_type": "code",
   "execution_count": null,
   "metadata": {},
   "outputs": [],
   "source": [
    "wake_up = Time(hour=7, minute=45, second=30)"
   ]
  },
  {
   "cell_type": "code",
   "execution_count": null,
   "metadata": {},
   "outputs": [],
   "source": [
    "wake_up._hour"
   ]
  },
  {
   "cell_type": "code",
   "execution_count": null,
   "metadata": {},
   "outputs": [],
   "source": [
    "wake_up._hour = 100"
   ]
  },
  {
   "cell_type": "code",
   "execution_count": null,
   "metadata": {},
   "outputs": [],
   "source": [
    "wake_up"
   ]
  },
  {
   "cell_type": "markdown",
   "metadata": {},
   "source": [
    "* After snippet `[4]`, the `wake_up` object contains _invalid_ data\n",
    "* Python tutorial says, “**nothing in Python makes it possible to enforce data hiding—it is all based upon convention**”"
   ]
  },
  {
   "cell_type": "markdown",
   "metadata": {},
   "source": [
    "### Internal Data Representation\n",
    "* Could represent the time internally as the number of seconds since midnight\n",
    "    * Would have to reimplement properties `hour`, `minute` and `second`\n",
    "* Other programmers could use the _same_ interface and get the _same_ results without being aware of these changes"
   ]
  },
  {
   "cell_type": "markdown",
   "metadata": {},
   "source": [
    "### Evolving a Class’s Implementation Details\n",
    "* Carefully consider a class’s interface before making that class available to other programmers\n",
    "* Design the interface such that existing code will not break if you update the class’s implementation detail"
   ]
  },
  {
   "cell_type": "markdown",
   "metadata": {},
   "source": [
    "### Utility Methods\n",
    "* Not all methods need to serve as part of a class’s interface\n",
    "* Some serve as **utility methods** used only _inside_ the class and are not intended to be part of the class’s public interface used by client code\n",
    "* Such methods should be named with a single leading underscore"
   ]
  },
  {
   "cell_type": "markdown",
   "metadata": {},
   "source": [
    "### Module `datetime` \n",
    "* Rather than building your own classes to represent times and dates, use the Python Standard Library’s `datetime` module capabilities\n",
    "> https://docs.python.org/3/library/datetime.html"
   ]
  },
  {
   "cell_type": "markdown",
   "metadata": {},
   "source": [
    "------\n",
    "&copy;1992&ndash;2020 by Pearson Education, Inc. All Rights Reserved. This content is based on Chapter 5 of the book [**Intro to Python for Computer Science and Data Science: Learning to Program with AI, Big Data and the Cloud**](https://amzn.to/2VvdnxE).\n",
    "\n",
    "DISCLAIMER: The authors and publisher of this book have used their \n",
    "best efforts in preparing the book. These efforts include the \n",
    "development, research, and testing of the theories and programs \n",
    "to determine their effectiveness. The authors and publisher make \n",
    "no warranty of any kind, expressed or implied, with regard to these \n",
    "programs or to the documentation contained in these books. The authors \n",
    "and publisher shall not be liable in any event for incidental or \n",
    "consequential damages in connection with, or arising out of, the \n",
    "furnishing, performance, or use of these programs.                  "
   ]
  },
  {
   "cell_type": "markdown",
   "metadata": {},
   "source": [
    "# 10.5 Simulating “Private” Attributes \n",
    "* Python programmers often use “private” attributes for data or utility methods that are essential to a class’s inner workings but are not part of the class’s public interface\n",
    "* _Two_ leading underscores indicates that an attribute (like `__hour`) or method is “private” and should not be accessible to the class’s clients\n",
    "* Python _renames_ such identifiers by preceding the attribute name with _ClassName_, as in `_Time__hour`\n",
    "    * called **name mangling**"
   ]
  },
  {
   "cell_type": "markdown",
   "metadata": {},
   "source": [
    "### IPython Auto-Completion Shows Only “Public” Attributes\n",
    "* IPython does not show attributes with one or two leading underscores when you try to auto-complete an expression by pressing _Tab_"
   ]
  },
  {
   "cell_type": "markdown",
   "metadata": {},
   "source": [
    "### Demonstrating “Private” Attributes\n",
    "```python\n",
    "# private.py\n",
    "\"\"\"Class with public and private attributes.\"\"\"\n",
    "\n",
    "class PrivateClass:\n",
    "    \"\"\"Class with public and private attributes.\"\"\"\n",
    "\n",
    "    def __init__(self):\n",
    "        \"\"\"Initialize the public and private attributes.\"\"\"\n",
    "        self.public_data = \"public\"  # public attribute\n",
    "        self.__private_data = \"private\"  # private attribute\n",
    "\n",
    "```"
   ]
  },
  {
   "cell_type": "markdown",
   "metadata": {},
   "source": [
    "* Create an object of class `PrivateData`"
   ]
  },
  {
   "cell_type": "code",
   "execution_count": null,
   "metadata": {},
   "outputs": [],
   "source": [
    "from private import PrivateClass"
   ]
  },
  {
   "cell_type": "code",
   "execution_count": null,
   "metadata": {},
   "outputs": [],
   "source": [
    "my_object = PrivateClass()"
   ]
  },
  {
   "cell_type": "markdown",
   "metadata": {},
   "source": [
    "* Access the `public_data` attribute directly"
   ]
  },
  {
   "cell_type": "code",
   "execution_count": null,
   "metadata": {},
   "outputs": [],
   "source": [
    "my_object.public_data"
   ]
  },
  {
   "cell_type": "markdown",
   "metadata": {},
   "source": [
    "* Attempt to access `__private_data` directly "
   ]
  },
  {
   "cell_type": "code",
   "execution_count": null,
   "metadata": {},
   "outputs": [],
   "source": [
    "my_object.__private_data"
   ]
  },
  {
   "cell_type": "markdown",
   "metadata": {},
   "source": [
    "------\n",
    "&copy;1992&ndash;2020 by Pearson Education, Inc. All Rights Reserved. This content is based on Chapter 5 of the book [**Intro to Python for Computer Science and Data Science: Learning to Program with AI, Big Data and the Cloud**](https://amzn.to/2VvdnxE).\n",
    "\n",
    "DISCLAIMER: The authors and publisher of this book have used their \n",
    "best efforts in preparing the book. These efforts include the \n",
    "development, research, and testing of the theories and programs \n",
    "to determine their effectiveness. The authors and publisher make \n",
    "no warranty of any kind, expressed or implied, with regard to these \n",
    "programs or to the documentation contained in these books. The authors \n",
    "and publisher shall not be liable in any event for incidental or \n",
    "consequential damages in connection with, or arising out of, the \n",
    "furnishing, performance, or use of these programs.                  "
   ]
  },
  {
   "cell_type": "markdown",
   "metadata": {},
   "source": [
    "# 10.6 Case Study: Card Shuffling and Dealing Simulation\n",
    "* Class `Card` represents a playing card that has a face (`'Ace'`, `'2'`, `'3'`, …, `'Jack'`, `'Queen'`, `'King'`) and a suit (`'Hearts'`, `'Diamonds'`, `'Clubs'`, `'Spades'`)\n",
    "* Class `DeckOfCards` represents a deck of 52 playing cards as a list of `Card` objects"
   ]
  },
  {
   "cell_type": "markdown",
   "metadata": {},
   "source": [
    "## 10.6.1 Test-Driving Classes Card and `DeckOfCards` \n",
    "Before we look at classes `Card` and `DeckOfCards`, let’s use an IPython session to demonstrate their capabilities. "
   ]
  },
  {
   "cell_type": "markdown",
   "metadata": {},
   "source": [
    "### Creating, Shuffling and Dealing the Cards "
   ]
  },
  {
   "cell_type": "code",
   "execution_count": null,
   "metadata": {},
   "outputs": [],
   "source": [
    "from deck import DeckOfCards"
   ]
  },
  {
   "cell_type": "code",
   "execution_count": null,
   "metadata": {},
   "outputs": [],
   "source": [
    "deck_of_cards = DeckOfCards()"
   ]
  },
  {
   "cell_type": "markdown",
   "metadata": {},
   "source": [
    "* `DeckOfCards` method `__init__` creates the 52 `Card` objects in order by suit and by face within each suit\n",
    "* Printing a `deck_of_cards` object calls its `__str__` method "
   ]
  },
  {
   "cell_type": "code",
   "execution_count": null,
   "metadata": {},
   "outputs": [],
   "source": [
    "print(deck_of_cards)"
   ]
  },
  {
   "cell_type": "markdown",
   "metadata": {},
   "source": [
    "* Shuffle the deck and print the `deck_of_cards` object again"
   ]
  },
  {
   "cell_type": "code",
   "execution_count": null,
   "metadata": {},
   "outputs": [],
   "source": [
    "deck_of_cards.shuffle()"
   ]
  },
  {
   "cell_type": "code",
   "execution_count": null,
   "metadata": {},
   "outputs": [],
   "source": [
    "print(deck_of_cards)"
   ]
  },
  {
   "cell_type": "markdown",
   "metadata": {},
   "source": [
    "### Dealing Cards\n",
    "* Can deal one `Card` at a time by calling method `deal_card`\n",
    "* IPython calls the returned `Card` object’s `__repr__` method to produce the string output "
   ]
  },
  {
   "cell_type": "code",
   "execution_count": null,
   "metadata": {},
   "outputs": [],
   "source": [
    "deck_of_cards.deal_card()"
   ]
  },
  {
   "cell_type": "markdown",
   "metadata": {},
   "source": [
    " \n",
    "### Class `Card`’s Other Features\n",
    "* Deal another card and pass it to the built-in `str` function"
   ]
  },
  {
   "cell_type": "code",
   "execution_count": null,
   "metadata": {},
   "outputs": [],
   "source": [
    "card = deck_of_cards.deal_card()"
   ]
  },
  {
   "cell_type": "code",
   "execution_count": null,
   "metadata": {},
   "outputs": [],
   "source": [
    "str(card)"
   ]
  },
  {
   "cell_type": "markdown",
   "metadata": {},
   "source": [
    "* Each `Card` has a corresponding image file name, which you can get via the `image_name` read-only property\n",
    "    * Used when we display the `Card`s as images"
   ]
  },
  {
   "cell_type": "code",
   "execution_count": null,
   "metadata": {},
   "outputs": [],
   "source": [
    "card.image_name"
   ]
  },
  {
   "cell_type": "markdown",
   "metadata": {},
   "source": [
    "------\n",
    "&copy;1992&ndash;2020 by Pearson Education, Inc. All Rights Reserved. This content is based on Chapter 5 of the book [**Intro to Python for Computer Science and Data Science: Learning to Program with AI, Big Data and the Cloud**](https://amzn.to/2VvdnxE).\n",
    "\n",
    "DISCLAIMER: The authors and publisher of this book have used their \n",
    "best efforts in preparing the book. These efforts include the \n",
    "development, research, and testing of the theories and programs \n",
    "to determine their effectiveness. The authors and publisher make \n",
    "no warranty of any kind, expressed or implied, with regard to these \n",
    "programs or to the documentation contained in these books. The authors \n",
    "and publisher shall not be liable in any event for incidental or \n",
    "consequential damages in connection with, or arising out of, the \n",
    "furnishing, performance, or use of these programs.                  "
   ]
  },
  {
   "cell_type": "markdown",
   "metadata": {},
   "source": [
    "## 10.6.2 Class `Card`—Introducing Class Attributes "
   ]
  },
  {
   "cell_type": "markdown",
   "metadata": {},
   "source": [
    "### Class Attributes `FACES` and `SUITS` \n",
    "* Each object of a class has its own copies of the class’s data attributes\n",
    "* A **class attribute** (also called a **class variable**) represents _class-wide_ information\n",
    "    * Belongs to the _class_, not to a specific object of that class\n",
    "* Two class attributes (lines 5–7):\n",
    "    * `FACES` is a list of the card face names\n",
    "    * `SUITS` is a list of the card suit names"
   ]
  },
  {
   "cell_type": "markdown",
   "metadata": {},
   "source": [
    "```python\n",
    "# card.py\n",
    "\"\"\"Card class that represents a playing card and its image file name.\"\"\"\n",
    "\n",
    "class Card:\n",
    "    FACES = ['Ace', '2', '3', '4', '5', '6',\n",
    "             '7', '8', '9', '10', 'Jack', 'Queen', 'King']\n",
    "    SUITS = ['Hearts', 'Diamonds', 'Clubs', 'Spades']\n",
    "\n",
    "\n",
    "```"
   ]
  },
  {
   "cell_type": "markdown",
   "metadata": {},
   "source": [
    "### Class Attributes `FACES` and `SUITS` (cont.)\n",
    "* Define a class attribute by assigning a value to it inside the class’s definition, but not inside any of the class’s methods or properties (in which case, they’d be local variables)\n",
    "* `FACES` and `SUITS` are _constants_ that are not meant to be modified\n",
    "* _Style Guide for Python Code_ recommends naming your constants with all capital letters."
   ]
  },
  {
   "cell_type": "markdown",
   "metadata": {},
   "source": [
    "### Class Attributes `FACES` and `SUITS` (cont.)\n",
    "* We’ll use `FACES` and `SUITS` to initialize each `Card` we create\n",
    "* Do not need a separate copy of each list in every `Card` object\n",
    "* Class attributes are typically accessed through the class’s name (as in, `Card.FACES` or `Card.SUITS`)\n",
    "* Class attributes exist as soon as you import their class’s definition"
   ]
  },
  {
   "cell_type": "markdown",
   "metadata": {},
   "source": [
    "### Card Method `__init__` \n",
    "* Method `__init__` defines a `Card`’s `_face` and `_suit` data attributes\n",
    "\n",
    "```python\n",
    "    def __init__(self, face, suit):\n",
    "        \"\"\"Initialize a Card with a face and suit.\"\"\"\n",
    "        self._face = face\n",
    "        self._suit = suit\n",
    "\n",
    "```"
   ]
  },
  {
   "cell_type": "markdown",
   "metadata": {},
   "source": [
    "### Read-Only Properties `face`, `suit` and `image_name` \n",
    "* Once a `Card` is created, its `face`, `suit` and `image_name` do not change, so these are read-only properties\n",
    "* A property is not required to have a corresponding data attribute\n",
    "* `Card` property `image_name`’s value is _created dynamically_ by getting the `Card` object’s string representation with `str(self)`, replacing any spaces with underscores and appending the `'.png'` filename extension"
   ]
  },
  {
   "cell_type": "markdown",
   "metadata": {},
   "source": [
    "```python   \n",
    "    @property\n",
    "    def face(self):\n",
    "        \"\"\"Return the Card's self._face value.\"\"\"\n",
    "        return self._face\n",
    "\n",
    "    @property\n",
    "    def suit(self):\n",
    "        \"\"\"Return the Card's self._suit value.\"\"\"\n",
    "        return self._suit\n",
    "\n",
    "    @property\n",
    "    def image_name(self):\n",
    "        \"\"\"Return the Card's image file name.\"\"\"\n",
    "        return str(self).replace(' ', '_') + '.png'\n",
    "\n",
    "\n",
    "```"
   ]
  },
  {
   "cell_type": "markdown",
   "metadata": {},
   "source": [
    "### Methods That Return String Representations of a Card \n",
    "* `Card` provides three special methods that return string representations\n",
    "* Method `__repr__` returns a string representation that looks like a constructor expression \n",
    "\n",
    "```python\n",
    "    def __repr__(self):\n",
    "        \"\"\"Return string representation for repr().\"\"\"\n",
    "        return f\"Card(face='{self.face}', suit='{self.suit}')\"     \n",
    "\n",
    "\n",
    "```"
   ]
  },
  {
   "cell_type": "markdown",
   "metadata": {},
   "source": [
    "### Methods That Return String Representations of a Card (cont.)\n",
    "* Method `__str__` returns a string of the format `'`_face_ `of` _suit_`'` \n",
    "\n",
    "```python \n",
    "    def __str__(self):\n",
    "        \"\"\"Return string representation for str().\"\"\"\n",
    "        return f'{self.face} of {self.suit}'\n",
    "\n",
    "\n",
    "```"
   ]
  },
  {
   "cell_type": "markdown",
   "metadata": {},
   "source": [
    "### Methods That Return String Representations of a Card (cont.)\n",
    "* In the `__str__` method of class `DeckOfCards`, we use f-strings to format the `Card`s in fields of 19 characters each\n",
    "* Class `Card`’s special method **`__format__`** is called when a `Card` object is _formatted_ as a string\n",
    "\n",
    "```python\n",
    "    def __format__(self, format):\n",
    "        \"\"\"Return formatted string representation for str().\"\"\"\n",
    "        return f'{str(self):{format}}'\n",
    "\n",
    "```"
   ]
  },
  {
   "cell_type": "markdown",
   "metadata": {},
   "source": [
    "* Second argument is the format string used to format the object\n",
    "* To use the `format` parameter’s value as a format specifier, enclose the parameter name in braces to the _right_ of the colon"
   ]
  },
  {
   "cell_type": "markdown",
   "metadata": {},
   "source": [
    "------\n",
    "&copy;1992&ndash;2020 by Pearson Education, Inc. All Rights Reserved. This content is based on Chapter 5 of the book [**Intro to Python for Computer Science and Data Science: Learning to Program with AI, Big Data and the Cloud**](https://amzn.to/2VvdnxE).\n",
    "\n",
    "DISCLAIMER: The authors and publisher of this book have used their \n",
    "best efforts in preparing the book. These efforts include the \n",
    "development, research, and testing of the theories and programs \n",
    "to determine their effectiveness. The authors and publisher make \n",
    "no warranty of any kind, expressed or implied, with regard to these \n",
    "programs or to the documentation contained in these books. The authors \n",
    "and publisher shall not be liable in any event for incidental or \n",
    "consequential damages in connection with, or arising out of, the \n",
    "furnishing, performance, or use of these programs.                  "
   ]
  },
  {
   "cell_type": "markdown",
   "metadata": {},
   "source": [
    "## 10.6.3 Class `DeckOfCards` \n",
    "* Class attribute `NUMBER_OF_CARDS` represents the number of `Card`s in a deck\n",
    "* Data attribute `_current_card` keeps track of which `Card` will be dealt next (`0`–`5`1) \n",
    "* Data attribute `_deck` is a list of 52 `Card` objects"
   ]
  },
  {
   "cell_type": "markdown",
   "metadata": {},
   "source": [
    "### Method `__init__`\n",
    "* Initializes a `_deck` of `Card`s\n",
    "* `for` statement fills the list `_deck` by appending new `Card` objects, each initialized with two strings—one from the list `Card.FACES` and one from `Card.SUITS`\n"
   ]
  },
  {
   "cell_type": "markdown",
   "metadata": {},
   "source": [
    "```python\n",
    "# deck.py\n",
    "\"\"\"Deck class represents a deck of Cards.\"\"\"\n",
    "import random \n",
    "from card import Card\n",
    "\n",
    "class DeckOfCards:\n",
    "    NUMBER_OF_CARDS = 52  # constant number of Cards\n",
    "\n",
    "    def __init__(self):\n",
    "        \"\"\"Initialize the deck.\"\"\"\n",
    "        self._current_card = 0\n",
    "        self._deck = []\n",
    "\n",
    "        for count in range(DeckOfCards.NUMBER_OF_CARDS):  \n",
    "            self._deck.append(Card(Card.FACES[count % 13], \n",
    "                Card.SUITS[count // 13]))\n",
    "\n",
    "\n",
    "```"
   ]
  },
  {
   "cell_type": "markdown",
   "metadata": {},
   "source": [
    "### Method `shuffle`\n",
    "* Resets `_current_card` to `0`, then shuffles the `Card`s in `_deck` using the `random` module’s `shuffle` function\n",
    "\n",
    "```python \n",
    "    def shuffle(self):\n",
    "        \"\"\"Shuffle deck.\"\"\"\n",
    "        self._current_card = 0\n",
    "        random.shuffle(self._deck)    \n",
    "\n",
    "\n",
    "```"
   ]
  },
  {
   "cell_type": "markdown",
   "metadata": {},
   "source": [
    "### Method `deal_card`\n",
    "* Deals one `Card` from `_deck`\n",
    "* Returns `None` when there are no more `Card`s to deal\n",
    "\n",
    "```python \n",
    "    def deal_card(self):\n",
    "        \"\"\"Return one Card.\"\"\"\n",
    "        try:\n",
    "            card = self._deck[self._current_card]\n",
    "            self._current_card += 1\n",
    "            return card\n",
    "        except:\n",
    "            return None  \n",
    "\n",
    "\n",
    "```"
   ]
  },
  {
   "cell_type": "markdown",
   "metadata": {},
   "source": [
    "### Method `__str__`\n",
    "* Returns a string representation of the deck in four columns with each `Card` left aligned in a field of 19 characters\n",
    "\n",
    "```python \n",
    "    def __str__(self):\n",
    "        \"\"\"Return a string representation of the current _deck.\"\"\"\n",
    "        s = ''\n",
    "\n",
    "        for index, card in enumerate(self._deck):\n",
    "            s += f'{self._deck[index]:<19}'\n",
    "            if (index + 1) % 4 == 0:\n",
    "                s += '\\n'\n",
    "        \n",
    "        return s\n",
    "\n",
    "```\n"
   ]
  },
  {
   "cell_type": "markdown",
   "metadata": {},
   "source": [
    "------\n",
    "&copy;1992&ndash;2020 by Pearson Education, Inc. All Rights Reserved. This content is based on Chapter 5 of the book [**Intro to Python for Computer Science and Data Science: Learning to Program with AI, Big Data and the Cloud**](https://amzn.to/2VvdnxE).\n",
    "\n",
    "DISCLAIMER: The authors and publisher of this book have used their \n",
    "best efforts in preparing the book. These efforts include the \n",
    "development, research, and testing of the theories and programs \n",
    "to determine their effectiveness. The authors and publisher make \n",
    "no warranty of any kind, expressed or implied, with regard to these \n",
    "programs or to the documentation contained in these books. The authors \n",
    "and publisher shall not be liable in any event for incidental or \n",
    "consequential damages in connection with, or arising out of, the \n",
    "furnishing, performance, or use of these programs.                  "
   ]
  },
  {
   "cell_type": "markdown",
   "metadata": {},
   "source": [
    "## 10.6.4 Displaying `Card` Images with Matplotlib \n",
    "* Let’s display `Card` images\n",
    "* We downloaded public-domain card images from Wikimedia Commons:\n",
    "\n",
    "> https://commons.wikimedia.org/wiki/Category:SVG_English_pattern_playing_cards\n",
    "\n",
    "* Located in the `ch10` examples folder’s `card_images` subfolder"
   ]
  },
  {
   "cell_type": "code",
   "execution_count": null,
   "metadata": {},
   "outputs": [],
   "source": [
    "from deck import DeckOfCards"
   ]
  },
  {
   "cell_type": "code",
   "execution_count": null,
   "metadata": {},
   "outputs": [],
   "source": [
    "deck_of_cards = DeckOfCards()"
   ]
  },
  {
   "cell_type": "markdown",
   "metadata": {},
   "source": [
    "### Enable Matplotlib in IPython\n",
    "* `inline` required only in Jupyter"
   ]
  },
  {
   "cell_type": "code",
   "execution_count": null,
   "metadata": {},
   "outputs": [],
   "source": [
    "%matplotlib inline"
   ]
  },
  {
   "cell_type": "markdown",
   "metadata": {},
   "source": [
    "### Create the Base `Path` for Each Image\n",
    "* Use the `pathlib` module’s **`Path` class** to construct the full path to each image on our system\n",
    "* `Path` method **`joinpath`** appends the subfolder containing the card images to the path for the current folder (`.`)\n",
    " "
   ]
  },
  {
   "cell_type": "code",
   "execution_count": null,
   "metadata": {},
   "outputs": [],
   "source": [
    "from pathlib import Path"
   ]
  },
  {
   "cell_type": "code",
   "execution_count": null,
   "metadata": {},
   "outputs": [],
   "source": [
    "path = Path('.').joinpath('card_images')"
   ]
  },
  {
   "cell_type": "markdown",
   "metadata": {},
   "source": [
    "### Import the Matplotlib Features\n",
    "* We’ll use a function from **`matplotlib.image`** to load the images"
   ]
  },
  {
   "cell_type": "code",
   "execution_count": null,
   "metadata": {},
   "outputs": [],
   "source": [
    "import matplotlib.pyplot as plt"
   ]
  },
  {
   "cell_type": "code",
   "execution_count": null,
   "metadata": {},
   "outputs": [],
   "source": [
    "import matplotlib.image as mpimg"
   ]
  },
  {
   "cell_type": "markdown",
   "metadata": {},
   "source": [
    "### Create the `Figure` and ` Axes` Objects\n",
    "* **NOTE: In Jupyter, all code that modifies the on-screen presentation of a `Figure` must be in one cell, so we combined several cells below**\n",
    "\n",
    "* The first statement in the following cell uses Matplotlib function **`subplots`** to create a `Figure` object in which we’ll display the images as 52 _subplots_ with four rows (`nrows`) and 13 columns (`ncols`)\n",
    "* Returns a tuple containing the `Figure` and an array of the subplots’ `Axes` objects"
   ]
  },
  {
   "cell_type": "code",
   "execution_count": null,
   "metadata": {},
   "outputs": [],
   "source": [
    "figure, axes_list = plt.subplots(nrows=4, ncols=13)\n",
    "\n",
    "# added next two statements to increase figure size in notebook\n",
    "figure.set_figwidth(16)\n",
    "figure.set_figheight(9)\n",
    "\n",
    "for axes in axes_list.ravel():\n",
    "    axes.get_xaxis().set_visible(False)\n",
    "    axes.get_yaxis().set_visible(False)\n",
    "    image_name = deck_of_cards.deal_card().image_name\n",
    "    img = mpimg.imread(str(path.joinpath(image_name).resolve()))\n",
    "    axes.imshow(img)\n",
    "\n",
    "figure.tight_layout()"
   ]
  },
  {
   "cell_type": "markdown",
   "metadata": {},
   "source": [
    "### Configure the `Axes` Objects and Display the Images\n",
    "* The loop iterates through all the `Axes` objects in `axes_list`\n",
    "    * `ravel` provides a one-dimensional view of a multidimensional array\n",
    "* For each `Axes` object,\n",
    "    * hide the _x_- and _y_-axes.\n",
    "    * deals a `Card` and get its `image_name`\n",
    "    * get full path to the image\n",
    "    * use `matplotlib.image` module’s **`imread` function** to load the image\n",
    "    * call `Axes` method **`imshow`** to display the current image in the current subplot"
   ]
  },
  {
   "cell_type": "markdown",
   "metadata": {},
   "source": [
    "### Maximize the Image Sizes\n",
    "* Matplotlib `Figure` object’s **`tight_layout` method** removes most of the extra white space in the window\n",
    " "
   ]
  },
  {
   "cell_type": "markdown",
   "metadata": {},
   "source": [
    "### Shuffle and Re-Deal the Deck"
   ]
  },
  {
   "cell_type": "code",
   "execution_count": null,
   "metadata": {},
   "outputs": [],
   "source": [
    "deck_of_cards.shuffle()"
   ]
  },
  {
   "cell_type": "code",
   "execution_count": null,
   "metadata": {},
   "outputs": [],
   "source": [
    "# added this statement to create a separate figure in the notebook\n",
    "figure, axes_list = plt.subplots(nrows=4, ncols=13)\n",
    "\n",
    "# added next two statements to increase figure size in notebook\n",
    "figure.set_figwidth(16)\n",
    "figure.set_figheight(9)\n",
    "\n",
    "for axes in axes_list.ravel():\n",
    "    axes.get_xaxis().set_visible(False)\n",
    "    axes.get_yaxis().set_visible(False)\n",
    "    image_name = deck_of_cards.deal_card().image_name\n",
    "    img = mpimg.imread(str(path.joinpath(image_name).resolve()))\n",
    "    axes.imshow(img)\n",
    "    \n",
    "# added this statement for execution in the notebook\n",
    "figure.tight_layout()"
   ]
  },
  {
   "cell_type": "markdown",
   "metadata": {},
   "source": [
    "------\n",
    "&copy;1992&ndash;2020 by Pearson Education, Inc. All Rights Reserved. This content is based on Chapter 5 of the book [**Intro to Python for Computer Science and Data Science: Learning to Program with AI, Big Data and the Cloud**](https://amzn.to/2VvdnxE).\n",
    "\n",
    "DISCLAIMER: The authors and publisher of this book have used their \n",
    "best efforts in preparing the book. These efforts include the \n",
    "development, research, and testing of the theories and programs \n",
    "to determine their effectiveness. The authors and publisher make \n",
    "no warranty of any kind, expressed or implied, with regard to these \n",
    "programs or to the documentation contained in these books. The authors \n",
    "and publisher shall not be liable in any event for incidental or \n",
    "consequential damages in connection with, or arising out of, the \n",
    "furnishing, performance, or use of these programs.                  "
   ]
  },
  {
   "cell_type": "markdown",
   "metadata": {},
   "source": [
    "# 10.7 Inheritance: Base Classes and Subclasses\n",
    "* Often, an object of one class _is an_ object of another class as well\n",
    "* a `CarLoan` _is a_ `Loan` as are `HomeImprovementLoan`s and `MortgageLoan`s\n",
    "* Class `CarLoan` can be said to inherit from class `Loan`. \n",
    "* In this context, class `Loan` is a base class, and class `CarLoan` is a subclass\n",
    "* A `CarLoan` _is a_ specific type of `Loan`, but it’s incorrect to claim that every `Loan` _is a_ `CarLoan`"
   ]
  },
  {
   "cell_type": "markdown",
   "metadata": {},
   "source": [
    "# 10.7 Inheritance: Base Classes and Subclasses (cont.)\n",
    "* Table of base classes and subclasses—base classes tend to be “more general” and subclasses “more specific”: \n",
    "\n",
    "| Base class\t| Subclasses\n",
    "| --------\t| --------\n",
    "| `Student`\t| `GraduateStudent`, `UndergraduateStuden`\n",
    "| `Shape`\t| `Circle`, `Triangle`, `Rectangle`, `Sphere`, `Cube`\n",
    "| `Loan`\t| `CarLoan`, `HomeImprovementLoan`, `MortgageLoan`\n",
    "| `Employee`\t| `Faculty`, `Staff`\n",
    "| `BankAccount`\t| `CheckingAccount`, `SavingsAccount`"
   ]
  },
  {
   "cell_type": "markdown",
   "metadata": {},
   "source": [
    "# 10.7 Inheritance: Base Classes and Subclasses (cont.)\n",
    "* Every subclass object _is an_ object of its base class\n",
    "* The set of objects represented by a base class is often larger than the set of objects represented by any of its subclasses\n"
   ]
  },
  {
   "cell_type": "markdown",
   "metadata": {},
   "source": [
    "### `CommunityMember` Inheritance Hierarchy\n",
    "* Inheritance relationships form tree-like _hierarchical_ structures\n",
    "* A base class exists in a hierarchical relationship with its subclasses\n",
    "* With **single inheritance**, a class is derived from _one_ base class\n",
    "* With **multiple inheritance**, a subclass inherits from _two or more_ base classes\n",
    "* Sample class hierarchy, also called an **inheritance hierarchy** for a university community "
   ]
  },
  {
   "cell_type": "markdown",
   "metadata": {},
   "source": [
    "![Sample class hierarchy for a university community](ch10images/AAEMYRT0.png \"Sample class hierarchy for a university community\")"
   ]
  },
  {
   "cell_type": "markdown",
   "metadata": {},
   "source": [
    "* Each arrow in the hierarchy represents an _is-a_ relationship\n",
    "    * “an `Employee` _is a_ `CommunityMember`” \n",
    "    * “a `Teacher` _is a_ `Faculty` member” \n",
    "* `CommunityMember` is the direct base class of `Employee`, `Student` and `Alum` and is an indirect base class of all the other classes in the diagram\n",
    "Starting from the bottom, you can follow the arrows and apply the _is-a_ relationship up to the topmost superclass"
   ]
  },
  {
   "cell_type": "markdown",
   "metadata": {},
   "source": [
    "### `Shape` Inheritance Hierarchy"
   ]
  },
  {
   "cell_type": "markdown",
   "metadata": {},
   "source": [
    "![Shape inheritance hierarchy](ch10images/AAEMYRU0.png \"Shape inheritance hierarchy\")"
   ]
  },
  {
   "cell_type": "markdown",
   "metadata": {},
   "source": [
    "### “is a” vs. “has a”\n",
    "* Inheritance produces **“is-a” relationships** in which an object of a subclass type may also be treated as an object of the base-class type\n",
    "* In “has-a” (composition) relationships, a class has references to one or more objects of other classes as members"
   ]
  },
  {
   "cell_type": "markdown",
   "metadata": {},
   "source": [
    "------\n",
    "&copy;1992&ndash;2020 by Pearson Education, Inc. All Rights Reserved. This content is based on Chapter 5 of the book [**Intro to Python for Computer Science and Data Science: Learning to Program with AI, Big Data and the Cloud**](https://amzn.to/2VvdnxE).\n",
    "\n",
    "DISCLAIMER: The authors and publisher of this book have used their \n",
    "best efforts in preparing the book. These efforts include the \n",
    "development, research, and testing of the theories and programs \n",
    "to determine their effectiveness. The authors and publisher make \n",
    "no warranty of any kind, expressed or implied, with regard to these \n",
    "programs or to the documentation contained in these books. The authors \n",
    "and publisher shall not be liable in any event for incidental or \n",
    "consequential damages in connection with, or arising out of, the \n",
    "furnishing, performance, or use of these programs.                  "
   ]
  },
  {
   "cell_type": "markdown",
   "metadata": {},
   "source": [
    "# 10.8 Building an Inheritance Hierarchy; Introducing Polymorphism\n",
    "* Hierarchy containing types of employees in a company’s payroll app\n",
    "* All employees of the company have a lot in common\n",
    "    * _commission employees_ (who will be represented as objects of a base class) are paid a percentage of their sales\n",
    "    * _salaried commission employees_ (who will be represented as objects of a subclass) receive a percentage of their sales _plus_ a base salary \n"
   ]
  },
  {
   "cell_type": "markdown",
   "metadata": {},
   "source": [
    "## 10.8.1 Base Class `CommissionEmployee` \n",
    "Class `CommissionEmployee` provides the following features: \n",
    "* Method `__init__` creates the data attributes `_first_name`, `_last_name` and `_ssn` (Social Security number), and uses the setter's of properties `gross_sales` and `commission_rate` to create their corresponding data attributes\n",
    "* Read-only properties `first_name`, `last_name` and `ssn`, which return the corresponding data attributes\n",
    "* Read-write properties `gross_sales` and `commission_rate` in which the `setter`s perform data validation\n",
    "* Method `earnings`, which calculates and returns a `CommissionEmployee`’s earnings\n",
    "* Method `__repr__`, which returns a string representation of a `CommissionEmployee`"
   ]
  },
  {
   "cell_type": "markdown",
   "metadata": {},
   "source": [
    "```python\n",
    "# commmissionemployee.py\n",
    "\"\"\"CommissionEmployee base class.\"\"\"\n",
    "from decimal import Decimal\n",
    "\n",
    "class CommissionEmployee:\n",
    "    \"\"\"An employee who gets paid commission based on gross sales.\"\"\"\n",
    "\n",
    "    def __init__(self, first_name, last_name, ssn, \n",
    "                 gross_sales, commission_rate):\n",
    "        \"\"\"Initialize CommissionEmployee's attributes.\"\"\"\n",
    "        self._first_name = first_name\n",
    "        self._last_name = last_name\n",
    "        self._ssn = ssn\n",
    "        self.gross_sales = gross_sales  # validate via property\n",
    "        self.commission_rate = commission_rate  # validate via property\n",
    "\n",
    "    @property\n",
    "    def first_name(self):\n",
    "        return self._first_name\n",
    "\n",
    "    @property\n",
    "    def last_name(self):\n",
    "        return self._last_name\n",
    "\n",
    "    @property\n",
    "    def ssn(self):\n",
    "        return self._ssn\n",
    "\n",
    "    @property\n",
    "    def gross_sales(self):\n",
    "        return self._gross_sales\n",
    "\n",
    "    @gross_sales.setter\n",
    "    def gross_sales(self, sales):\n",
    "        \"\"\"Set gross sales or raise ValueError if invalid.\"\"\"\n",
    "        if sales < Decimal('0.00'):\n",
    "            raise ValueError('Gross sales must be >= to 0')\n",
    "        \n",
    "        self._gross_sales = sales\n",
    "        \n",
    "    @property\n",
    "    def commission_rate(self):\n",
    "        return self._commission_rate\n",
    "\n",
    "    @commission_rate.setter\n",
    "    def commission_rate(self, rate):\n",
    "        \"\"\"Set commission rate or raise ValueError if invalid.\"\"\"\n",
    "        if not (Decimal('0.0') < rate < Decimal('1.0')):\n",
    "            raise ValueError(\n",
    "               'Interest rate must be greater than 0 and less than 1')\n",
    "        \n",
    "        self._commission_rate = rate\n",
    "\n",
    "    def earnings(self):\n",
    "        \"\"\"Calculate earnings.\"\"\"   \n",
    "        return self.gross_sales * self.commission_rate\n",
    "\n",
    "    def __repr__(self):\n",
    "        \"\"\"Return string representation for repr().\"\"\"\n",
    "        return ('CommissionEmployee: ' + \n",
    "            f'{self.first_name} {self.last_name}\\n' +\n",
    "            f'social security number: {self.ssn}\\n' +\n",
    "            f'gross sales: {self.gross_sales:.2f}\\n' +\n",
    "            f'commission rate: {self.commission_rate:.2f}')\n",
    "\n",
    "```"
   ]
  },
  {
   "cell_type": "markdown",
   "metadata": {},
   "source": [
    "### All Classes Inherit Directly or Indirectly from Class `object`\n",
    "* _Every_ Python class inherits from an existing class\n",
    "* When you do not explicitly specify the base class for a new class, Python assumes that the class inherits directly from class `object`\n",
    "* Class `CommissionEmployee`’s header could have been written as\n",
    ">```python\n",
    "class CommissionEmployee(object):\n",
    "```\n",
    "* The parentheses after `CommissionEmployee` indicate inheritance and may contain \n",
    "    * a single class for single inheritance \n",
    "    * a comma-separated list of base classes for multiple inheritance"
   ]
  },
  {
   "cell_type": "markdown",
   "metadata": {},
   "source": [
    "### All Classes Inherit Directly or Indirectly from Class `object` (cont.)\n",
    "* `CommissionEmployee` inherits all the methods of class `object`\n",
    "* Two of the many methods inherited from `object` are `__repr__` and `__str__`\n",
    "    * So _every_ class has these methods that return string representations of the objects on which they’re called\n",
    "* When a base-class method implementation is inappropriate for a derived class, that method can be **overridden** (i.e., redefined) in the derived class with an appropriate implementation\n",
    "    * Method `__repr__` overrides the default implementation from class `object`"
   ]
  },
  {
   "cell_type": "markdown",
   "metadata": {},
   "source": [
    "### Testing Class `CommissionEmployee`  \n",
    "* test some of `CommissionEmployee`’s features"
   ]
  },
  {
   "cell_type": "code",
   "execution_count": null,
   "metadata": {},
   "outputs": [],
   "source": [
    "from commissionemployee import CommissionEmployee"
   ]
  },
  {
   "cell_type": "code",
   "execution_count": null,
   "metadata": {},
   "outputs": [],
   "source": [
    "from decimal import Decimal"
   ]
  },
  {
   "cell_type": "code",
   "execution_count": null,
   "metadata": {},
   "outputs": [],
   "source": [
    "c = CommissionEmployee('Sue', 'Jones', '333-33-3333', \n",
    "    Decimal('10000.00'), Decimal('0.06'))"
   ]
  },
  {
   "cell_type": "code",
   "execution_count": null,
   "metadata": {},
   "outputs": [],
   "source": [
    "c"
   ]
  },
  {
   "cell_type": "markdown",
   "metadata": {},
   "source": [
    "* calculate and display the `CommissionEmployee`’s earnings"
   ]
  },
  {
   "cell_type": "code",
   "execution_count": null,
   "metadata": {},
   "outputs": [],
   "source": [
    "print(f'{c.earnings():,.2f}')"
   ]
  },
  {
   "cell_type": "markdown",
   "metadata": {},
   "source": [
    "* change the `CommissionEmployee`’s gross sales and commission rate, then recalculate the earnings"
   ]
  },
  {
   "cell_type": "code",
   "execution_count": null,
   "metadata": {},
   "outputs": [],
   "source": [
    "c.gross_sales = Decimal('20000.00')"
   ]
  },
  {
   "cell_type": "code",
   "execution_count": null,
   "metadata": {},
   "outputs": [],
   "source": [
    "c.commission_rate = Decimal('0.1')"
   ]
  },
  {
   "cell_type": "code",
   "execution_count": null,
   "metadata": {},
   "outputs": [],
   "source": [
    "print(f'{c.earnings():,.2f}')"
   ]
  },
  {
   "cell_type": "markdown",
   "metadata": {},
   "source": [
    "## 10.8.2 Subclass `SalariedCommissionEmployee` \n",
    "* With single inheritance, the subclass starts essentially the same as the base class\n",
    "* The real strength of inheritance comes from the ability to define in the subclass additions, replacements or refinements for the features inherited from the base class. \n",
    "* Many of a `SalariedCommissionEmployee`’s capabilities are similar, if not identical, to those of class `CommissionEmployee`\n",
    "    * Both types of employees have first name, last name, Social Security number, gross sales and commission rate data attributes, and properties and methods to manipulate that data\n",
    "* Inheritance enables us to “absorb” the features of a class _without_ duplicating code"
   ]
  },
  {
   "cell_type": "markdown",
   "metadata": {},
   "source": [
    "### Declaring Class `SalariedCommissionEmployee` \n",
    "* Subclass `SalariedCommissionEmployee` _inherits_ most of its capabilities from class `CommissionEmployee`\n",
    "* A `SalariedCommissionEmployee` _is a_ `CommissionEmployee` (because inheritance passes on the capabilities of class `CommissionEmployee`)\n",
    "* Class `SalariedCommissionEmployee` also has the following features:\n",
    "    * Method `__init__`, which initializes all the data inherited from class `CommissionEmployee`, then uses the `base_salary` property’s `setter` to create a `_base_salary` data attribute\n",
    "    * Read-write property `base_salary`, in which the `setter` performs data validation.\n",
    "    * A customized version of method `earnings`\n",
    "    * A customized version of method `__repr__`"
   ]
  },
  {
   "cell_type": "markdown",
   "metadata": {},
   "source": [
    "```python\n",
    "# salariedcommissionemployee.py\n",
    "\"\"\"SalariedCommissionEmployee derived from CommissionEmployee.\"\"\"\n",
    "from commissionemployee import CommissionEmployee\n",
    "from decimal import Decimal\n",
    "\n",
    "class SalariedCommissionEmployee(CommissionEmployee):\n",
    "    \"\"\"An employee who gets paid a salary plus \n",
    "    commission based on gross sales.\"\"\"\n",
    "\n",
    "    def __init__(self, first_name, last_name, ssn, \n",
    "                 gross_sales, commission_rate, base_salary):\n",
    "        \"\"\"Initialize SalariedCommissionEmployee's attributes.\"\"\"\n",
    "        super().__init__(first_name, last_name, ssn, \n",
    "                         gross_sales, commission_rate)\n",
    "        self.base_salary = base_salary  # validate via property\n",
    "\n",
    "    @property\n",
    "    def base_salary(self):\n",
    "        return self._base_salary\n",
    "\n",
    "    @base_salary.setter\n",
    "    def base_salary(self, salary):\n",
    "        \"\"\"Set base salary or raise ValueError if invalid.\"\"\"\n",
    "        if salary < Decimal('0.00'):\n",
    "            raise ValueError('Base salary must be >= to 0')\n",
    "        \n",
    "        self._base_salary = salary\n",
    "\n",
    "    def earnings(self):\n",
    "        \"\"\"Calculate earnings.\"\"\"   \n",
    "        return super().earnings() + self.base_salary\n",
    "\n",
    "    def __repr__(self):\n",
    "        \"\"\"Return string representation for repr().\"\"\"\n",
    "        return ('Salaried' + super().__repr__() +      \n",
    "            f'\\nbase salary: {self.base_salary:.2f}')\n",
    "\n",
    "```"
   ]
  },
  {
   "cell_type": "markdown",
   "metadata": {},
   "source": [
    "### Inheriting from Class `CommissionEmployee`\n",
    "\n",
    "```python\n",
    "class SalariedCommissionEmployee(CommissionEmployee):\n",
    "```\n",
    "* specifies that class `SalariedCommissionEmployee` _inherits_ from `CommissionEmployee`\n",
    "* Don't see class `CommissionEmployee`’s data attributes, properties and methods in class `SalariedCommissionEmployee`, but they are there"
   ]
  },
  {
   "cell_type": "markdown",
   "metadata": {},
   "source": [
    "### Method `__init__` and Built-In Function `super` \n",
    "* _Each subclass `__init__` must explicitly call its base class’s `__init__` to initialize the data attributes inherited from the base class_\n",
    "    * This call should be the first statement in the subclass’s `__init__` method\n",
    "* The notation `super().__init__` uses the built-in function **`super`** to locate and call the base class’s `__init__` method"
   ]
  },
  {
   "cell_type": "markdown",
   "metadata": {},
   "source": [
    "### Overriding Method `earnings`\n",
    "* Class `SalariedCommissionEmployee`’s `earnings` method overrides class `CommissionEmployee`’s `earnings` method to calculate the earnings of a `SalariedCommissionEmployee`\n",
    "    * Obtains the portion of the earnings based on _commission alone_ by calling `CommissionEmployee`’s `earnings` method with the expression `super().earnings()`\n",
    "   "
   ]
  },
  {
   "cell_type": "markdown",
   "metadata": {},
   "source": [
    "### Overriding Method `__repr__`\n",
    "* `SalariedCommissionEmployee`’s `__repr__` method overrides class `CommissionEmployee`’s `__repr__` method to return a `String` representation that’s appropriate for a `SalariedCommissionEmployee`\n",
    "* `super().__repr__()` calls `CommissionEmployee`'s `__repr__` method"
   ]
  },
  {
   "cell_type": "markdown",
   "metadata": {},
   "source": [
    "### Testing Class `SalariedCommissionEmployee` "
   ]
  },
  {
   "cell_type": "code",
   "execution_count": null,
   "metadata": {},
   "outputs": [],
   "source": [
    "from salariedcommissionemployee import SalariedCommissionEmployee"
   ]
  },
  {
   "cell_type": "code",
   "execution_count": null,
   "metadata": {},
   "outputs": [],
   "source": [
    "s = SalariedCommissionEmployee('Bob', 'Lewis', '444-44-4444',\n",
    "        Decimal('5000.00'), Decimal('0.04'), Decimal('300.00'))"
   ]
  },
  {
   "cell_type": "code",
   "execution_count": null,
   "metadata": {},
   "outputs": [],
   "source": [
    "print(s.first_name, s.last_name, s.ssn, s.gross_sales, \n",
    "      s.commission_rate, s.base_salary)"
   ]
  },
  {
   "cell_type": "markdown",
   "metadata": {},
   "source": [
    "* `SalariedCommissionEmployee` object has _all_ of the properties of classes `CommissionEmployee` _and_ `SalariedCommissionEmployee`\n",
    "* Calculate and display the `SalariedCommissionEmployee`’s earnings"
   ]
  },
  {
   "cell_type": "code",
   "execution_count": null,
   "metadata": {},
   "outputs": [],
   "source": [
    "print(f'{s.earnings():,.2f}')"
   ]
  },
  {
   "cell_type": "markdown",
   "metadata": {},
   "source": [
    "* Modify the `gross_sales`, `commission_rate` and `base_salary` properties, then display the updated data via the `SalariedCommissionEmployee`’s `__repr__` method"
   ]
  },
  {
   "cell_type": "code",
   "execution_count": null,
   "metadata": {},
   "outputs": [],
   "source": [
    "s.gross_sales = Decimal('10000.00')"
   ]
  },
  {
   "cell_type": "code",
   "execution_count": null,
   "metadata": {},
   "outputs": [],
   "source": [
    "s.commission_rate = Decimal('0.05')"
   ]
  },
  {
   "cell_type": "code",
   "execution_count": null,
   "metadata": {},
   "outputs": [],
   "source": [
    "s.base_salary = Decimal('1000.00')"
   ]
  },
  {
   "cell_type": "code",
   "execution_count": null,
   "metadata": {},
   "outputs": [],
   "source": [
    "print(s)"
   ]
  },
  {
   "cell_type": "markdown",
   "metadata": {},
   "source": [
    "* Calculate and display the `SalariedCommissionEmployee`’s updated earnings"
   ]
  },
  {
   "cell_type": "code",
   "execution_count": null,
   "metadata": {},
   "outputs": [],
   "source": [
    "print(f'{s.earnings():,.2f}')"
   ]
  },
  {
   "cell_type": "markdown",
   "metadata": {},
   "source": [
    "### Testing the “is a” Relationship \n",
    "Functions **`issubclass`** and **`isinstance`** are used to test “is a” relationships\n",
    "* `issubclass` determines whether one class is derived from another"
   ]
  },
  {
   "cell_type": "code",
   "execution_count": null,
   "metadata": {},
   "outputs": [],
   "source": [
    "issubclass(SalariedCommissionEmployee, CommissionEmployee)"
   ]
  },
  {
   "cell_type": "markdown",
   "metadata": {},
   "source": [
    "* `isinstance` determines whether an object has an “is a” relationship with a specific type"
   ]
  },
  {
   "cell_type": "code",
   "execution_count": null,
   "metadata": {},
   "outputs": [],
   "source": [
    "isinstance(s, CommissionEmployee)"
   ]
  },
  {
   "cell_type": "code",
   "execution_count": null,
   "metadata": {},
   "outputs": [],
   "source": [
    "isinstance(s, SalariedCommissionEmployee)"
   ]
  },
  {
   "cell_type": "markdown",
   "metadata": {},
   "source": [
    "## 10.8.3 Processing `CommissionEmployee`s and `SalariedCommissionEmployee`s Polymorphically\n",
    "* With inheritance, every object of a subclass also may be treated as an object of that subclass’s base class\n",
    "* Can take advantage of this relationship to place objects related through inheritance into a list, then iterate through the list and treat each element as a base-class object\n",
    "    * Allows a variety of objects to be processed in a _general_ way"
   ]
  },
  {
   "cell_type": "code",
   "execution_count": null,
   "metadata": {},
   "outputs": [],
   "source": [
    "employees = [c, s]"
   ]
  },
  {
   "cell_type": "code",
   "execution_count": null,
   "metadata": {},
   "outputs": [],
   "source": [
    "for employee in employees:\n",
    "    print(employee)\n",
    "    print(f'{employee.earnings():,.2f}\\n')"
   ]
  },
  {
   "cell_type": "markdown",
   "metadata": {},
   "source": [
    "* Correct string representation and earnings are displayed for each employee\n",
    "* This is called _polymorphism_—a key capability of object-oriented programming (OOP)"
   ]
  },
  {
   "cell_type": "markdown",
   "metadata": {},
   "source": [
    "------\n",
    "&copy;1992&ndash;2020 by Pearson Education, Inc. All Rights Reserved. This content is based on Chapter 5 of the book [**Intro to Python for Computer Science and Data Science: Learning to Program with AI, Big Data and the Cloud**](https://amzn.to/2VvdnxE).\n",
    "\n",
    "DISCLAIMER: The authors and publisher of this book have used their \n",
    "best efforts in preparing the book. These efforts include the \n",
    "development, research, and testing of the theories and programs \n",
    "to determine their effectiveness. The authors and publisher make \n",
    "no warranty of any kind, expressed or implied, with regard to these \n",
    "programs or to the documentation contained in these books. The authors \n",
    "and publisher shall not be liable in any event for incidental or \n",
    "consequential damages in connection with, or arising out of, the \n",
    "furnishing, performance, or use of these programs.                  "
   ]
  },
  {
   "cell_type": "markdown",
   "metadata": {},
   "source": [
    "# 10.9 Duck Typing and Polymorphism\n",
    "* Most object-oriented programming languages require inheritance-based “is a” relationships to achieve polymorphic behavior\n",
    "* Python also supports **duck typing**, which the Python documentation describes as:\n",
    "> _A programming style which does not look at an object’s type to determine if it has the right interface; instead, the method or attribute is simply called or used (“If it looks like a duck and quacks like a duck, it must be a duck.”)_. \n",
    "* When processing an object at execution time, its type does not matter\n",
    "* As long as the object has the data attribute, property or method (with the appropriate parameters) you wish to access, the code will work "
   ]
  },
  {
   "cell_type": "markdown",
   "metadata": {},
   "source": [
    "# 10.9 Duck Typing and Polymorphism (cont.)\n",
    "* Reconsider the loop at the end of Section 10.8.3\n",
    "``` python\n",
    "for employee in employees:\n",
    "    print(employee)\n",
    "    print(f'{employee.earnings():,.2f}\\n')\n",
    "```\n",
    "* Works properly as long as `employees` contains only objects that:\n",
    "    * can be displayed with `print` (that is, they have a string representation) \n",
    "    * have an `earnings` method which can be called with no arguments"
   ]
  },
  {
   "cell_type": "markdown",
   "metadata": {},
   "source": [
    "# 10.9 Duck Typing and Polymorphism (cont.)\n",
    "* All classes inherit from `object` directly or indirectly, so they _all_ inherit the default methods for obtaining string representations that print can display\n",
    "* If a class has an `earnings` method that can be called with no arguments, we can include objects of that class in the list `employees`, even if the object’s class does not have an “is a” relationship with class `CommissionEmployee`\n",
    "* Consider class `WellPaidDuck`:"
   ]
  },
  {
   "cell_type": "code",
   "execution_count": null,
   "metadata": {},
   "outputs": [],
   "source": [
    "class WellPaidDuck:\n",
    "    def __repr__(self):\n",
    "        return 'I am a well-paid duck'\n",
    "    def earnings(self):\n",
    "        return Decimal('1_000_000.00')"
   ]
  },
  {
   "cell_type": "markdown",
   "metadata": {},
   "source": [
    "* Clearly not meant to be employees\n",
    "* But, will work with the preceding loop"
   ]
  },
  {
   "cell_type": "code",
   "execution_count": null,
   "metadata": {},
   "outputs": [],
   "source": [
    "from decimal import Decimal"
   ]
  },
  {
   "cell_type": "code",
   "execution_count": null,
   "metadata": {},
   "outputs": [],
   "source": [
    "from commissionemployee import CommissionEmployee"
   ]
  },
  {
   "cell_type": "code",
   "execution_count": null,
   "metadata": {},
   "outputs": [],
   "source": [
    "from salariedcommissionemployee import SalariedCommissionEmployee"
   ]
  },
  {
   "cell_type": "code",
   "execution_count": null,
   "metadata": {},
   "outputs": [],
   "source": [
    "c = CommissionEmployee('Sue', 'Jones', '333-33-3333',\n",
    "                       Decimal('10000.00'), Decimal('0.06'))"
   ]
  },
  {
   "cell_type": "code",
   "execution_count": null,
   "metadata": {},
   "outputs": [],
   "source": [
    "s = SalariedCommissionEmployee('Bob', 'Lewis', '444-44-4444',\n",
    "    Decimal('5000.00'), Decimal('0.04'), Decimal('300.00'))"
   ]
  },
  {
   "cell_type": "code",
   "execution_count": null,
   "metadata": {},
   "outputs": [],
   "source": [
    "d = WellPaidDuck()"
   ]
  },
  {
   "cell_type": "code",
   "execution_count": null,
   "metadata": {},
   "outputs": [],
   "source": [
    "employees = [c, s, d]"
   ]
  },
  {
   "cell_type": "markdown",
   "metadata": {},
   "source": [
    "* Use duck typing to _polymorphically_ process all three objects in the list"
   ]
  },
  {
   "cell_type": "code",
   "execution_count": null,
   "metadata": {},
   "outputs": [],
   "source": [
    "for employee in employees:\n",
    "    print(employee)\n",
    "    print(f'{employee.earnings():,.2f}\\n')"
   ]
  },
  {
   "cell_type": "markdown",
   "metadata": {},
   "source": [
    "------\n",
    "&copy;1992&ndash;2020 by Pearson Education, Inc. All Rights Reserved. This content is based on Chapter 5 of the book [**Intro to Python for Computer Science and Data Science: Learning to Program with AI, Big Data and the Cloud**](https://amzn.to/2VvdnxE).\n",
    "\n",
    "DISCLAIMER: The authors and publisher of this book have used their \n",
    "best efforts in preparing the book. These efforts include the \n",
    "development, research, and testing of the theories and programs \n",
    "to determine their effectiveness. The authors and publisher make \n",
    "no warranty of any kind, expressed or implied, with regard to these \n",
    "programs or to the documentation contained in these books. The authors \n",
    "and publisher shall not be liable in any event for incidental or \n",
    "consequential damages in connection with, or arising out of, the \n",
    "furnishing, performance, or use of these programs.                  "
   ]
  },
  {
   "cell_type": "markdown",
   "metadata": {},
   "source": [
    "## 10.10.1 Test-Driving Class Complex "
   ]
  },
  {
   "cell_type": "code",
   "execution_count": null,
   "metadata": {},
   "outputs": [],
   "source": [
    "from complexnumber import Complex"
   ]
  },
  {
   "cell_type": "code",
   "execution_count": null,
   "metadata": {},
   "outputs": [],
   "source": [
    "x = Complex(real=2, imaginary=4)"
   ]
  },
  {
   "cell_type": "code",
   "execution_count": null,
   "metadata": {},
   "outputs": [],
   "source": [
    "x"
   ]
  },
  {
   "cell_type": "code",
   "execution_count": null,
   "metadata": {},
   "outputs": [],
   "source": [
    "y = Complex(real=5, imaginary=-1)"
   ]
  },
  {
   "cell_type": "code",
   "execution_count": null,
   "metadata": {},
   "outputs": [],
   "source": [
    "y"
   ]
  },
  {
   "cell_type": "code",
   "execution_count": null,
   "metadata": {},
   "outputs": [],
   "source": [
    "x + y"
   ]
  },
  {
   "cell_type": "code",
   "execution_count": null,
   "metadata": {},
   "outputs": [],
   "source": [
    "x"
   ]
  },
  {
   "cell_type": "code",
   "execution_count": null,
   "metadata": {},
   "outputs": [],
   "source": [
    "y"
   ]
  },
  {
   "cell_type": "code",
   "execution_count": null,
   "metadata": {},
   "outputs": [],
   "source": [
    "x += y"
   ]
  },
  {
   "cell_type": "code",
   "execution_count": null,
   "metadata": {},
   "outputs": [],
   "source": [
    "x"
   ]
  },
  {
   "cell_type": "code",
   "execution_count": null,
   "metadata": {},
   "outputs": [],
   "source": [
    "y"
   ]
  },
  {
   "cell_type": "markdown",
   "metadata": {},
   "source": [
    "------\n",
    "&copy;1992&ndash;2020 by Pearson Education, Inc. All Rights Reserved. This content is based on Chapter 5 of the book [**Intro to Python for Computer Science and Data Science: Learning to Program with AI, Big Data and the Cloud**](https://amzn.to/2VvdnxE).\n",
    "\n",
    "DISCLAIMER: The authors and publisher of this book have used their \n",
    "best efforts in preparing the book. These efforts include the \n",
    "development, research, and testing of the theories and programs \n",
    "to determine their effectiveness. The authors and publisher make \n",
    "no warranty of any kind, expressed or implied, with regard to these \n",
    "programs or to the documentation contained in these books. The authors \n",
    "and publisher shall not be liable in any event for incidental or \n",
    "consequential damages in connection with, or arising out of, the \n",
    "furnishing, performance, or use of these programs.                  "
   ]
  },
  {
   "cell_type": "markdown",
   "metadata": {},
   "source": [
    "## 10.10.2 Class `Complex` Definition\n",
    "### Method `__init__` \n",
    "```python\n",
    "# complexnumber.py\n",
    "\"\"\"Complex class with overloaded operators.\"\"\"\n",
    "\n",
    "class Complex:\n",
    "    \"\"\"Complex class that represents a complex number \n",
    "    with real and imaginary parts.\"\"\"\n",
    "\n",
    "    def __init__(self, real, imaginary):\n",
    "        \"\"\"Initialize Complex class's attributes.\"\"\"\n",
    "        self.real = real\n",
    "        self.imaginary = imaginary\n",
    "\n",
    "\n",
    "```\n",
    "### Overloaded `+` Operator\n",
    "```python\n",
    "\n",
    "    def __add__(self, right):\n",
    "        \"\"\"Overrides the + operator.\"\"\"\n",
    "        return Complex(self.real + right.real, \n",
    "                       self.imaginary + right.imaginary)\n",
    "\n",
    "\n",
    "```\n",
    "### Overloaded `+=` Augmented Assignment\n",
    "```python\n",
    "\n",
    "    def __iadd__(self, right):\n",
    "        \"\"\"Overrides the += operator.\"\"\"\n",
    "        self.real += right.real\n",
    "        self.imaginary += right.imaginary\n",
    "        return self\n",
    "\n",
    "\n",
    "```\n",
    "### Method `__repr__`\n",
    "```python\n",
    "\n",
    "    def __repr__(self):\n",
    "       \"\"\"Return string representation for repr().\"\"\"\n",
    "        return (f'({self.real} ' + \n",
    "                ('+' if self.imaginary >= 0 else '-') +\n",
    "                f' {abs(self.imaginary)}i)')\n",
    "\n",
    "```\n",
    "\n",
    "\n"
   ]
  },
  {
   "cell_type": "markdown",
   "metadata": {},
   "source": [
    "------\n",
    "&copy;1992&ndash;2020 by Pearson Education, Inc. All Rights Reserved. This content is based on Chapter 5 of the book [**Intro to Python for Computer Science and Data Science: Learning to Program with AI, Big Data and the Cloud**](https://amzn.to/2VvdnxE).\n",
    "\n",
    "DISCLAIMER: The authors and publisher of this book have used their \n",
    "best efforts in preparing the book. These efforts include the \n",
    "development, research, and testing of the theories and programs \n",
    "to determine their effectiveness. The authors and publisher make \n",
    "no warranty of any kind, expressed or implied, with regard to these \n",
    "programs or to the documentation contained in these books. The authors \n",
    "and publisher shall not be liable in any event for incidental or \n",
    "consequential damages in connection with, or arising out of, the \n",
    "furnishing, performance, or use of these programs.                  "
   ]
  },
  {
   "cell_type": "markdown",
   "metadata": {},
   "source": [
    "# 10.10 Operator Overloading \n",
    "* Can use **operator overloading** to define how Python’s operators should handle objects of your own types\n",
    "* Can overload most operators\n",
    "* For every overloadable operator, class `object` defines a special method\n",
    "    * e.g., `__add__` for addition (`+`) or `__mul__` for multiplication (`*`)\n",
    "* Overriding these methods enables you to define how a given operator works for objects of your custom class\n",
    "* Complete list of special methods \n",
    ">https://docs.python.org/3/reference/datamodel.html#special-method-names"
   ]
  },
  {
   "cell_type": "markdown",
   "metadata": {},
   "source": [
    "### Operator Overloading Restrictions\n",
    "* Precedence cannot be changed by overloading\n",
    "* Left-to-right or right-to-left grouping of an operator cannot be changed \n",
    "* “Arity” of an operator—whether it’s unary or binary—cannot be changed\n",
    "* Cannot create new operators\n",
    "* How an operator works on objects of built-in types cannot be changed \n",
    "* Works only with objects of custom classes or with a mixture of an object of a custom class and an object of a built-in type "
   ]
  },
  {
   "cell_type": "markdown",
   "metadata": {},
   "source": [
    "### Complex Numbers \n",
    "* We’ll define a class named `Complex` that represents complex numbers\n",
    "* Complex numbers, like –3 + 4i and 6.2 – 11.73i, have the form \n",
    "```python\n",
    "realPart `+` imaginaryPart `* i`\n",
    "``` \n",
    "* `i` is the square root of -1\n",
    "* We'll overload `+` and `+=` "
   ]
  },
  {
   "cell_type": "markdown",
   "metadata": {},
   "source": [
    "## 10.10.1 Test-Driving Class `Complex` "
   ]
  },
  {
   "cell_type": "code",
   "execution_count": null,
   "metadata": {},
   "outputs": [],
   "source": [
    "from complexnumber import Complex"
   ]
  },
  {
   "cell_type": "markdown",
   "metadata": {},
   "source": [
    "* Create and display a couple of `Complex` objects"
   ]
  },
  {
   "cell_type": "code",
   "execution_count": null,
   "metadata": {},
   "outputs": [],
   "source": [
    "x = Complex(real=2, imaginary=4)"
   ]
  },
  {
   "cell_type": "code",
   "execution_count": null,
   "metadata": {},
   "outputs": [],
   "source": [
    "x"
   ]
  },
  {
   "cell_type": "code",
   "execution_count": null,
   "metadata": {},
   "outputs": [],
   "source": [
    "y = Complex(real=5, imaginary=-1)"
   ]
  },
  {
   "cell_type": "code",
   "execution_count": null,
   "metadata": {},
   "outputs": [],
   "source": [
    "y"
   ]
  },
  {
   "cell_type": "markdown",
   "metadata": {},
   "source": [
    "* Use the `+` operator to add the `Complex` objects `x` and `y`\n",
    "* Adds the real parts of the two operands and the imaginary parts of the two operands, then returns a new `Complex` object"
   ]
  },
  {
   "cell_type": "code",
   "execution_count": null,
   "metadata": {},
   "outputs": [],
   "source": [
    "x + y"
   ]
  },
  {
   "cell_type": "markdown",
   "metadata": {},
   "source": [
    "* `+` does not modify either of its operands"
   ]
  },
  {
   "cell_type": "code",
   "execution_count": null,
   "metadata": {},
   "outputs": [],
   "source": [
    "x"
   ]
  },
  {
   "cell_type": "code",
   "execution_count": null,
   "metadata": {},
   "outputs": [],
   "source": [
    "y"
   ]
  },
  {
   "cell_type": "markdown",
   "metadata": {},
   "source": [
    "* Use `+=` to add `y` to `x` and store the result in `x`\n",
    "* `+=` operator _modifies_ its left operand"
   ]
  },
  {
   "cell_type": "code",
   "execution_count": null,
   "metadata": {},
   "outputs": [],
   "source": [
    "x += y"
   ]
  },
  {
   "cell_type": "code",
   "execution_count": null,
   "metadata": {},
   "outputs": [],
   "source": [
    "x"
   ]
  },
  {
   "cell_type": "code",
   "execution_count": null,
   "metadata": {},
   "outputs": [],
   "source": [
    "y"
   ]
  },
  {
   "cell_type": "markdown",
   "metadata": {},
   "source": [
    "## 10.10.2 Class `Complex` Definition\n",
    "\n",
    "### Method `__init__` \n",
    "* Initializes the `real` and `imaginary` data attributes"
   ]
  },
  {
   "cell_type": "markdown",
   "metadata": {},
   "source": [
    "```python\n",
    "# complexnumber.py\n",
    "\"\"\"Complex class with overloaded operators.\"\"\"\n",
    "\n",
    "class Complex:\n",
    "    \"\"\"Complex class that represents a complex number \n",
    "    with real and imaginary parts.\"\"\"\n",
    "\n",
    "    def __init__(self, real, imaginary):\n",
    "        \"\"\"Initialize Complex class's attributes.\"\"\"\n",
    "        self.real = real\n",
    "        self.imaginary = imaginary\n",
    "\n",
    "\n",
    "```"
   ]
  },
  {
   "cell_type": "markdown",
   "metadata": {},
   "source": [
    "### Overloaded `+` Operator\n",
    "* Overridden special method **`__add__`** defines how to overload the `+` operator "
   ]
  },
  {
   "cell_type": "markdown",
   "metadata": {},
   "source": [
    "```python\n",
    "    def __add__(self, right):\n",
    "        \"\"\"Overrides the + operator.\"\"\"\n",
    "        return Complex(self.real + right.real, \n",
    "                       self.imaginary + right.imaginary)\n",
    "\n",
    "\n",
    "```"
   ]
  },
  {
   "cell_type": "markdown",
   "metadata": {},
   "source": [
    "* Methods that overload binary operators must provide two parameters\n",
    "    * the _first_ (`self`) is the _left_ operand \n",
    "    * the _second_ (`right`) is the _right_ operand\n",
    "* We do _not_ modify the contents of either of the original operands\n",
    "    * Matches our intuitive sense of how this operator should behave"
   ]
  },
  {
   "cell_type": "markdown",
   "metadata": {},
   "source": [
    "### Overloaded `+=` Augmented Assignment\n",
    "* Override special method **`__iadd__`** to define how `+=` adds two `Complex` objects"
   ]
  },
  {
   "cell_type": "markdown",
   "metadata": {},
   "source": [
    "```python\n",
    "    def __iadd__(self, right):\n",
    "        \"\"\"Overrides the += operator.\"\"\"\n",
    "        self.real += right.real\n",
    "        self.imaginary += right.imaginary\n",
    "        return self\n",
    "\n",
    "\n",
    "```"
   ]
  },
  {
   "cell_type": "markdown",
   "metadata": {},
   "source": [
    "* Augmented assignments modify their left operands, so method `__iadd__` modifies the `self` object, which represents the left operand, then returns `self`"
   ]
  },
  {
   "cell_type": "markdown",
   "metadata": {},
   "source": [
    "### Method `__repr__`"
   ]
  },
  {
   "cell_type": "markdown",
   "metadata": {},
   "source": [
    "```python\n",
    "    def __repr__(self):\n",
    "        \"\"\"Return string representation for repr().\"\"\"\n",
    "        return (f'({self.real} ' + \n",
    "                ('+' if self.imaginary >= 0 else '-') +\n",
    "                f' {abs(self.imaginary)}i)')\n",
    "\n",
    "```"
   ]
  },
  {
   "cell_type": "markdown",
   "metadata": {},
   "source": [
    "------\n",
    "&copy;1992&ndash;2020 by Pearson Education, Inc. All Rights Reserved. This content is based on Chapter 5 of the book [**Intro to Python for Computer Science and Data Science: Learning to Program with AI, Big Data and the Cloud**](https://amzn.to/2VvdnxE).\n",
    "\n",
    "DISCLAIMER: The authors and publisher of this book have used their \n",
    "best efforts in preparing the book. These efforts include the \n",
    "development, research, and testing of the theories and programs \n",
    "to determine their effectiveness. The authors and publisher make \n",
    "no warranty of any kind, expressed or implied, with regard to these \n",
    "programs or to the documentation contained in these books. The authors \n",
    "and publisher shall not be liable in any event for incidental or \n",
    "consequential damages in connection with, or arising out of, the \n",
    "furnishing, performance, or use of these programs.                  "
   ]
  },
  {
   "cell_type": "markdown",
   "metadata": {},
   "source": [
    "# 10.11 Exception Class Hierarchy and Custom Exceptions\n",
    "* Every exception is an object of a class in Python’s exception class hierarchy or an object of a class that inherits from one of those classes\n",
    "* Exception classes inherit directly or indirectly from base class `BaseException` and are defined in module **`exceptions`** \n",
    "* Four primary `BaseException` subclasses\n",
    "    * `SystemExit` terminates program execution (or terminates an interactive session) and when uncaught does not produce a traceback like other exception types \n",
    "    * `KeyboardInterrupt` exceptions occur when the user types the interrupt command—_Ctrl_ + _C)_ (or _control_ + _C_) on most systems\n",
    "    * `GeneratorExit` exceptions occur when a generator closes—normally when a generator finishes producing values or when its `close` method is called explicitly\n",
    "    * `Exception` is the base class for most common exceptions you’ll encounter. "
   ]
  },
  {
   "cell_type": "markdown",
   "metadata": {},
   "source": [
    "### Catching Base-Class Exceptions\n",
    "* An `except` handler can catch exceptions of a particular type or can use a base-class type to catch those base-class exceptions and all related subclass exceptions"
   ]
  },
  {
   "cell_type": "markdown",
   "metadata": {},
   "source": [
    "### Custom Exception Classes\n",
    "* When you raise an exception from your code, you should generally use one of the existing exception classes from the Python Standard Library\n",
    "* Can create your own custom exception classes that derive directly or indirectly from class `Exception`\n",
    "* Before creating custom exception classes, look for an appropriate existing exception class in the Python exception hierarchy"
   ]
  },
  {
   "cell_type": "markdown",
   "metadata": {},
   "source": [
    "------\n",
    "&copy;1992&ndash;2020 by Pearson Education, Inc. All Rights Reserved. This content is based on Chapter 5 of the book [**Intro to Python for Computer Science and Data Science: Learning to Program with AI, Big Data and the Cloud**](https://amzn.to/2VvdnxE).\n",
    "\n",
    "DISCLAIMER: The authors and publisher of this book have used their \n",
    "best efforts in preparing the book. These efforts include the \n",
    "development, research, and testing of the theories and programs \n",
    "to determine their effectiveness. The authors and publisher make \n",
    "no warranty of any kind, expressed or implied, with regard to these \n",
    "programs or to the documentation contained in these books. The authors \n",
    "and publisher shall not be liable in any event for incidental or \n",
    "consequential damages in connection with, or arising out of, the \n",
    "furnishing, performance, or use of these programs.                  "
   ]
  },
  {
   "cell_type": "markdown",
   "metadata": {},
   "source": [
    "# 10.12 Named Tuples\n",
    "* Tuples to aggregate several data attributes into a single object\n",
    "* **`collections` module** provides **named tuples** \n",
    "    * Enable you to reference a tuple’s members by name rather than by index number\n",
    "* Create a simple named tuple that might be used to represent a card in a deck of cards:"
   ]
  },
  {
   "cell_type": "code",
   "execution_count": null,
   "metadata": {},
   "outputs": [],
   "source": [
    "from collections import namedtuple"
   ]
  },
  {
   "cell_type": "markdown",
   "metadata": {},
   "source": [
    "* Function **`namedtuple`** creates a subclass of the built-in tuple type\n",
    "* First argument is your new type’s name \n",
    "* Second is a list of strings representing the identifiers used to reference the new type’s members: "
   ]
  },
  {
   "cell_type": "code",
   "execution_count": null,
   "metadata": {},
   "outputs": [],
   "source": [
    "Card = namedtuple('Card', ['face', 'suit'])"
   ]
  },
  {
   "cell_type": "markdown",
   "metadata": {},
   "source": [
    "* Now have a new tuple type named `Card` \n",
    "* Create a `Card` object, access its members by name and display its string representation:"
   ]
  },
  {
   "cell_type": "code",
   "execution_count": null,
   "metadata": {},
   "outputs": [],
   "source": [
    "card = Card(face='Ace', suit='Spades')"
   ]
  },
  {
   "cell_type": "code",
   "execution_count": null,
   "metadata": {},
   "outputs": [],
   "source": [
    "card.face"
   ]
  },
  {
   "cell_type": "code",
   "execution_count": null,
   "metadata": {},
   "outputs": [],
   "source": [
    "card.suit"
   ]
  },
  {
   "cell_type": "code",
   "execution_count": null,
   "metadata": {},
   "outputs": [],
   "source": [
    "card"
   ]
  },
  {
   "cell_type": "markdown",
   "metadata": {},
   "source": [
    "### Other Named Tuple Features\n",
    "* Each named tuple type has additional methods\n",
    "* **`_make` class method** receives an iterable of values and returns an object of the named tuple type:  "
   ]
  },
  {
   "cell_type": "code",
   "execution_count": null,
   "metadata": {},
   "outputs": [],
   "source": [
    "values = ['Queen', 'Hearts']"
   ]
  },
  {
   "cell_type": "code",
   "execution_count": null,
   "metadata": {},
   "outputs": [],
   "source": [
    "card = Card._make(values)"
   ]
  },
  {
   "cell_type": "code",
   "execution_count": null,
   "metadata": {},
   "outputs": [],
   "source": [
    "card"
   ]
  },
  {
   "cell_type": "markdown",
   "metadata": {},
   "source": [
    "* Useful if you have a named tuple type representing records in a CSV file\n",
    "    * As you read and tokenize CSV records, you could convert them into named tuple objects\n",
    "* Can get an **`OrderedDict`** dictionary representation of a named tuple object’s member names and values\n",
    "    * Remembers the order in which its key–value pairs were inserted in the dictionary:"
   ]
  },
  {
   "cell_type": "code",
   "execution_count": null,
   "metadata": {},
   "outputs": [],
   "source": [
    "card._asdict()"
   ]
  },
  {
   "cell_type": "markdown",
   "metadata": {},
   "source": [
    "* Additional named tuple features: \n",
    ">https://docs.python.org/3/library/collections.html#collections.namedtuple"
   ]
  },
  {
   "cell_type": "markdown",
   "metadata": {},
   "source": [
    "------\n",
    "&copy;1992&ndash;2020 by Pearson Education, Inc. All Rights Reserved. This content is based on Chapter 5 of the book [**Intro to Python for Computer Science and Data Science: Learning to Program with AI, Big Data and the Cloud**](https://amzn.to/2VvdnxE).\n",
    "\n",
    "DISCLAIMER: The authors and publisher of this book have used their \n",
    "best efforts in preparing the book. These efforts include the \n",
    "development, research, and testing of the theories and programs \n",
    "to determine their effectiveness. The authors and publisher make \n",
    "no warranty of any kind, expressed or implied, with regard to these \n",
    "programs or to the documentation contained in these books. The authors \n",
    "and publisher shall not be liable in any event for incidental or \n",
    "consequential damages in connection with, or arising out of, the \n",
    "furnishing, performance, or use of these programs.                  "
   ]
  },
  {
   "cell_type": "markdown",
   "metadata": {},
   "source": [
    "## 10.13.1 Creating a `Card` Data Class \n",
    "### Importing from the `dataclasses` and `typing` Modules\n",
    "* `dataclasses` module defines decorators and functions for\n",
    "implementing data classes\n",
    "* `@dataclass` decorator specifies that a new class is a data class and causes various code to be written for you\n",
    "* `ClassVar` and `List` from the `typing` module will indicate that `FACES` and `SUITS` are class variables that refer to lists"
   ]
  },
  {
   "cell_type": "markdown",
   "metadata": {},
   "source": [
    "```python\n",
    "# carddataclass.py\n",
    "\"\"\"Card data class with class attributes, data attributes, \n",
    "autogenerated methods and explicitly defined methods.\"\"\"\n",
    "from dataclasses import dataclass\n",
    "from typing import ClassVar, List\n",
    "```"
   ]
  },
  {
   "cell_type": "markdown",
   "metadata": {},
   "source": [
    "### Using the `@dataclass` Decorator\n",
    "* To specify that a class is a _data class_, precede its definition with the `@dataclass` decorator: \n",
    "\n",
    "```python\n",
    "@dataclass\n",
    "class Card:\n",
    "\n",
    "```\n",
    "* The decorator `@dataclass(order=True)` would cause the data class to autogenerate overloaded comparison operator methods for `<`, `<=`, `>` and `>=`\n",
    "    * Useful if you need to compare or sort your data-class objects\n"
   ]
  },
  {
   "cell_type": "markdown",
   "metadata": {},
   "source": [
    "### Variable Annotations: Class Attributes\n",
    "* Data classes declare both class attributes and data attributes _inside_ the class, but _outside_ the class’s methods\n",
    "* Data classes require additional information, or _hints_, to distinguish class attributes from data attributes\n",
    "    * Also affects the autogenerated methods’ implementation details"
   ]
  },
  {
   "cell_type": "markdown",
   "metadata": {},
   "source": [
    "```python\n",
    "    FACES: ClassVar[List[str]] = ['Ace', '2', '3', '4', '5', '6', '7', \n",
    "                                  '8', '9', '10', 'Jack', 'Queen', 'King']\n",
    "    SUITS: ClassVar[List[str]] = ['Hearts', 'Diamonds', 'Clubs', 'Spades']\n",
    "```"
   ]
  },
  {
   "cell_type": "markdown",
   "metadata": {},
   "source": [
    "* The **variable annotation** `: ClassVar[List[str]]` (sometimes called a _type hint_) specifies that `FACES` is a class attribute (`ClassVar`) which refers to a _list_ of strings (`List[str]`). \n",
    "* `SUITS` also is a class attribute which refers to a list of strings\n",
    "* Class variables are initialized in their definitions and are specific to the _class_, not individual _objects_ of the class\n",
    "* Methods `__init__`, `__repr__` and `__eq__`, however, are for use with _objects_ of the class\n",
    "    * When a data class generates these methods, it inspects all the variable annotations and includes only the _data attributes_ in the method implementations"
   ]
  },
  {
   "cell_type": "markdown",
   "metadata": {},
   "source": [
    "### Variable Annotations: Data Attributes\n",
    "* Normally, we create an object’s data attributes in the class’s `__init__` method\n",
    "* We cannot simply place data attribute names inside a class, which generates a `NameError`, as in:"
   ]
  },
  {
   "cell_type": "code",
   "execution_count": null,
   "metadata": {},
   "outputs": [],
   "source": [
    "from dataclasses import dataclass"
   ]
  },
  {
   "cell_type": "code",
   "execution_count": null,
   "metadata": {},
   "outputs": [],
   "source": [
    "@dataclass\n",
    "class Demo:\n",
    "    x  # attempting to create a data attribute x"
   ]
  },
  {
   "cell_type": "markdown",
   "metadata": {},
   "source": [
    "* Like class attributes, each data attribute must be declared with a variable annotation\n",
    "* The variable annotation `\": str\"` indicates `face` and `suit` should refer to string objects"
   ]
  },
  {
   "cell_type": "markdown",
   "metadata": {},
   "source": [
    "### Defining a Property and Other Methods\n",
    "* Data classes are classes, so they may contain properties and methods and participate in class hierarchies"
   ]
  },
  {
   "cell_type": "markdown",
   "metadata": {},
   "source": [
    "```python\n",
    "    @property\n",
    "    def image_name(self):\n",
    "        \"\"\"Return the Card's image file name.\"\"\"\n",
    "        return str(self).replace(' ', '_') + '.png'\n",
    "\n",
    "    def __str__(self):\n",
    "        \"\"\"Return string representation for str().\"\"\"\n",
    "        return f'{self.face} of {self.suit}'\n",
    "    \n",
    "    def __format__(self, format):\n",
    "        \"\"\"Return formatted string representation.\"\"\"\n",
    "        return f'{str(self):{format}}'\n",
    "\n",
    "```"
   ]
  },
  {
   "cell_type": "markdown",
   "metadata": {},
   "source": [
    "### Variable Annotation Notes\n",
    "* Even with type annotations, Python is still a _dynamically typed language_\n",
    "* So, type annotations are not enforced at execution time"
   ]
  },
  {
   "cell_type": "markdown",
   "metadata": {},
   "source": [
    "------\n",
    "&copy;1992&ndash;2020 by Pearson Education, Inc. All Rights Reserved. This content is based on Chapter 5 of the book [**Intro to Python for Computer Science and Data Science: Learning to Program with AI, Big Data and the Cloud**](https://amzn.to/2VvdnxE).\n",
    "\n",
    "DISCLAIMER: The authors and publisher of this book have used their \n",
    "best efforts in preparing the book. These efforts include the \n",
    "development, research, and testing of the theories and programs \n",
    "to determine their effectiveness. The authors and publisher make \n",
    "no warranty of any kind, expressed or implied, with regard to these \n",
    "programs or to the documentation contained in these books. The authors \n",
    "and publisher shall not be liable in any event for incidental or \n",
    "consequential damages in connection with, or arising out of, the \n",
    "furnishing, performance, or use of these programs.                  "
   ]
  },
  {
   "cell_type": "markdown",
   "metadata": {},
   "source": [
    "## 10.13.2 Using the `Card` Data Class \n",
    "* Create a Card`: "
   ]
  },
  {
   "cell_type": "code",
   "execution_count": null,
   "metadata": {},
   "outputs": [],
   "source": [
    "from carddataclass import Card"
   ]
  },
  {
   "cell_type": "code",
   "execution_count": null,
   "metadata": {},
   "outputs": [],
   "source": [
    "c1 = Card(Card.FACES[0], Card.SUITS[3])"
   ]
  },
  {
   "cell_type": "markdown",
   "metadata": {},
   "source": [
    "* Use `Card`’s autogenerated `__repr__` method to display the `Card`"
   ]
  },
  {
   "cell_type": "code",
   "execution_count": null,
   "metadata": {},
   "outputs": [],
   "source": [
    "c1"
   ]
  },
  {
   "cell_type": "markdown",
   "metadata": {},
   "source": [
    "* Use custom `__str__` method"
   ]
  },
  {
   "cell_type": "code",
   "execution_count": null,
   "metadata": {},
   "outputs": [],
   "source": [
    "print(c1)"
   ]
  },
  {
   "cell_type": "markdown",
   "metadata": {},
   "source": [
    "* Access the data class’s attributes and read-only property "
   ]
  },
  {
   "cell_type": "code",
   "execution_count": null,
   "metadata": {},
   "outputs": [],
   "source": [
    "c1.face"
   ]
  },
  {
   "cell_type": "code",
   "execution_count": null,
   "metadata": {},
   "outputs": [],
   "source": [
    "c1.suit"
   ]
  },
  {
   "cell_type": "code",
   "execution_count": null,
   "metadata": {},
   "outputs": [],
   "source": [
    "c1.image_name"
   ]
  },
  {
   "cell_type": "markdown",
   "metadata": {},
   "source": [
    "* Demonstrate that `Card` objects can be compared via the _autogenerated_ `==` operator and inherited `!=` operator"
   ]
  },
  {
   "cell_type": "code",
   "execution_count": null,
   "metadata": {},
   "outputs": [],
   "source": [
    "c2 = Card(Card.FACES[0], Card.SUITS[3])"
   ]
  },
  {
   "cell_type": "code",
   "execution_count": null,
   "metadata": {},
   "outputs": [],
   "source": [
    "c2"
   ]
  },
  {
   "cell_type": "code",
   "execution_count": null,
   "metadata": {},
   "outputs": [],
   "source": [
    "c3 = Card(Card.FACES[0], Card.SUITS[0])"
   ]
  },
  {
   "cell_type": "code",
   "execution_count": null,
   "metadata": {},
   "outputs": [],
   "source": [
    "c3"
   ]
  },
  {
   "cell_type": "code",
   "execution_count": null,
   "metadata": {},
   "outputs": [],
   "source": [
    "c1 == c2"
   ]
  },
  {
   "cell_type": "code",
   "execution_count": null,
   "metadata": {},
   "outputs": [],
   "source": [
    "c1 == c3"
   ]
  },
  {
   "cell_type": "code",
   "execution_count": null,
   "metadata": {},
   "outputs": [],
   "source": [
    "c1 != c3"
   ]
  },
  {
   "cell_type": "markdown",
   "metadata": {},
   "source": [
    "* `Card` data class is interchangeable with the `Card` class developed earlier in this chapter\n",
    "* To demonstrate this, we created the `deck2.py` file containing a copy of class `DeckOfCards` from earlier in the chapter and imported the `Card` data class into the file"
   ]
  },
  {
   "cell_type": "code",
   "execution_count": null,
   "metadata": {},
   "outputs": [],
   "source": [
    "from deck2 import DeckOfCards  # uses Card data class"
   ]
  },
  {
   "cell_type": "code",
   "execution_count": null,
   "metadata": {},
   "outputs": [],
   "source": [
    "deck_of_cards = DeckOfCards()"
   ]
  },
  {
   "cell_type": "code",
   "execution_count": null,
   "metadata": {},
   "outputs": [],
   "source": [
    "print(deck_of_cards)"
   ]
  },
  {
   "cell_type": "markdown",
   "metadata": {},
   "source": [
    "## 10.13.3 Data Class Advantages over Named Tuples \n",
    "* Objects of _different_ named tuple types could compare as equal if they have the same number of members and the same values for those members\n",
    "    * Comparing objects of different data classes _always_ returns `False`, as does comparing a data class object to a tuple object\n",
    "* If you have code that unpacks a tuple, adding more members to that tuple breaks the unpacking code\n",
    "    * Data class objects cannot be unpacked\n",
    "    * Can add more data attributes to a data class without breaking existing code\n",
    "* A data class can be a base class or a subclass in an inheritance hierarchy \n"
   ]
  },
  {
   "cell_type": "markdown",
   "metadata": {},
   "source": [
    "## 10.13.4 Data Class Advantages over Traditional Classes\n",
    "* A data class autogenerates `__init__`, `__repr__` and `__eq__`, saving you time\n",
    "* A data class can autogenerate the special methods that overload the `<`, `<=`, `>` and `>=` comparison operators\n",
    "* When you change data attributes defined in a data class, the autogenerated code updates automatically\n",
    "    * less code to maintain and debug\n",
    "* The required variable annotations enable you to take advantage of static code analysis tools\n",
    "    * Might be able to eliminate additional errors before they can occur at execution time\n",
    "    * Some static code analysis tools and IDEs can inspect variable annotations and issue warnings if your code uses the wrong type"
   ]
  },
  {
   "cell_type": "markdown",
   "metadata": {},
   "source": [
    "------\n",
    "&copy;1992&ndash;2020 by Pearson Education, Inc. All Rights Reserved. This content is based on Chapter 5 of the book [**Intro to Python for Computer Science and Data Science: Learning to Program with AI, Big Data and the Cloud**](https://amzn.to/2VvdnxE).\n",
    "\n",
    "DISCLAIMER: The authors and publisher of this book have used their \n",
    "best efforts in preparing the book. These efforts include the \n",
    "development, research, and testing of the theories and programs \n",
    "to determine their effectiveness. The authors and publisher make \n",
    "no warranty of any kind, expressed or implied, with regard to these \n",
    "programs or to the documentation contained in these books. The authors \n",
    "and publisher shall not be liable in any event for incidental or \n",
    "consequential damages in connection with, or arising out of, the \n",
    "furnishing, performance, or use of these programs.                  "
   ]
  },
  {
   "cell_type": "markdown",
   "metadata": {},
   "source": [
    "# 10.13 A Brief Intro to Python 3.7’s New Data Classes\n",
    "* Though named tuples allow you to reference their members by name, they’re still just tuples, not classes\n",
    "* For some of the benefits of named tuples, plus the capabilities that traditional Python classes provide, you can use Python 3.7’s new **data classes** from the Python Standard Library’s **`dataclasses` module**\n",
    "* Help you build classes _faster_ by using more _concise_ notation and by _autogenerating_ “boilerplate” code that’s common in most classes"
   ]
  },
  {
   "cell_type": "markdown",
   "metadata": {},
   "source": [
    "### Data Classes Autogenerate Code \n",
    "* Most classes provide an `__init__` method to create and initialize an object’s attributes and a `__repr__` method to specify an object’s custom string representation\n",
    "* Data classes _autogenerate_ the data attributes and the `__init__` and `__repr__` methods for you\n",
    "* Data classes also can be generated _dynamically_ from a list of field names (like the names of columns in a CSV file)\n",
    "* Data classes autogenerate method **`__eq__`**, which overloads the `==` operator\n",
    "* Any class that has an `__eq__` method also implicitly supports `!=`\n",
    "* Data classes do _not_ automatically generate methods for the `<`, `<=`, `>` and `>=` comparison operators, but they can"
   ]
  },
  {
   "cell_type": "markdown",
   "metadata": {},
   "source": [
    "------\n",
    "&copy;1992&ndash;2020 by Pearson Education, Inc. All Rights Reserved. This content is based on Chapter 5 of the book [**Intro to Python for Computer Science and Data Science: Learning to Program with AI, Big Data and the Cloud**](https://amzn.to/2VvdnxE).\n",
    "\n",
    "DISCLAIMER: The authors and publisher of this book have used their \n",
    "best efforts in preparing the book. These efforts include the \n",
    "development, research, and testing of the theories and programs \n",
    "to determine their effectiveness. The authors and publisher make \n",
    "no warranty of any kind, expressed or implied, with regard to these \n",
    "programs or to the documentation contained in these books. The authors \n",
    "and publisher shall not be liable in any event for incidental or \n",
    "consequential damages in connection with, or arising out of, the \n",
    "furnishing, performance, or use of these programs.                  "
   ]
  },
  {
   "cell_type": "markdown",
   "metadata": {},
   "source": [
    "# 10.14 Unit Testing with Docstrings and `doctest` \n",
    "\n",
    "**For your convenience, this notebook includes the entire contents of accountdoctest.py so you can modify it and rerun the tests. When you execute the cell containing accountdoctest.py, the doctests will execute.**\n",
    "\n"
   ]
  },
  {
   "cell_type": "markdown",
   "metadata": {},
   "source": [
    "* A key aspect of software development is testing your code to ensure that it works correctly\n",
    "* Even with extensive testing, code may still contain bugs\n",
    "* According to the famous Dutch computer scientist Edsger Dijkstra, “Testing shows the presence, not the absence of bugs.”"
   ]
  },
  {
   "cell_type": "markdown",
   "metadata": {},
   "source": [
    "### Module `doctest` and the `testmod` Function\n",
    "* **`doctest` module** helps you test your code and conveniently retest it after you make modifications\n",
    "* When you execute the `doctest` module’s **`testmod` function**, it inspects your functions’, methods’ and classes' docstrings looking for sample Python statements preceded by `>>>`, each followed on the next line by the given statement’s expected output (if any)\n",
    "* `testmod` executes those statements and confirms that they produce the expected output\n",
    "* If not, `testmod` reports errors indicating which tests failed so you can locate and fix the problems in your code\n",
    "* Each test you define in a docstring tests a specific _unit of code_, such as a function, a method or a class\n",
    "* Such tests are called **unit tests**"
   ]
  },
  {
   "cell_type": "markdown",
   "metadata": {},
   "source": [
    "### Modified `Account` Class\n",
    "The file `accountdoctest.py` contains the class `Account` from this chapter’s first example\n",
    "* Modified `__init__`’s docstring to include four tests which can be used to ensure that the method works correctly:\n",
    "    * First test creates a sample `Account` object named `account1`\n",
    "        * This statement does not produce any output\n",
    "    * Second test shows what the value of `account1`’s `name` attribute should be if the first test executed successfully \n",
    "    * Third test shows what the value of `account1`’s `balance` attribute should be if the first test executed successfully\n",
    "    * The last test creates an `Account` object with an invalid initial balance\n",
    "        * Sample output shows that a `ValueError` exception should occur in this case\n",
    "        * For exceptions, the doctest module’s documentation recommends showing just the first and last lines of the traceback\n",
    "* You can intersperse your tests with descriptive text"
   ]
  },
  {
   "cell_type": "code",
   "execution_count": null,
   "metadata": {},
   "outputs": [],
   "source": [
    "# accountdoctest.py\n",
    "\"\"\"Account class definition.\"\"\"\n",
    "from decimal import Decimal\n",
    "\n",
    "class Account:\n",
    "    \"\"\"Account class for demonstrating doctest.\"\"\"\n",
    "    \n",
    "    def __init__(self, name, balance):\n",
    "        \"\"\"Initialize an Account object.\n",
    "        \n",
    "        >>> account1 = Account('John Green', Decimal('50.00'))\n",
    "        >>> account1.name\n",
    "        'John Green'\n",
    "        >>> account1.balance\n",
    "        Decimal('50.00')\n",
    "\n",
    "        The balance argument must be greater than or equal to 0.\n",
    "        >>> account2 = Account('John Green', Decimal('-50.00'))\n",
    "        Traceback (most recent call last):\n",
    "            ...\n",
    "        ValueError: Initial balance must be >= to 0.00.\n",
    "        \"\"\"\n",
    "\n",
    "        # if balance is less than 0.00, raise an exception\n",
    "        if balance < Decimal('0.00'):\n",
    "            raise ValueError('Initial balance must be >= to 0.00.')\n",
    "\n",
    "        self.name = name\n",
    "        self.balance = balance\n",
    "\n",
    "    def deposit(self, amount):\n",
    "        \"\"\"Deposit money to the account.\"\"\"\n",
    "\n",
    "        # if amount is less than 0.00, raise an exception\n",
    "        if amount < Decimal('0.00'):\n",
    "            raise ValueError('amount must be positive.')\n",
    "\n",
    "        self.balance += amount\n",
    "\n",
    "if __name__ == '__main__':\n",
    "    import doctest\n",
    "    doctest.testmod(verbose=True)\n"
   ]
  },
  {
   "cell_type": "markdown",
   "metadata": {},
   "source": [
    "### Module `__main__` \n",
    "* When you load any module, Python assigns a string containing the module’s name to a global attribute of the module called `__name__`\n",
    "* When you execute a Python source file as a _script_, Python uses the string `'__main__'` as the module’s name\n",
    "* Can use `__name__` in an `if` statement to specify code that should execute only if the source file is executed as a _script_\n",
    "    * We import the `doctest` module and call the module’s `testmod` function to execute the docstring unit tests "
   ]
  },
  {
   "cell_type": "markdown",
   "metadata": {},
   "source": [
    "### Running Tests\n",
    "* Run the file `accountdoctest.py` as a script to execute the tests\n",
    "* If you call `testmod` with no arguments, it does not show test results for _successful_ tests\n",
    "* This example calls `testmod` with the keyword argument `verbose=True`, which shows every test’s results\n",
    "* To demonstrate a _failed_ test, “comment out” lines 25–26 in `accountdoctest.py` by preceding each with a `#`, then run `accountdoctest.py` as a script"
   ]
  },
  {
   "cell_type": "markdown",
   "metadata": {},
   "source": [
    "### IPython `%doctest_mode` Magic\n",
    "* A convenient way to create doctests for existing code is to use an IPython interactive session to test your code, then copy and paste that session into a docstring\n",
    "* IPython’s `In []` and `Out[]` prompts are not compatible with `doctest`, so IPython provides the magic **`%doctest_mode`** to display prompts in the correct `doctest` format\n",
    "    * Toggles between the two prompt styles"
   ]
  },
  {
   "cell_type": "markdown",
   "metadata": {},
   "source": [
    "------\n",
    "&copy;1992&ndash;2020 by Pearson Education, Inc. All Rights Reserved. This content is based on Chapter 5 of the book [**Intro to Python for Computer Science and Data Science: Learning to Program with AI, Big Data and the Cloud**](https://amzn.to/2VvdnxE).\n",
    "\n",
    "DISCLAIMER: The authors and publisher of this book have used their \n",
    "best efforts in preparing the book. These efforts include the \n",
    "development, research, and testing of the theories and programs \n",
    "to determine their effectiveness. The authors and publisher make \n",
    "no warranty of any kind, expressed or implied, with regard to these \n",
    "programs or to the documentation contained in these books. The authors \n",
    "and publisher shall not be liable in any event for incidental or \n",
    "consequential damages in connection with, or arising out of, the \n",
    "furnishing, performance, or use of these programs.                  "
   ]
  },
  {
   "cell_type": "markdown",
   "metadata": {},
   "source": [
    "# 10.15 Namespaces and Scopes\n",
    "* Each identifier has a scope that determines where you can use it in your program, and we introduced the local and global scopes\n",
    "* Scopes are determined by **namespaces**, which associate identifiers with objects and are implemented “under the hood” as dictionaries\n",
    "* Namespaces are independent of one another\n",
    "    * Same identifier may appear in multiple namespaces\n",
    "* Three primary namespaces—local, global and built-in. "
   ]
  },
  {
   "cell_type": "markdown",
   "metadata": {},
   "source": [
    "### Local Namespace\n",
    "* Each function and method has a **local namespace** that associates local identifiers (parameters and local variables) with objects\n",
    "* Local namespace exists from the moment the function or method is called until it terminates and is accessible _only_ to that function or method\n",
    "* In a function’s or method’s suite, _assigning_ to a variable that does not exist creates a local variable and adds it to the local namespace\n",
    "* Identifiers in the local namespace are _in scope_ from the point at which you define them until the function or method terminates"
   ]
  },
  {
   "cell_type": "markdown",
   "metadata": {},
   "source": [
    "### Global Namespace\n",
    "* Each module has a **global namespace** that associates a module’s global identifiers (such as global variables, function names and class names) with objects\n",
    "* Python creates a module’s global namespace when it loads the module\n",
    "* A module’s global namespace exists and its identifiers are _in scope_ to the code within that module until the program (or interactive session) terminates\n",
    "* An IPython session has its own global namespace for all the identifiers you create in that session\n",
    "* Each module’s global namespace also has an identifier called **`__name__`** containing the module’s name, such as `'math'` for the `math` module or `'random'` for the `random` module"
   ]
  },
  {
   "cell_type": "markdown",
   "metadata": {},
   "source": [
    "### Built-In Namespace\n",
    "* Contains associates identifiers for Python’s built-in functions (such as, `input` and `range`) and types (such as, `int`, `float` and `str`) with objects that define those functions and types\n",
    "* Python creates the built-in namespace when the interpreter starts executing\n",
    "* The built-in namespace’s identifiers remain _in scope_ for all code until the program (or interactive session) terminates. "
   ]
  },
  {
   "cell_type": "markdown",
   "metadata": {},
   "source": [
    "### Finding Identifiers in Namespaces\n",
    "* When you use an identifier, Python searches for that identifier in the currently accessible namespaces, proceeding from _local_ to _global_ to _built-in_"
   ]
  },
  {
   "cell_type": "code",
   "execution_count": null,
   "metadata": {},
   "outputs": [],
   "source": [
    "z = 'global z'"
   ]
  },
  {
   "cell_type": "code",
   "execution_count": null,
   "metadata": {},
   "outputs": [],
   "source": [
    "def print_variables():\n",
    "    y = 'local y in print_variables'\n",
    "    print(y)\n",
    "    print(z)"
   ]
  },
  {
   "cell_type": "code",
   "execution_count": null,
   "metadata": {},
   "outputs": [],
   "source": [
    "print_variables()"
   ]
  },
  {
   "cell_type": "markdown",
   "metadata": {},
   "source": [
    "* When snippet `[3]` calls `print_variables`, Python searches the _local_, _global_ and _built-in_ namespaces as follows: \n",
    "    * Snippet `[3]` is not in a function or method, so the session’s _global_ namespace and the _built-in_ namespace are currently accessible\n",
    "        * Python first searches the session’s _global_ namespace, which contains `print_variables`\n",
    "        * `print_variables` is _in scope_ and Python uses the corresponding object to call `print_variables`\n",
    "    * As `print_variables` begins executing, Python creates the function’s _local_ namespace\n",
    "        * When function `print_variables` defines the local variable `y`, Python adds `y` to the function’s _local_ namespace\n",
    "        * The variable `y` is now _in scope_ until the function finishes executing.\n",
    "    * Next, `print_variables` calls the _built-in_ function `print`, passing `y` as the argument\n",
    "        * To execute this call, Python must resolve the identifiers `y` and `print`. \n",
    "        * The identifier `y` is defined in the _local_ namespace, so it’s _in scope_ and Python will use the corresponding object as `print`’s argument\n",
    "        * To call the function, Python must find `print`’s corresponding object\n",
    "        * Python looks in the _local_ namespace, which does _not_ define `print`\n",
    "        * Next, Python looks in the session’s _global_ namespace, which does _not_ define `print`\n",
    "        * Finally, Python looks in the _built-in_ namespace, which _does_ define `print`\n",
    "        * `print` is _in scope_ and Python uses the corresponding object to call `print`\n",
    "    * Next, `print_variables` calls the _built-in_ function `print` again with the argument `z`, which is _not_ defined in the _local_ namespace\n",
    "        * Python looks in the _global_ namespace\n",
    "        * The argument `z` _is_ defined in the _global_ namespace, so `z` is _in scope_ and Python will use the corresponding object as `print`’s argument\n",
    "* At this point, we reach the end of the `print_variables` function’s suite, so the function terminates and its _local_ namespace no longer exists, meaning the local variable `y` is now undefined"
   ]
  },
  {
   "cell_type": "code",
   "execution_count": null,
   "metadata": {},
   "outputs": [],
   "source": [
    "y"
   ]
  },
  {
   "cell_type": "markdown",
   "metadata": {},
   "source": [
    "* There’s no _local_ namespace, so Python searches for `y` in the session’s _global_ namespace\n",
    "* The identifier `y` is _not_ defined there, so Python searches for `y` in the _built-in_ namespace\n",
    "* Again, Python does not find `y`\n",
    "* Python raises a `NameError`, indicating that `y` is not defined.\n",
    "* The identifiers `print_variables` and `z` still exist in the session’s _global_ namespace, so we can continue using them"
   ]
  },
  {
   "cell_type": "code",
   "execution_count": null,
   "metadata": {},
   "outputs": [],
   "source": [
    "z"
   ]
  },
  {
   "cell_type": "markdown",
   "metadata": {},
   "source": [
    "### Nested Functions\n",
    "* There is also an **enclosing namespace**\n",
    "* Python allows you to define **nested functions** inside other functions or methods\n",
    "* When you access an identifier inside a nested function, Python searches the nested function’s _local_ namespace first, then the _enclosing_ function’s namespace, then the _global_ namespace and finally the _built-in_ namespace\n",
    "* This is sometimes referred to as the **LEGB (local, enclosing, global, built-in) rule**"
   ]
  },
  {
   "cell_type": "markdown",
   "metadata": {},
   "source": [
    "### Class Namespace\n",
    "* A class has a namespace in which its class attributes are stored\n",
    "* When you access a class attribute, Python looks for that attribute first in the class’s namespace, then in the base class’s namespace, and so on, until either it finds the attribute or it reaches class `object`\n",
    "* If the attribute is not found, a `NameError` occurs"
   ]
  },
  {
   "cell_type": "markdown",
   "metadata": {},
   "source": [
    "### Object Namespace\n",
    "* Each object has its own namespace containing the object’s methods and data attributes\n",
    "* The class’s `__init__` method starts with an empty object (`self`) and adds each attribute to the object’s namespace\n",
    "* Once you define an attribute in an object’s namespace, clients using the object may access the attribute’s value"
   ]
  },
  {
   "cell_type": "markdown",
   "metadata": {},
   "source": [
    "------\n",
    "&copy;1992&ndash;2020 by Pearson Education, Inc. All Rights Reserved. This content is based on Chapter 5 of the book [**Intro to Python for Computer Science and Data Science: Learning to Program with AI, Big Data and the Cloud**](https://amzn.to/2VvdnxE).\n",
    "\n",
    "DISCLAIMER: The authors and publisher of this book have used their \n",
    "best efforts in preparing the book. These efforts include the \n",
    "development, research, and testing of the theories and programs \n",
    "to determine their effectiveness. The authors and publisher make \n",
    "no warranty of any kind, expressed or implied, with regard to these \n",
    "programs or to the documentation contained in these books. The authors \n",
    "and publisher shall not be liable in any event for incidental or \n",
    "consequential damages in connection with, or arising out of, the \n",
    "furnishing, performance, or use of these programs.                  "
   ]
  },
  {
   "cell_type": "markdown",
   "metadata": {},
   "source": [
    "# 10.16 Intro to Data Science: Time Series and Simple Linear Regression \n",
    "* **Time series**: Sequences of values (**observations**) associated with points in time\n",
    "    * daily closing stock prices\n",
    "    * hourly temperature readings \n",
    "    * changing positions of a plane in flight\n",
    "    * annual crop yields \n",
    "    * quarterly company profits\n",
    "    * time-stamped tweets from Twitter users worldwide\n",
    "* We’ll use simple linear regression to make predictions from time series data"
   ]
  },
  {
   "cell_type": "markdown",
   "metadata": {},
   "source": [
    "### Time Series\n",
    "* **Univariate time series**: _One_ observation per time\n",
    "* **Multivariate time series**: _Two or more_ observations per time\n",
    "* Two tasks often performed with time series are:\n",
    "    * **Time series analysis**, which looks at existing time series data for patterns (like **seasonality**), helping data analysts understand the data\n",
    "    * **Time series forecasting**, which uses past data to predict the future\n",
    "* We’ll perform time series forecasting"
   ]
  },
  {
   "cell_type": "markdown",
   "metadata": {},
   "source": [
    "### Simple Linear Regression\n",
    "* Given a collection of values representing an **independent variable** (the month/year combination) and a **dependent variable** (the average high temperature for that month/year), simple linear regression describes the relationship between these variables with a straight line, known as the **regression line**"
   ]
  },
  {
   "cell_type": "markdown",
   "metadata": {},
   "source": [
    "### Linear Relationships\n",
    "* Given a Fahrenheit temperature, we can calculate the corresponding Celsius temperature using:\n",
    ">```python\n",
    "c = 5 / 9 * (f - 32)\n",
    "```\n",
    "* `f` (the Fahrenheit temperature) is the _independent variable_\n",
    "* `c` (the Celsius temperature) is the _dependent variable_\n",
    "* Each value of `c` _depends on_ the value of `f` used in the calculation"
   ]
  },
  {
   "cell_type": "markdown",
   "metadata": {},
   "source": [
    "### Linear Relationships (cont.)\n",
    "* Plotting Fahrenheit temperatures and their corresponding Celsius temperatures produces a straight line"
   ]
  },
  {
   "cell_type": "code",
   "execution_count": null,
   "metadata": {},
   "outputs": [],
   "source": [
    "# enable high-res images in notebook \n",
    "%config InlineBackend.figure_format = 'retina'\n",
    "%matplotlib inline\n",
    "c = lambda f: 5 / 9 * (f - 32)"
   ]
  },
  {
   "cell_type": "code",
   "execution_count": null,
   "metadata": {},
   "outputs": [],
   "source": [
    "temps = [(f, c(f)) for f in range(0, 101, 10)]"
   ]
  },
  {
   "cell_type": "markdown",
   "metadata": {},
   "source": [
    "* Place the data in a `DataFrame`, then use its **`plot` method** to display the linear relationship between the temperatures\n",
    "* `style` keyword argument controls the data’s appearance\n",
    "    * `'.-'` indicates that each point should appear as a dot, and that lines should connect the dots"
   ]
  },
  {
   "cell_type": "code",
   "execution_count": null,
   "metadata": {},
   "outputs": [],
   "source": [
    "import pandas as pd"
   ]
  },
  {
   "cell_type": "code",
   "execution_count": null,
   "metadata": {},
   "outputs": [],
   "source": [
    "temps_df = pd.DataFrame(temps, columns=['Fahrenheit', 'Celsius'])"
   ]
  },
  {
   "cell_type": "code",
   "execution_count": null,
   "metadata": {},
   "outputs": [],
   "source": [
    "axes = temps_df.plot(x='Fahrenheit', y='Celsius', style='.-')\n",
    "y_label = axes.set_ylabel('Celsius')"
   ]
  },
  {
   "cell_type": "markdown",
   "metadata": {},
   "source": [
    "### Components of the Simple Linear Regression Equation \n",
    "The points along any straight line can be calculated with:\n",
    "\n",
    "\\begin{equation}\n",
    "y = m x + b\n",
    "\\end{equation}\n",
    "\n",
    "* **_m_** is the line’s **`slope`**,\n",
    "* **_b_** is the line’s **`intercept** with the **_y_-axis** (at **_x_** = 0), \n",
    "* **_x_** is the independent variable (the date in this example)\n",
    "* **_y_** is the dependent variable (the temperature in this example)\n",
    "* In simple linear regression, **_y_** is the _predicted value_ for a given **_x_**"
   ]
  },
  {
   "cell_type": "markdown",
   "metadata": {},
   "source": [
    "### Function `linregress` from the SciPy’s `stats` Module\n",
    "* Simple linear regression determines slope (**_m_**) and intercept (**_b_**) of a straight line that best fits your data\n",
    "* Following diagram shows a few of the time-series data points we’ll process in this section and a corresponding regression line\n",
    "    * We added vertical lines to indicate each data point’s distance from the regression line"
   ]
  },
  {
   "cell_type": "markdown",
   "metadata": {},
   "source": [
    "![A few time series data points and a regression line](ch10images/distance.png \"A few time series data points and a regression line\")"
   ]
  },
  {
   "cell_type": "markdown",
   "metadata": {},
   "source": [
    "### Function `linregress` from the SciPy’s `stats` Module (cont.)\n",
    "* Simple linear regression algorithm iteratively adjusts the slope and intercept and, for each adjustment, calculates the square of each point’s distance from the line\n",
    "* “Best fit” occurs when slope and intercept values minimize sum of those squared distances\n",
    "    * **ordinary least squares** calculation\n",
    "* **SciPy (Scientific Python)** is widely used for engineering, science and math in Python\n",
    "    * **`linregress`** function (from the **`scipy.stats` module**) performs simple linear regression for you"
   ]
  },
  {
   "cell_type": "markdown",
   "metadata": {},
   "source": [
    "### Getting Weather Data from NOAA\n",
    "* The National Oceanic and Atmospheric Administration (NOAA) offers public historical data including time series for average high temperatures in specific cities over various time intervals\n",
    "* Obtained the January average high temperatures for New York City from 1895 through 2018 from NOAA’s “Climate at a Glance” time series at: \n",
    "> https://www.ncdc.noaa.gov/cag/\n",
    "* `ave_hi_nyc_jan_1895-2018.csv` in the `ch10` examples folder\n",
    "* Three columns per observation:\n",
    "    * `Date`—A value of the form `'YYYYMM’` (such as `'201801'`). `MM` is always `01` because we downloaded data for only January of each year. \n",
    "    * `Value`—A floating-point Fahrenheit temperature.\n",
    "    * `Anomaly`—The difference between the value for the given date and average values for all dates (not used in this example)"
   ]
  },
  {
   "cell_type": "markdown",
   "metadata": {},
   "source": [
    "### Loading the Average High Temperatures into a `DataFrame` "
   ]
  },
  {
   "cell_type": "code",
   "execution_count": null,
   "metadata": {},
   "outputs": [],
   "source": [
    "nyc = pd.read_csv('ave_hi_nyc_jan_1895-2018.csv')"
   ]
  },
  {
   "cell_type": "markdown",
   "metadata": {},
   "source": [
    "* Get a sense of the data"
   ]
  },
  {
   "cell_type": "code",
   "execution_count": null,
   "metadata": {},
   "outputs": [],
   "source": [
    "nyc.head()"
   ]
  },
  {
   "cell_type": "code",
   "execution_count": null,
   "metadata": {},
   "outputs": [],
   "source": [
    "nyc.tail()"
   ]
  },
  {
   "cell_type": "markdown",
   "metadata": {},
   "source": [
    "### Cleaning the Data\n",
    "* For readability, rename the `'Value'` column as `'Temperature'`"
   ]
  },
  {
   "cell_type": "code",
   "execution_count": null,
   "metadata": {},
   "outputs": [],
   "source": [
    "nyc.columns = ['Date', 'Temperature', 'Anomaly']"
   ]
  },
  {
   "cell_type": "code",
   "execution_count": null,
   "metadata": {},
   "outputs": [],
   "source": [
    "nyc.head(3)"
   ]
  },
  {
   "cell_type": "markdown",
   "metadata": {},
   "source": [
    "* Seaborn labels the tick marks on the **_x_**-axis with `Date` values\n",
    "* **_x_**-axis labels will be more readable if they do not contain `01` (for January), so we’ll remove it from each `Date`\n",
    "* Check the column’s type:"
   ]
  },
  {
   "cell_type": "code",
   "execution_count": null,
   "metadata": {},
   "outputs": [],
   "source": [
    "nyc.Date.dtype"
   ]
  },
  {
   "cell_type": "markdown",
   "metadata": {},
   "source": [
    "* Values are integers, so we can divide by 100 to truncate the last two digits\n",
    "* `Series` method `floordiv` performs _integer division_ on every element of the `Series`"
   ]
  },
  {
   "cell_type": "code",
   "execution_count": null,
   "metadata": {},
   "outputs": [],
   "source": [
    "nyc.Date = nyc.Date.floordiv(100)"
   ]
  },
  {
   "cell_type": "code",
   "execution_count": null,
   "metadata": {},
   "outputs": [],
   "source": [
    "nyc.head(3)"
   ]
  },
  {
   "cell_type": "markdown",
   "metadata": {},
   "source": [
    "### Calculating Basic Descriptive Statistics for the Dataset\n",
    "* Call `describe` on the `Temperature` column"
   ]
  },
  {
   "cell_type": "code",
   "execution_count": null,
   "metadata": {},
   "outputs": [],
   "source": [
    "pd.set_option('precision', 2)"
   ]
  },
  {
   "cell_type": "code",
   "execution_count": null,
   "metadata": {},
   "outputs": [],
   "source": [
    "nyc.Temperature.describe()"
   ]
  },
  {
   "cell_type": "markdown",
   "metadata": {},
   "source": [
    "### Forecasting Future January Average High Temperatures\n",
    "* **SciPy (Scientific Python) library** widely used for engineering, science and math in Python\n",
    "* **`stats` module** provides function **`linregress`**, which calculates a regression line’s _slope_ and _intercept_ "
   ]
  },
  {
   "cell_type": "code",
   "execution_count": null,
   "metadata": {},
   "outputs": [],
   "source": [
    "from scipy import stats"
   ]
  },
  {
   "cell_type": "code",
   "execution_count": null,
   "metadata": {},
   "outputs": [],
   "source": [
    "linear_regression = stats.linregress(x=nyc.Date,\n",
    "                                     y=nyc.Temperature)"
   ]
  },
  {
   "cell_type": "markdown",
   "metadata": {},
   "source": [
    "* `linregress` receives two one-dimensional arrays of the same length representing the data points’ **_x_**- and **_y_**-coordinates\n",
    "    * `x`and `y` represent the independent and dependent variables, respectively\n",
    "* Returns the regression line’s `slope` and `intercept`"
   ]
  },
  {
   "cell_type": "code",
   "execution_count": null,
   "metadata": {},
   "outputs": [],
   "source": [
    "linear_regression.slope"
   ]
  },
  {
   "cell_type": "code",
   "execution_count": null,
   "metadata": {},
   "outputs": [],
   "source": [
    "linear_regression.intercept"
   ]
  },
  {
   "cell_type": "markdown",
   "metadata": {},
   "source": [
    "* Use these values with the simple linear regression equation for a straight line to predict the average January temperature in New York City for a given year\n",
    "* In the following calculation, `linear_regression.slope` is **_m_**, `2019` is **_x_** (the date value for which you’d like to predict the temperature), and `linear_regression.intercept` is **_b_**:"
   ]
  },
  {
   "cell_type": "code",
   "execution_count": null,
   "metadata": {},
   "outputs": [],
   "source": [
    "linear_regression.slope * 2019 + linear_regression.intercept"
   ]
  },
  {
   "cell_type": "markdown",
   "metadata": {},
   "source": [
    "* Approximate the average temperature for January of 1890:\n"
   ]
  },
  {
   "cell_type": "code",
   "execution_count": null,
   "metadata": {},
   "outputs": [],
   "source": [
    "linear_regression.slope * 1890 + linear_regression.intercept"
   ]
  },
  {
   "cell_type": "markdown",
   "metadata": {},
   "source": [
    "* We had data for 1895–2018\n",
    "* The further you go outside this range, the less reliable the predictions will be "
   ]
  },
  {
   "cell_type": "markdown",
   "metadata": {},
   "source": [
    "### Plotting the Average High Temperatures and a Regression Line\n",
    "* Seaborn’s **`regplot` function** plots each data point with the dates on the **_x_****-axis and the temperatures on the **_y_**-axis\n",
    "* Creates a **scatter plot** or **scattergram** representing the `Temperature`s for the given `Date`s and adds the regression line\n",
    "* Function `regplot`’s `x` and `y` keyword arguments are one-dimensional arrays of the same length representing the **_x-y_** coordinate pairs to plot"
   ]
  },
  {
   "cell_type": "code",
   "execution_count": null,
   "metadata": {},
   "outputs": [],
   "source": [
    "import seaborn as sns"
   ]
  },
  {
   "cell_type": "code",
   "execution_count": null,
   "metadata": {},
   "outputs": [],
   "source": [
    "sns.set_style('whitegrid')"
   ]
  },
  {
   "cell_type": "code",
   "execution_count": null,
   "metadata": {},
   "outputs": [],
   "source": [
    "axes = sns.regplot(x=nyc.Date, y=nyc.Temperature)\n",
    "axes.set_ylim(10, 70)"
   ]
  },
  {
   "cell_type": "markdown",
   "metadata": {},
   "source": [
    "* In this graph, the _y_-axis represents a 21.5-degree temperature range between the minimum of 26.1 and the maximum of 47.6\n",
    "* By default, the data appears to be spread significantly above and below the regression line, making it difficult to see the linear relationship\n",
    "* Common issue in data analytics visualizations\n",
    "* Seaborn and Matplotlib _auto-scale_ the axes, based on the data’s range of values\n",
    "* We scaled the **_y_**-axis range of values to emphasize the linear relationship"
   ]
  },
  {
   "cell_type": "markdown",
   "metadata": {},
   "source": [
    "### Getting Time Series Datasets"
   ]
  },
  {
   "cell_type": "markdown",
   "metadata": {},
   "source": [
    "| Sources time-series dataset\n",
    "| ------------------\n",
    "| https://data.gov/ \n",
    "| This is the U.S. government’s open data portal. Searching for “time series” yields over 7200 time-series datasets.\n",
    "| https://www.ncdc.noaa.gov/cag/`\n",
    "| The National Oceanic and Atmospheric Administration (NOAA) Climate at a Glance portal provides both global and U.S. weather-related time series.\n",
    "| https://www.esrl.noaa.gov/psd/data/timeseries/\n",
    "| NOAA’s Earth System Research Laboratory (ESRL) portal provides monthly and seasonal climate-related time series.\n",
    "| https://www.quandl.com/search\n",
    "| Quandl provides hundreds of free financial-related time series, as well as fee-based time series.\n",
    "| https://datamarket.com/data/list/?q=provider:tsdl\n",
    "| The Time Series Data Library (TSDL) provides links to hundreds of time series datasets across many industries.\n",
    "| http://archive.ics.uci.edu/ml/datasets.html\n",
    "| The University of California Irvine (UCI) Machine Learning Repository contains dozens of time-series datasets for a variety of topics.\n",
    "| http://inforumweb.umd.edu/econdata/econdata.html\n",
    "| The University of Maryland’s EconData service provides links to thousands of economic time series from various U.S. government agencies. "
   ]
  },
  {
   "cell_type": "markdown",
   "metadata": {},
   "source": [
    "------\n",
    "&copy;1992&ndash;2020 by Pearson Education, Inc. All Rights Reserved. This content is based on Chapter 5 of the book [**Intro to Python for Computer Science and Data Science: Learning to Program with AI, Big Data and the Cloud**](https://amzn.to/2VvdnxE).\n",
    "\n",
    "DISCLAIMER: The authors and publisher of this book have used their \n",
    "best efforts in preparing the book. These efforts include the \n",
    "development, research, and testing of the theories and programs \n",
    "to determine their effectiveness. The authors and publisher make \n",
    "no warranty of any kind, expressed or implied, with regard to these \n",
    "programs or to the documentation contained in these books. The authors \n",
    "and publisher shall not be liable in any event for incidental or \n",
    "consequential damages in connection with, or arising out of, the \n",
    "furnishing, performance, or use of these programs.                  "
   ]
  }
 ],
 "metadata": {
  "celltoolbar": "Slideshow",
  "kernelspec": {
   "display_name": "Python 3",
   "language": "python",
   "name": "python3"
  },
  "language_info": {
   "codemirror_mode": {
    "name": "ipython",
    "version": 3
   },
   "file_extension": ".py",
   "mimetype": "text/x-python",
   "name": "python",
   "nbconvert_exporter": "python",
   "pygments_lexer": "ipython3",
   "version": "3.7.7"
  }
 },
 "nbformat": 4,
 "nbformat_minor": 2
}
