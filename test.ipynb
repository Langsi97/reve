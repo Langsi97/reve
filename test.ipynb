{
 "cells": [
  {
   "cell_type": "code",
   "execution_count": 1,
   "metadata": {},
   "outputs": [],
   "source": [
    "import networkx as nx\n",
    "\n",
    "# for drawing\n",
    "import matplotlib.pyplot as plt\n",
    "import pydot\n",
    "from networkx.drawing.nx_pydot import graphviz_layout\n"
   ]
  },
  {
   "cell_type": "code",
   "execution_count": 2,
   "metadata": {},
   "outputs": [],
   "source": [
    "import networkx as nx\n",
    "\n",
    "\n",
    "def general_neighborhood(G, k, x):\n",
    "    # Checking if node x is in the graph G\n",
    "    if x not in G:\n",
    "        # If x is not in G, raise a KeyError with an error message\n",
    "        raise KeyError(f'Oops, there is no node with label \"{x}\" in the graph')\n",
    "\n",
    "    # Using BFS to find nodes within distance k of x\n",
    "    neighbors = {x}  # creating a  set of neighbors with the starting node x\n",
    "    # Initialize a list to keep track of the nodes at each level of BFS\n",
    "    nodes_at_distance = [[x]]\n",
    "    for i in range(k):\n",
    "        #  current level\n",
    "        current_nodes = nodes_at_distance[-1]\n",
    "        # Find the neighbors of the nodes at the current level\n",
    "        next_nodes = set()\n",
    "        for u in current_nodes:\n",
    "            next_nodes.update(set(G[u]))\n",
    "        next_nodes.difference_update(neighbors)\n",
    "        # Add the neighbors to the set of neighbors and the list of nodes at each level\n",
    "        neighbors.update(next_nodes)\n",
    "        nodes_at_distance.append(list(next_nodes))\n",
    "\n",
    "    # Return the list of nodes that are within a distance of at most k from x\n",
    "    return list(neighbors)\n"
   ]
  },
  {
   "cell_type": "code",
   "execution_count": 4,
   "metadata": {},
   "outputs": [
    {
     "name": "stdout",
     "output_type": "stream",
     "text": [
      "[1, 2, 3, 4]\n",
      "[3, 4]\n"
     ]
    },
    {
     "ename": "KeyError",
     "evalue": "'Oops, there is no node with label \"5\" in the graph'",
     "output_type": "error",
     "traceback": [
      "\u001b[1;31m---------------------------------------------------------------------------\u001b[0m",
      "\u001b[1;31mKeyError\u001b[0m                                  Traceback (most recent call last)",
      "Cell \u001b[1;32mIn[4], line 6\u001b[0m\n\u001b[0;32m      4\u001b[0m \u001b[39mprint\u001b[39m(general_neighborhood(G, \u001b[39m1\u001b[39m, \u001b[39m3\u001b[39m))  \u001b[39m# Output: [3, 4, 2]\u001b[39;00m\n\u001b[0;32m      5\u001b[0m \u001b[39m# Raises KeyError: Oops, there is no node with label \"5\" in the graph\u001b[39;00m\n\u001b[1;32m----> 6\u001b[0m \u001b[39mprint\u001b[39m(general_neighborhood(G, \u001b[39m3\u001b[39;49m, \u001b[39m5\u001b[39;49m))\n",
      "Cell \u001b[1;32mIn[2], line 8\u001b[0m, in \u001b[0;36mgeneral_neighborhood\u001b[1;34m(G, k, x)\u001b[0m\n\u001b[0;32m      4\u001b[0m \u001b[39mdef\u001b[39;00m \u001b[39mgeneral_neighborhood\u001b[39m(G, k, x):\n\u001b[0;32m      5\u001b[0m     \u001b[39m# Check if the node x is in the graph G\u001b[39;00m\n\u001b[0;32m      6\u001b[0m     \u001b[39mif\u001b[39;00m x \u001b[39mnot\u001b[39;00m \u001b[39min\u001b[39;00m G:\n\u001b[0;32m      7\u001b[0m         \u001b[39m# If x is not in G, raise a KeyError with an error message\u001b[39;00m\n\u001b[1;32m----> 8\u001b[0m         \u001b[39mraise\u001b[39;00m \u001b[39mKeyError\u001b[39;00m(\u001b[39mf\u001b[39m\u001b[39m'\u001b[39m\u001b[39mOops, there is no node with label \u001b[39m\u001b[39m\"\u001b[39m\u001b[39m{\u001b[39;00mx\u001b[39m}\u001b[39;00m\u001b[39m\"\u001b[39m\u001b[39m in the graph\u001b[39m\u001b[39m'\u001b[39m)\n\u001b[0;32m     10\u001b[0m     \u001b[39m# Use BFS to find nodes within distance k of x\u001b[39;00m\n\u001b[0;32m     11\u001b[0m     neighbors \u001b[39m=\u001b[39m {x}  \u001b[39m# Initialize set of neighbors with the starting node x\u001b[39;00m\n",
      "\u001b[1;31mKeyError\u001b[0m: 'Oops, there is no node with label \"5\" in the graph'"
     ]
    }
   ],
   "source": [
    "G = nx.DiGraph()\n",
    "G.add_edges_from([(1, 2), (1, 3), (2, 3), (3, 4), (4, 2)])\n",
    "print(general_neighborhood(G, 2, 1))  # Output: [1, 2, 3, 4]\n",
    "print(general_neighborhood(G, 1, 3))  # Output: [3, 4, 2]\n",
    "# Raises KeyError: Oops, there is no node with label \"5\" in the graph\n",
    "print(general_neighborhood(G, 3, 5))\n"
   ]
  },
  {
   "cell_type": "code",
   "execution_count": 7,
   "metadata": {},
   "outputs": [
    {
     "name": "stdout",
     "output_type": "stream",
     "text": [
      "[1, 2, 3, 5, 7]\n",
      "[1, 2, 3, 5, 7, 8]\n"
     ]
    },
    {
     "ename": "KeyError",
     "evalue": "'Oops, there is no node with label \"9\" in the graph'",
     "output_type": "error",
     "traceback": [
      "\u001b[1;31m---------------------------------------------------------------------------\u001b[0m",
      "\u001b[1;31mKeyError\u001b[0m                                  Traceback (most recent call last)",
      "Cell \u001b[1;32mIn[7], line 5\u001b[0m\n\u001b[0;32m      3\u001b[0m \u001b[39mprint\u001b[39m(general_neighborhood(G, \u001b[39m2\u001b[39m, \u001b[39m1\u001b[39m)) \n\u001b[0;32m      4\u001b[0m \u001b[39mprint\u001b[39m(general_neighborhood(G, \u001b[39m3\u001b[39m, \u001b[39m1\u001b[39m))\n\u001b[1;32m----> 5\u001b[0m \u001b[39mprint\u001b[39m(general_neighborhood(G, \u001b[39m2\u001b[39;49m, \u001b[39m9\u001b[39;49m))  \n",
      "Cell \u001b[1;32mIn[2], line 8\u001b[0m, in \u001b[0;36mgeneral_neighborhood\u001b[1;34m(G, k, x)\u001b[0m\n\u001b[0;32m      4\u001b[0m \u001b[39mdef\u001b[39;00m \u001b[39mgeneral_neighborhood\u001b[39m(G, k, x):\n\u001b[0;32m      5\u001b[0m     \u001b[39m# Check if the node x is in the graph G\u001b[39;00m\n\u001b[0;32m      6\u001b[0m     \u001b[39mif\u001b[39;00m x \u001b[39mnot\u001b[39;00m \u001b[39min\u001b[39;00m G:\n\u001b[0;32m      7\u001b[0m         \u001b[39m# If x is not in G, raise a KeyError with an error message\u001b[39;00m\n\u001b[1;32m----> 8\u001b[0m         \u001b[39mraise\u001b[39;00m \u001b[39mKeyError\u001b[39;00m(\u001b[39mf\u001b[39m\u001b[39m'\u001b[39m\u001b[39mOops, there is no node with label \u001b[39m\u001b[39m\"\u001b[39m\u001b[39m{\u001b[39;00mx\u001b[39m}\u001b[39;00m\u001b[39m\"\u001b[39m\u001b[39m in the graph\u001b[39m\u001b[39m'\u001b[39m)\n\u001b[0;32m     10\u001b[0m     \u001b[39m# Use BFS to find nodes within distance k of x\u001b[39;00m\n\u001b[0;32m     11\u001b[0m     neighbors \u001b[39m=\u001b[39m {x}  \u001b[39m# Initialize set of neighbors with the starting node x\u001b[39;00m\n",
      "\u001b[1;31mKeyError\u001b[0m: 'Oops, there is no node with label \"9\" in the graph'"
     ]
    }
   ],
   "source": [
    "G = nx.DiGraph()\n",
    "G.add_edges_from([(1, 2), (2, 3), (1,3), (4, 2), (6, 1), (2, 5), (5, 8), (3,7)])\n",
    "print(general_neighborhood(G, 2, 1)) \n",
    "print(general_neighborhood(G, 3, 1))\n",
    "print(general_neighborhood(G, 2, 9))  "
   ]
  }
 ],
 "metadata": {
  "kernelspec": {
   "display_name": "APIP2",
   "language": "python",
   "name": "python3"
  },
  "language_info": {
   "codemirror_mode": {
    "name": "ipython",
    "version": 3
   },
   "file_extension": ".py",
   "mimetype": "text/x-python",
   "name": "python",
   "nbconvert_exporter": "python",
   "pygments_lexer": "ipython3",
   "version": "3.11.0"
  },
  "orig_nbformat": 4
 },
 "nbformat": 4,
 "nbformat_minor": 2
}
