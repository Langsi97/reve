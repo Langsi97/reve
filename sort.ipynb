{
 "cells": [
  {
   "cell_type": "markdown",
   "metadata": {},
   "source": [
    "# 11.7 Linear Search"
   ]
  },
  {
   "cell_type": "markdown",
   "metadata": {},
   "source": [
    "### Linear Search Algorithm (cont.)\n",
    "* Consider \n",
    "> 35 73 90 65 23 86 43 81 34 58\n",
    "* Searching for 86\n",
    "    * Algorithm first checks whether 35 matches the search key\n",
    "    * It does not, so the algorithm checks whether 73 matches the search key\n",
    "    * Continues moving through the array sequentially, testing 90, then 65, then 23\n",
    "    * When the program tests 86, which matches the search key, the program returns the index 5\n",
    "    * If, after checking every array element, the program determines that the search key does not match any element in the array, it returns a sentinel value (e.g., -1)"
   ]
  },
  {
   "cell_type": "markdown",
   "metadata": {
    "tags": []
   },
   "source": [
    "### Linear Search Implementation\n",
    "* `linear_search` linearly searches an array of integers\n",
    "* Receives the array to search (data) and the search_key\n",
    "* The `for` loop iterates through data’s elements and compares each with `search_key`\n",
    "* Returns the index of the matching element or -1"
   ]
  },
  {
   "cell_type": "code",
   "execution_count": null,
   "metadata": {},
   "outputs": [],
   "source": [
    "def linear_search(data, search_key):\n",
    "    for index, value in enumerate(data):\n",
    "        if value == search_key:\n",
    "            return index\n",
    "    return -1"
   ]
  },
  {
   "cell_type": "code",
   "execution_count": null,
   "metadata": {},
   "outputs": [],
   "source": [
    "import numpy as np"
   ]
  },
  {
   "cell_type": "code",
   "execution_count": null,
   "metadata": {},
   "outputs": [],
   "source": [
    "np.random.seed(11)"
   ]
  },
  {
   "cell_type": "code",
   "execution_count": null,
   "metadata": {},
   "outputs": [],
   "source": [
    "values = np.random.randint(10, 91, 10)"
   ]
  },
  {
   "cell_type": "code",
   "execution_count": null,
   "metadata": {},
   "outputs": [],
   "source": [
    "values"
   ]
  },
  {
   "cell_type": "code",
   "execution_count": null,
   "metadata": {},
   "outputs": [],
   "source": [
    "linear_search(values, 23)"
   ]
  },
  {
   "cell_type": "code",
   "execution_count": null,
   "metadata": {},
   "outputs": [],
   "source": [
    "linear_search(values, 61)"
   ]
  },
  {
   "cell_type": "code",
   "execution_count": null,
   "metadata": {},
   "outputs": [],
   "source": [
    "linear_search(values, 34)"
   ]
  },
  {
   "cell_type": "markdown",
   "metadata": {},
   "source": [
    "# 11.9.1 Binary Search Implementation"
   ]
  },
  {
   "cell_type": "markdown",
   "metadata": {},
   "source": [
    "### Function `binary_search` \n",
    "* Receives as parameters a **sorted** array to search (`data`) and the search key (`key`)\n",
    "* First calculates the low end index, high end index and middle index of the portion of the array that the program is currently searching\n",
    "* Initially, the low end is 0, the high end is the length of the array minus 1 and the middle is the average of these two values\n",
    "* Loops as long as low is less than or equal to high (the search is not complete) and location is equal to -1 (the key has not yet been found)\n",
    "* If the value in the middle element is equal to the key, the loop terminates and the function returns `location` to the caller\n",
    "* Each iteration of the loop eliminates half of the remaining values in the array"
   ]
  },
  {
   "cell_type": "code",
   "execution_count": null,
   "metadata": {},
   "outputs": [],
   "source": [
    "# binarysearch.py\n",
    "\"\"\"Use binary search to locate an item in an array.\"\"\"\n",
    "import numpy as np\n",
    "\n",
    "def binary_search(data, key):\n",
    "    \"\"\"Perform binary search of data looking for key.\"\"\"\n",
    "    low = 0   # low end of search area\n",
    "    high = len(data) - 1  # high end of search area\n",
    "    middle = (low + high + 1) // 2  # middle element index\n",
    "    location = -1  # return value -1 if not found\n",
    "    \n",
    "    # loop to search for element\n",
    "    while low <= high and location == -1:\n",
    "        # print remaining elements of array\n",
    "        print(remaining_elements(data, low, high))\n",
    "\n",
    "        print('   ' * middle, end='')  # output spaces for alignment \n",
    "        print(' * ')  # indicate current middle\n",
    "\n",
    "        # if the element is found at the middle                    \n",
    "        if key == data[middle]:                                   \n",
    "            location = middle  # location is the current middle     \n",
    "        elif key < data[middle]:  # middle element is too high\n",
    "            high = middle - 1  # eliminate the higher half          \n",
    "        else:  # middle element is too low                         \n",
    "            low = middle + 1  # eliminate the lower half            \n",
    "                                                                        \n",
    "        middle = (low + high + 1) // 2  # recalculate the middle\n",
    "\n",
    "    return location  # return location of search key\n",
    "                            "
   ]
  },
  {
   "cell_type": "markdown",
   "metadata": {},
   "source": [
    "### Function `remaining_elements` \n",
    "* Shows the portion of the array being searched"
   ]
  },
  {
   "cell_type": "code",
   "execution_count": null,
   "metadata": {},
   "outputs": [],
   "source": [
    "def remaining_elements(data, low, high):\n",
    "    \"\"\"Display remaining elements of the binary search.\"\"\"\n",
    "    return '   ' * low + ' '.join(str(s) for s in data[low:high + 1])\n",
    "    "
   ]
  },
  {
   "cell_type": "markdown",
   "metadata": {},
   "source": [
    "### Function `main` "
   ]
  },
  {
   "cell_type": "code",
   "execution_count": null,
   "metadata": {},
   "outputs": [],
   "source": [
    "def main():\n",
    "    # create and display array of random values\n",
    "    data = np.random.randint(10, 91, 15)\n",
    "    data.sort()\n",
    "    print(data, '\\n')\n",
    "\n",
    "    search_key = int(input('Enter an integer value (-1 to quit): ')) \n",
    "\n",
    "    # repeatedly input an integer; -1 terminates the program\n",
    "    while search_key != -1:\n",
    "        location = binary_search(data, search_key)  # perform search\n",
    "\n",
    "        if location == -1:  # not found\n",
    "            print(f'{search_key} was not found\\n') \n",
    "        else:\n",
    "            print(f'{search_key} found in position {location}\\n')\n",
    "\n",
    "        search_key = int(input('Enter an integer value (-1 to quit): '))"
   ]
  },
  {
   "cell_type": "code",
   "execution_count": null,
   "metadata": {},
   "outputs": [],
   "source": [
    "# call main to execte the search \n",
    "main()"
   ]
  },
  {
   "cell_type": "markdown",
   "metadata": {},
   "source": [
    "# 11.11 Selection Sort\n",
    "* A simple, but inefficient, sorting algorithm\n",
    "* First iteration selects the smallest element in the array and swaps it with the first element\n",
    "* Second iteration selects the second-smallest item (which is the smallest item of the remaining elements) and swaps it with the second element\n",
    "* The algorithm continues until the last iteration selects the second-largest element and swaps it with the second-to last index, leaving the largest element in the last index"
   ]
  },
  {
   "cell_type": "code",
   "execution_count": null,
   "metadata": {},
   "outputs": [],
   "source": [
    "# selectionsort.py\n",
    "\"\"\"Sorting an array with selection sort.\"\"\"\n",
    "import numpy as np\n",
    "from ch11utilities import print_pass\n",
    "\n",
    "def selection_sort(data):\n",
    "    \"\"\"Sort array using selection sort.\"\"\"\n",
    "    # loop over len(data) - 1 elements      \n",
    "    for index1 in range(len(data) - 1):\n",
    "        smallest = index1  # first index of remaining array\n",
    "\n",
    "        # loop to find index of smallest element                      \n",
    "        for index2 in range(index1 + 1, len(data)): \n",
    "            if data[index2] < data[smallest]:\n",
    "                smallest = index2\n",
    "                                              \n",
    "        # swap smallest element into position\n",
    "        data[smallest], data[index1] = data[index1], data[smallest]  \n",
    "        print_pass(data, index1 + 1, smallest)\n",
    "        \n"
   ]
  },
  {
   "cell_type": "markdown",
   "metadata": {},
   "source": [
    "### Function `main` "
   ]
  },
  {
   "cell_type": "code",
   "execution_count": null,
   "metadata": {},
   "outputs": [],
   "source": [
    "def main(): \n",
    "    data = np.array([34, 56, 14, 20, 77, 51, 93, 30, 15, 52])\n",
    "    print(f'Unsorted array: {data}\\n')\n",
    "    selection_sort(data) \n",
    "    print(f'\\nSorted array: {data}\\n')"
   ]
  },
  {
   "cell_type": "code",
   "execution_count": null,
   "metadata": {},
   "outputs": [],
   "source": [
    "# call main to run the sort\n",
    "main()"
   ]
  },
  {
   "cell_type": "markdown",
   "metadata": {},
   "source": [
    "## 11.11.2 Utility Function print_pass\n",
    "\n",
    "```python\n",
    "# ch11utilities.py\n",
    "\"\"\"Utility function for printing a pass of the\n",
    "insertion_sort and selection_sort algorithms\"\"\"\n",
    "\n",
    "def print_pass(data, pass_number, index):\n",
    "    \"\"\"Print a pass of the algorithm.\"\"\"\n",
    "    label = f'after pass {pass_number}: '\n",
    "    print(label, end='')\n",
    "\n",
    "    # output elements up to selected item\n",
    "    print(' '.join(str(d) for d in data[:index]),\n",
    "          end=' ' if index != 0 else '')\n",
    "\n",
    "    print(f'{data[index]}* ', end='') # indicate swap with *\n",
    "\n",
    "    # output rest of elements\n",
    "    print(' '.join(str(d) for d in data[index + 1:len(data)]))\n",
    "\n",
    "    # underline elements that are sorted after this pass_number\n",
    "    print(f'{\" \" * len(label)}{\"-- \" * pass_number}')\n",
    "```"
   ]
  },
  {
   "cell_type": "markdown",
   "metadata": {
    "tags": []
   },
   "source": [
    "# 11.12 Insertion Sort\n",
    "* Another simple, but inefficient, sorting algorithm\n"
   ]
  },
  {
   "cell_type": "markdown",
   "metadata": {},
   "source": [
    "### Function `insertion_sort`\n",
    "* In each iteration, variable `insert` holds the value of the element that will be inserted into the sorted portion of the array\n",
    "* Variable move_item keeps track of where to insert the element\n",
    "* The nested `while` loop locates the position where `insert`'s value should be inserted\n",
    "* After the nested loop ends, the next statement inserts the element into place"
   ]
  },
  {
   "cell_type": "code",
   "execution_count": null,
   "metadata": {},
   "outputs": [],
   "source": [
    "# insertionsort.py\n",
    "\"\"\"Sorting an array with insertion sort.\"\"\"\n",
    "import numpy as np\n",
    "from ch11utilities import print_pass\n",
    "\n",
    "def insertion_sort(data):\n",
    "    \"\"\"Sort an array using insertion sort.\"\"\"\n",
    "    # loop over len(data) - 1 elements      \n",
    "    for next in range(1, len(data)):\n",
    "        insert = data[next]  # value to insert \n",
    "        move_item = next  # location to place element\n",
    "\n",
    "        # search for place to put current element         \n",
    "        while move_item > 0 and data[move_item - 1] > insert:  \n",
    "            # shift element right one slot\n",
    "            data[move_item] = data[move_item - 1]         \n",
    "            move_item -= 1                                      \n",
    "                                              \n",
    "        data[move_item] = insert  # place inserted element \n",
    "        print_pass(data, next, move_item)  # output pass of algorithm"
   ]
  },
  {
   "cell_type": "code",
   "execution_count": null,
   "metadata": {},
   "outputs": [],
   "source": [
    "def main(): \n",
    "    data = np.array([34, 56, 14, 20, 77, 51, 93, 30, 15, 52])\n",
    "    print(f'Unsorted array: {data}\\n')\n",
    "    insertion_sort(data) \n",
    "    print(f'\\nSorted array: {data}\\n')"
   ]
  },
  {
   "cell_type": "code",
   "execution_count": null,
   "metadata": {},
   "outputs": [],
   "source": [
    "# call mainto execute the sort\n",
    "main()"
   ]
  },
  {
   "cell_type": "markdown",
   "metadata": {
    "tags": []
   },
   "source": [
    "# 11.13 Merge Sort\n",
    "* An efficient sorting algorithm \n",
    "    * Conceptually more complex than selection sort and insertion sort\n",
    "\n",
    "\n"
   ]
  },
  {
   "cell_type": "code",
   "execution_count": null,
   "metadata": {},
   "outputs": [],
   "source": [
    "def merge_sorted_lists(a, b):\n",
    "    new_list = []\n",
    "    index_a = 0\n",
    "    index_b = 0\n",
    "    while index_a < len(a) and index_b < len(b):\n",
    "        if a[index_a] <= b[index_b]:\n",
    "            new_list.append(a[index_a])\n",
    "            index_a += 1\n",
    "        else:\n",
    "            new_list.append(b[index_b])\n",
    "            index_b += 1\n",
    "    if index_a == len(a):\n",
    "        new_list.extend(b[index_b:])\n",
    "    else:\n",
    "        new_list.extend(a[index_a:])\n",
    "    return new_list\n"
   ]
  },
  {
   "cell_type": "code",
   "execution_count": null,
   "metadata": {},
   "outputs": [],
   "source": [
    "# not so efficient implementation as many copies of l are made\n",
    "# see book for better but more involved implementation\n",
    "def merge_sort(l):\n",
    "    if len(l) > 1:\n",
    "        middle = len(l) // 2\n",
    "        list_a = merge_sort(l[:middle])\n",
    "        list_b = merge_sort(l[middle:])\n",
    "        return merge_sorted_lists(list_a, list_b)\n",
    "    return l\n"
   ]
  },
  {
   "cell_type": "code",
   "execution_count": null,
   "metadata": {},
   "outputs": [],
   "source": [
    "l = [34, 56, 14, 20, 77, 51, 93, 30, 15, 52]\n",
    "merge_sort(l)\n"
   ]
  }
 ],
 "metadata": {
  "celltoolbar": "Slideshow",
  "kernelspec": {
   "display_name": "Python 3 (ipykernel)",
   "language": "python",
   "name": "python3"
  },
  "language_info": {
   "codemirror_mode": {
    "name": "ipython",
    "version": 3
   },
   "file_extension": ".py",
   "mimetype": "text/x-python",
   "name": "python",
   "nbconvert_exporter": "python",
   "pygments_lexer": "ipython3",
   "version": "3.9.9"
  }
 },
 "nbformat": 4,
 "nbformat_minor": 4
}
