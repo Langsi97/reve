{
 "cells": [
  {
   "cell_type": "markdown",
   "id": "27ae5dd6-a02b-40af-b8fa-33f4e1a383fb",
   "metadata": {},
   "source": [
    "See also [https://realpython.com/primer-on-python-decorators/](https://realpython.com/primer-on-python-decorators/)"
   ]
  },
  {
   "cell_type": "markdown",
   "id": "179c3a00-4fc4-4361-909d-0d0fdfa2a75f",
   "metadata": {},
   "source": [
    "# Functions are objects"
   ]
  },
  {
   "cell_type": "code",
   "execution_count": null,
   "id": "b130d02d-6824-4fb0-91db-f2bfb912e489",
   "metadata": {},
   "outputs": [],
   "source": [
    "def greeting():\n",
    "    print(\"Welcome\")"
   ]
  },
  {
   "cell_type": "code",
   "execution_count": null,
   "id": "061fdbce-6caf-4d19-94e5-b3f9d5fc66cb",
   "metadata": {},
   "outputs": [],
   "source": [
    "greeting()"
   ]
  },
  {
   "cell_type": "code",
   "execution_count": null,
   "id": "5f567ad3-5f19-4b8d-a37a-8f3597b27c96",
   "metadata": {},
   "outputs": [],
   "source": [
    "def wrap_pre_post(f):\n",
    "    print(\"pre message\")\n",
    "    f()\n",
    "    print(\"post message\")"
   ]
  },
  {
   "cell_type": "code",
   "execution_count": null,
   "id": "ea442985-2e06-47d3-9776-56ac816ec5d4",
   "metadata": {},
   "outputs": [],
   "source": [
    "wrap_pre_post(greeting)"
   ]
  },
  {
   "cell_type": "markdown",
   "id": "f0ad0ff1-4123-42ac-abc0-5bca0e6fa1d2",
   "metadata": {},
   "source": [
    "# Function returning a function"
   ]
  },
  {
   "cell_type": "code",
   "execution_count": null,
   "id": "1ed9517f-ea90-424f-9ae2-f2022b529330",
   "metadata": {},
   "outputs": [],
   "source": [
    "def my_decorator(f):\n",
    "\n",
    "    # inner function\n",
    "    def wrapper_pre_post():\n",
    "        print(\"pre message\")\n",
    "        f()\n",
    "        print(\"post message\")\n",
    "        \n",
    "    return wrapper_pre_post"
   ]
  },
  {
   "cell_type": "code",
   "execution_count": null,
   "id": "1432bbec-41dd-4c75-8a48-ff7ddfe0e0be",
   "metadata": {},
   "outputs": [],
   "source": [
    "greeting = my_decorator(greeting)"
   ]
  },
  {
   "cell_type": "code",
   "execution_count": null,
   "id": "376e963b-8c3a-4138-8f01-6831ccc83528",
   "metadata": {},
   "outputs": [],
   "source": [
    "greeting()"
   ]
  },
  {
   "cell_type": "code",
   "execution_count": null,
   "id": "be074a82-e9ee-458b-bbeb-4297c6804c70",
   "metadata": {},
   "outputs": [],
   "source": [
    "def new_greeting():\n",
    "    print(\"I like decorating\")"
   ]
  },
  {
   "cell_type": "code",
   "execution_count": null,
   "id": "b70f1df1-3dee-4610-bdf3-0617826e618c",
   "metadata": {},
   "outputs": [],
   "source": [
    "new_greeting()"
   ]
  },
  {
   "cell_type": "code",
   "execution_count": null,
   "id": "5e75e9e4-1926-4158-bf76-caa63bdce169",
   "metadata": {},
   "outputs": [],
   "source": [
    "@my_decorator\n",
    "def new_greeting():\n",
    "    print(\"I like decorating\")"
   ]
  },
  {
   "cell_type": "code",
   "execution_count": null,
   "id": "c51c4125-ac47-4c41-bb00-d78a72db1679",
   "metadata": {},
   "outputs": [],
   "source": [
    "new_greeting()"
   ]
  },
  {
   "cell_type": "markdown",
   "id": "103d1c79-2dfd-429b-bb63-f9a207a9577b",
   "metadata": {},
   "source": [
    "### What is happening here?\n",
    "```python\n",
    "@my_decorator\n",
    "def new_greeting():\n",
    "    print(\"I like decorating\")\n",
    "```\n",
    "is a shorthand for\n",
    "```python\n",
    "new_greeting = my_decorator(new_greeting)\n",
    "```"
   ]
  },
  {
   "cell_type": "markdown",
   "id": "582fea17-2574-4d57-b52f-cf1e3dee03ff",
   "metadata": {},
   "source": [
    "# property decorator"
   ]
  },
  {
   "cell_type": "markdown",
   "id": "575b0cfa-2934-46b8-9dab-fbc83bfad962",
   "metadata": {},
   "source": [
    "```python\n",
    "@property\n",
    "def name(self):\n",
    "    return self._name\n",
    "```\n",
    "\n",
    "`@property` registers function `name` as an attribute"
   ]
  },
  {
   "cell_type": "markdown",
   "id": "7b459feb-c78a-4a6b-bcdd-e5cb4556aa83",
   "metadata": {},
   "source": [
    "```python\n",
    "@name.setter\n",
    "def name(self, name):\n",
    "    self._name = name\n",
    "```\n",
    "\n",
    "`@name.setter` registers function `name` as a setter function."
   ]
  },
  {
   "cell_type": "code",
   "execution_count": null,
   "id": "82af7a22-6f7d-42d7-9973-5e24f8bfca1d",
   "metadata": {},
   "outputs": [],
   "source": []
  },
  {
   "cell_type": "code",
   "execution_count": null,
   "id": "16bd3cee-88eb-4ee0-8227-2e66ecbf0c23",
   "metadata": {},
   "outputs": [],
   "source": []
  }
 ],
 "metadata": {
  "kernelspec": {
   "display_name": "Python 3 (ipykernel)",
   "language": "python",
   "name": "python3"
  },
  "language_info": {
   "codemirror_mode": {
    "name": "ipython",
    "version": 3
   },
   "file_extension": ".py",
   "mimetype": "text/x-python",
   "name": "python",
   "nbconvert_exporter": "python",
   "pygments_lexer": "ipython3",
   "version": "3.9.13"
  }
 },
 "nbformat": 4,
 "nbformat_minor": 5
}
