{
 "cells": [
  {
   "cell_type": "code",
   "execution_count": null,
   "metadata": {},
   "outputs": [],
   "source": [
    "def assemble_dna_segments(segments):\n",
    "    # Start with the first segment as the initial sequence\n",
    "    sequence = segments[0]\n",
    "\n",
    "    # Iterate over the remaining segments in order\n",
    "    for segment in segments[1:]:\n",
    "        # Find the maximum overlap between the current sequence and the segment\n",
    "        max_overlap = len(sequence)\n",
    "        while max_overlap > 0:\n",
    "            if segment.startswith(sequence[-max_overlap:]):\n",
    "                break\n",
    "            max_overlap -= 1\n",
    "\n",
    "        # Merge the segment with the current sequence using the maximum overlap\n",
    "        sequence += segment[max_overlap:]\n",
    "\n",
    "    # Return the final sequence\n",
    "    return sequence\n"
   ]
  },
  {
   "cell_type": "code",
   "execution_count": null,
   "metadata": {},
   "outputs": [],
   "source": []
  },
  {
   "cell_type": "code",
   "execution_count": null,
   "metadata": {},
   "outputs": [],
   "source": [
    "from collections import defaultdict\n",
    "\n",
    "\n",
    "def debruijn_graph(segments, k):\n",
    "    # Create a defaultdict to store the graph edges\n",
    "    graph = defaultdict(list)\n",
    "\n",
    "    # Iterate over the segments to create k-mers and add them as edges\n",
    "    for segment in segments:\n",
    "        for i in range(len(segment) - k + 1):\n",
    "            kmer = segment[i:i+k]\n",
    "            graph[kmer[:-1]].append(kmer[1:])\n",
    "\n",
    "    # Find the start node (i.e., the node with in-degree 0)\n",
    "    start_node = None\n",
    "    for node in graph:\n",
    "        if not any(kmer == node for successors in graph.values() for kmer in successors):\n",
    "            start_node = node\n",
    "            break\n",
    "\n",
    "    # Traverse the graph from the start node to assemble the sequence\n",
    "    sequence = start_node\n",
    "    while graph[start_node]:\n",
    "        next_node = graph[start_node].pop()\n",
    "        sequence += next_node[-1]\n",
    "        start_node = next_node\n",
    "\n",
    "    # Return the assembled sequence\n",
    "    return sequence\n",
    "\n",
    "\n",
    "# Example usage:\n",
    "segments = [\n",
    "    'TTAATTA',\n",
    "    'ATTACTC',\n",
    "    'ACTCAC',\n",
    "    'TCACTGGCTAA',\n",
    "    'CTAATTACTCACTGG',\n",
    "    'CTGGGT',\n",
    "    'GGGTCACT',\n",
    "    'CACTACGCACTG'\n",
    "]\n",
    "\n",
    "# choose the k-mer length (typically between 20 and 30 for short-read sequencing data)\n",
    "k = 5\n",
    "\n",
    "sequence = debruijn_graph(segments, k)\n",
    "print(sequence)\n",
    "# Output: TTAATTACTCACTGGCTAATTACTCACTGGGTCACTACGCACTG\n"
   ]
  },
  {
   "cell_type": "code",
   "execution_count": null,
   "metadata": {},
   "outputs": [],
   "source": []
  }
 ],
 "metadata": {
  "language_info": {
   "name": "python"
  },
  "orig_nbformat": 4
 },
 "nbformat": 4,
 "nbformat_minor": 2
}
