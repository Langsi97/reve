{
 "cells": [
  {
   "cell_type": "markdown",
   "metadata": {
    "tags": []
   },
   "source": [
    "# 10.13 A Brief Intro to Python 3.7’s New Data Classes\n",
    "* Though named tuples allow you to reference their members by name, they’re still just tuples, not classes\n",
    "* For some of the benefits of named tuples, plus the capabilities that traditional Python classes provide, you can use Python 3.7’s new **data classes** from the Python Standard Library’s **`dataclasses` module**\n",
    "* Help you build classes _faster_ by using more _concise_ notation and by _autogenerating_ “boilerplate” code that’s common in most classes"
   ]
  },
  {
   "cell_type": "markdown",
   "metadata": {},
   "source": [
    "### Data Classes Autogenerate Code \n",
    "* Most classes provide an `__init__` method to create and initialize an object’s attributes and a `__repr__` method to specify an object’s custom string representation\n",
    "* Data classes _autogenerate_ the data attributes and the `__init__` and `__repr__` methods for you\n",
    "* Data classes also can be generated _dynamically_ from a list of field names (like the names of columns in a CSV file)\n",
    "* Data classes autogenerate method **`__eq__`**, which overloads the `==` operator\n",
    "* Any class that has an `__eq__` method also implicitly supports `!=`\n",
    "* Data classes do _not_ automatically generate methods for the `<`, `<=`, `>` and `>=` comparison operators, but they can"
   ]
  }
 ],
 "metadata": {
  "kernelspec": {
   "display_name": "Python 3 (ipykernel)",
   "language": "python",
   "name": "python3"
  },
  "language_info": {
   "codemirror_mode": {
    "name": "ipython",
    "version": 3
   },
   "file_extension": ".py",
   "mimetype": "text/x-python",
   "name": "python",
   "nbconvert_exporter": "python",
   "pygments_lexer": "ipython3",
   "version": "3.9.13"
  }
 },
 "nbformat": 4,
 "nbformat_minor": 4
}
