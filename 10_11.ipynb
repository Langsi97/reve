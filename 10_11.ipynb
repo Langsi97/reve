{
 "cells": [
  {
   "cell_type": "markdown",
   "metadata": {
    "tags": []
   },
   "source": [
    "# 10.11 Exception Class Hierarchy and Custom Exceptions\n",
    "* Every exception is an object of a class in Python’s exception class hierarchy or an object of a class that inherits from one of those classes\n",
    "* Exception classes inherit directly or indirectly from base class `BaseException` and are defined in module **`exceptions`** \n",
    "* Four primary `BaseException` subclasses\n",
    "    * `SystemExit` terminates program execution (or terminates an interactive session) and when uncaught does not produce a traceback like other exception types \n",
    "    * `KeyboardInterrupt` exceptions occur when the user types the interrupt command—_Ctrl_ + _C)_ (or _control_ + _C_) on most systems\n",
    "    * `GeneratorExit` exceptions occur when a generator closes—normally when a generator finishes producing values or when its `close` method is called explicitly\n",
    "    * `Exception` is the base class for most common exceptions you’ll encounter. "
   ]
  },
  {
   "cell_type": "markdown",
   "metadata": {},
   "source": [
    "### Catching Base-Class Exceptions\n",
    "* An `except` handler can catch exceptions of a particular type or can use a base-class type to catch those base-class exceptions and all related subclass exceptions"
   ]
  },
  {
   "cell_type": "markdown",
   "metadata": {},
   "source": [
    "### Custom Exception Classes\n",
    "* When you raise an exception from your code, you should generally use one of the existing exception classes from the Python Standard Library\n",
    "* Can create your own custom exception classes that derive directly or indirectly from class `Exception`\n",
    "* Before creating custom exception classes, look for an appropriate existing exception class in the Python exception hierarchy"
   ]
  },
  {
   "cell_type": "code",
   "execution_count": null,
   "metadata": {},
   "outputs": [],
   "source": [
    "class SalaryNotInRangeError(Exception):\n",
    "    \"\"\"Exception raised for errors in the input salary.\n",
    "\n",
    "    Attributes:\n",
    "        salary -- input salary which caused the error\n",
    "        message -- explanation of the error\n",
    "    \"\"\"\n",
    "\n",
    "    def __init__(self, salary, message=\"Salary is not in (5000, 15000) range\"):\n",
    "        self.salary = salary\n",
    "        self.message = message\n",
    "        super().__init__(self.message)\n",
    "\n",
    "        \n",
    "    #def __str__(self):\n",
    "    #    return f'{self.salary} -> {self.message}'        \n",
    "\n",
    "salary = int(input(\"Enter salary amount: \"))\n",
    "if not 5000 < salary < 15000:\n",
    "    raise SalaryNotInRangeError(salary)"
   ]
  },
  {
   "cell_type": "code",
   "execution_count": null,
   "metadata": {},
   "outputs": [],
   "source": []
  }
 ],
 "metadata": {
  "kernelspec": {
   "display_name": "Python 3 (ipykernel)",
   "language": "python",
   "name": "python3"
  },
  "language_info": {
   "codemirror_mode": {
    "name": "ipython",
    "version": 3
   },
   "file_extension": ".py",
   "mimetype": "text/x-python",
   "name": "python",
   "nbconvert_exporter": "python",
   "pygments_lexer": "ipython3",
   "version": "3.9.7"
  }
 },
 "nbformat": 4,
 "nbformat_minor": 4
}
