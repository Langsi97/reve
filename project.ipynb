{
 "cells": [
  {
   "cell_type": "code",
   "execution_count": 1,
   "metadata": {},
   "outputs": [],
   "source": [
    "import pandas as pd\n"
   ]
  },
  {
   "cell_type": "code",
   "execution_count": 3,
   "metadata": {},
   "outputs": [
    {
     "name": "stdout",
     "output_type": "stream",
     "text": [
      "    1  1.1  0  0.1  0.2  1.2\n",
      "0   1    2  0    0    0    1\n",
      "1   1    3  1    0    0    0\n",
      "2   1    4  1    0    0    0\n",
      "3   1    5  0    0    0    1\n",
      "4   1    6  0    0    0    1\n",
      ".. ..  ... ..  ...  ...  ...\n",
      "66  8    8  0    1    0    0\n",
      "67  8    9  1    0    0    0\n",
      "68  8   10  0    1    0    0\n",
      "69  8   11  0    0    0    1\n",
      "70  8   12  0    0    1    0\n",
      "\n",
      "[71 rows x 6 columns]\n"
     ]
    }
   ],
   "source": [
    "df = pd.read_csv(r'C:\\Users\\langsi\\Desktop\\files\\DNA_1_5.csv')\n",
    "print(df)\n"
   ]
  }
 ],
 "metadata": {
  "kernelspec": {
   "display_name": "APIP2",
   "language": "python",
   "name": "python3"
  },
  "language_info": {
   "codemirror_mode": {
    "name": "ipython",
    "version": 3
   },
   "file_extension": ".py",
   "mimetype": "text/x-python",
   "name": "python",
   "nbconvert_exporter": "python",
   "pygments_lexer": "ipython3",
   "version": "3.11.0"
  },
  "orig_nbformat": 4
 },
 "nbformat": 4,
 "nbformat_minor": 2
}
